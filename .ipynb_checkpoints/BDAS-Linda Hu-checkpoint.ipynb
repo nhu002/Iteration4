{
 "cells": [
  {
   "cell_type": "code",
   "execution_count": 1,
   "metadata": {},
   "outputs": [],
   "source": [
    "import findspark\n",
    "findspark.init(\"/home/ubuntu/spark-2.1.1-bin-hadoop2.7\")\n",
    "import pyspark\n",
    "from pyspark.sql import SparkSession\n",
    "spark = SparkSession.builder.appName('BDAS-Linda').getOrCreate()\n",
    "\n",
    "from functools import reduce\n",
    "from pyspark.sql import DataFrame\n"
   ]
  },
  {
   "cell_type": "code",
   "execution_count": 3,
   "metadata": {},
   "outputs": [
    {
     "data": {
      "text/plain": [
       "['Students Number',\n",
       " 'Year: As at 1 July',\n",
       " 'Student: Ethnicity',\n",
       " 'Student: Year level',\n",
       " 'Student: Year level (Grouped)',\n",
       " 'Student: Maori Language Immersion Level',\n",
       " 'Student: Maori Language in Education level',\n",
       " 'School: ID',\n",
       " 'School: Maori Language Descriptor',\n",
       " 'School: Medium',\n",
       " 'School: Highest Maori Language Immersion Level',\n",
       " 'School: Name',\n",
       " 'School: Sector',\n",
       " 'School: Type',\n",
       " 'School: Authority',\n",
       " 'School: Decile',\n",
       " 'School: Gender',\n",
       " 'School: Affiliation Type',\n",
       " 'School: Affiliation',\n",
       " 'School: Definition',\n",
       " 'School: Kura Type',\n",
       " 'Region: Education Region',\n",
       " 'Region: Regional Council',\n",
       " 'Region: Territorial Authority',\n",
       " 'Region: TA with Auckland wards',\n",
       " 'Region: TA with Auckland local boards',\n",
       " 'Region: MOE Local office',\n",
       " 'Region: Census area unit',\n",
       " 'Region: Ward']"
      ]
     },
     "execution_count": 3,
     "metadata": {},
     "output_type": "execute_result"
    }
   ],
   "source": [
    "# import Maori language in education datasets\n",
    "filename1 = \"./Maori-Language-Learning-Student-Numbers-by-Ethnicity-2004-2008.csv\"\n",
    "filename2 = \"./Maori-Language-Learning-Student-Numbers-by-Ethnicity-2009-2013.csv\"\n",
    "filename3 = \"./Maori-Language-Learning-Student-Numbers-by-Ethnicity-2014-2018.csv\"\n",
    "filename4 = \"./Maori-Language-Learning-Student-Numbers-by-Ethnicity-2019.csv\"\n",
    "MLLSN1=spark.read.csv(filename1, inferSchema=True, header=\"true\")\n",
    "MLLSN2=spark.read.csv(filename2, inferSchema=True, header=\"true\")\n",
    "MLLSN3=spark.read.csv(filename3, inferSchema=True, header=\"true\")\n",
    "MLLSN4=spark.read.csv(filename4, inferSchema=True, header=\"true\")\n",
    "\n",
    "def unionAll(*dfs):\n",
    "    return reduce(DataFrame.unionAll, dfs)\n",
    "\n",
    "MLLSN=unionAll(MLLSN1,MLLSN2,MLLSN3,MLLSN4)\n",
    "MLLSN.columns"
   ]
  },
  {
   "cell_type": "code",
   "execution_count": 4,
   "metadata": {},
   "outputs": [
    {
     "data": {
      "text/plain": [
       "['TA with Auckland Local Board',\n",
       " 'Year at 30 June',\n",
       " 'Euro-all-ages',\n",
       " 'Euro-5-9',\n",
       " 'Euro-10-14',\n",
       " 'Euro-15-19',\n",
       " 'Maori-all-ages',\n",
       " 'Maori-5-9',\n",
       " 'Maori-10-14',\n",
       " 'Maori-15-19',\n",
       " 'Asian-all-ages',\n",
       " 'Asian-5-9',\n",
       " 'Asian-10-14',\n",
       " 'Asian-15-19',\n",
       " 'Pacific-all-ages',\n",
       " 'Pacific-5-9',\n",
       " 'Pacific-10-14',\n",
       " 'Pacific-15-19',\n",
       " 'Total-all-ages',\n",
       " 'Total-5-9',\n",
       " 'Total-10-14',\n",
       " 'Total-15-19']"
      ]
     },
     "execution_count": 4,
     "metadata": {},
     "output_type": "execute_result"
    }
   ],
   "source": [
    "# import population data\n",
    "filename = \"./Subnational-ethnic-population-projections-2013base.csv\"\n",
    "POP=spark.read.csv(filename, inferSchema=True, header=\"true\")\n",
    "POP.columns"
   ]
  },
  {
   "cell_type": "code",
   "execution_count": 5,
   "metadata": {},
   "outputs": [
    {
     "data": {
      "text/plain": [
       "624768"
      ]
     },
     "execution_count": 5,
     "metadata": {},
     "output_type": "execute_result"
    }
   ],
   "source": [
    "MLLSN.count()"
   ]
  },
  {
   "cell_type": "code",
   "execution_count": 6,
   "metadata": {},
   "outputs": [
    {
     "name": "stdout",
     "output_type": "stream",
     "text": [
      "root\n",
      " |-- Students Number: integer (nullable = true)\n",
      " |-- Year: As at 1 July: integer (nullable = true)\n",
      " |-- Student: Ethnicity: string (nullable = true)\n",
      " |-- Student: Year level: string (nullable = true)\n",
      " |-- Student: Year level (Grouped): string (nullable = true)\n",
      " |-- Student: Maori Language Immersion Level: string (nullable = true)\n",
      " |-- Student: Maori Language in Education level: string (nullable = true)\n",
      " |-- School: ID: integer (nullable = true)\n",
      " |-- School: Maori Language Descriptor: string (nullable = true)\n",
      " |-- School: Medium: string (nullable = true)\n",
      " |-- School: Highest Maori Language Immersion Level: string (nullable = true)\n",
      " |-- School: Name: string (nullable = true)\n",
      " |-- School: Sector: string (nullable = true)\n",
      " |-- School: Type: string (nullable = true)\n",
      " |-- School: Authority: string (nullable = true)\n",
      " |-- School: Decile: string (nullable = true)\n",
      " |-- School: Gender: string (nullable = true)\n",
      " |-- School: Affiliation Type: string (nullable = true)\n",
      " |-- School: Affiliation: string (nullable = true)\n",
      " |-- School: Definition: string (nullable = true)\n",
      " |-- School: Kura Type: string (nullable = true)\n",
      " |-- Region: Education Region: string (nullable = true)\n",
      " |-- Region: Regional Council: string (nullable = true)\n",
      " |-- Region: Territorial Authority: string (nullable = true)\n",
      " |-- Region: TA with Auckland wards: string (nullable = true)\n",
      " |-- Region: TA with Auckland local boards: string (nullable = true)\n",
      " |-- Region: MOE Local office: string (nullable = true)\n",
      " |-- Region: Census area unit: string (nullable = true)\n",
      " |-- Region: Ward: string (nullable = true)\n",
      "\n"
     ]
    }
   ],
   "source": [
    "MLLSN.printSchema()"
   ]
  },
  {
   "cell_type": "code",
   "execution_count": 7,
   "metadata": {},
   "outputs": [
    {
     "data": {
      "text/plain": [
       "528"
      ]
     },
     "execution_count": 7,
     "metadata": {},
     "output_type": "execute_result"
    }
   ],
   "source": [
    "POP.count()"
   ]
  },
  {
   "cell_type": "code",
   "execution_count": 8,
   "metadata": {},
   "outputs": [
    {
     "name": "stdout",
     "output_type": "stream",
     "text": [
      "root\n",
      " |-- TA with Auckland Local Board: string (nullable = true)\n",
      " |-- Year at 30 June: integer (nullable = true)\n",
      " |-- Euro-all-ages: integer (nullable = true)\n",
      " |-- Euro-5-9: integer (nullable = true)\n",
      " |-- Euro-10-14: integer (nullable = true)\n",
      " |-- Euro-15-19: integer (nullable = true)\n",
      " |-- Maori-all-ages: integer (nullable = true)\n",
      " |-- Maori-5-9: integer (nullable = true)\n",
      " |-- Maori-10-14: integer (nullable = true)\n",
      " |-- Maori-15-19: integer (nullable = true)\n",
      " |-- Asian-all-ages: integer (nullable = true)\n",
      " |-- Asian-5-9: integer (nullable = true)\n",
      " |-- Asian-10-14: integer (nullable = true)\n",
      " |-- Asian-15-19: integer (nullable = true)\n",
      " |-- Pacific-all-ages: integer (nullable = true)\n",
      " |-- Pacific-5-9: integer (nullable = true)\n",
      " |-- Pacific-10-14: integer (nullable = true)\n",
      " |-- Pacific-15-19: integer (nullable = true)\n",
      " |-- Total-all-ages: integer (nullable = true)\n",
      " |-- Total-5-9: integer (nullable = true)\n",
      " |-- Total-10-14: integer (nullable = true)\n",
      " |-- Total-15-19: integer (nullable = true)\n",
      "\n"
     ]
    }
   ],
   "source": [
    "POP.printSchema()"
   ]
  },
  {
   "cell_type": "code",
   "execution_count": 9,
   "metadata": {},
   "outputs": [
    {
     "name": "stdout",
     "output_type": "stream",
     "text": [
      "+---------------+------------------+------------------+-------------------+-----------------------------+---------------------------------------+------------------------------------------+----------+---------------------------------+--------------------+----------------------------------------------+--------------------+--------------+--------------------+--------------------+--------------+--------------+------------------------+-------------------+------------------+-----------------+------------------------+------------------------+-----------------------------+------------------------------+-------------------------------------+------------------------+------------------------+--------------------+\n",
      "|Students Number|Year: As at 1 July|Student: Ethnicity|Student: Year level|Student: Year level (Grouped)|Student: Maori Language Immersion Level|Student: Maori Language in Education level|School: ID|School: Maori Language Descriptor|      School: Medium|School: Highest Maori Language Immersion Level|        School: Name|School: Sector|        School: Type|   School: Authority|School: Decile|School: Gender|School: Affiliation Type|School: Affiliation|School: Definition|School: Kura Type|Region: Education Region|Region: Regional Council|Region: Territorial Authority|Region: TA with Auckland wards|Region: TA with Auckland local boards|Region: MOE Local office|Region: Census area unit|        Region: Ward|\n",
      "+---------------+------------------+------------------+-------------------+-----------------------------+---------------------------------------+------------------------------------------+----------+---------------------------------+--------------------+----------------------------------------------+--------------------+--------------+--------------------+--------------------+--------------+--------------+------------------------+-------------------+------------------+-----------------+------------------------+------------------------+-----------------------------+------------------------------+-------------------------------------+------------------------+------------------------+--------------------+\n",
      "|              1|              2004|             Maori|             Year 1|           Primary (Year 1-8)|                       Level 1: 81-100%|                              Maori medium|         6|             Mixed Maori langu...|English and Maori...|                              Level 1: 81-100%|Broadwood Area Sc...|     Composite|Composite (Year 1...|State: Not integr...|      Decile 2|         Co-Ed|          No Affiliation|     Not Applicable|    Not Applicable|Not a Kura School|             Tai Tokerau|        Northland Region|           Far North District|            Far North District|                   Far North District|               Whangarei|          Hokianga North|Kaikohe-Hokianga ...|\n",
      "|              3|              2004|             Maori|             Year 2|           Primary (Year 1-8)|                       Level 1: 81-100%|                              Maori medium|         6|             Mixed Maori langu...|English and Maori...|                              Level 1: 81-100%|Broadwood Area Sc...|     Composite|Composite (Year 1...|State: Not integr...|      Decile 2|         Co-Ed|          No Affiliation|     Not Applicable|    Not Applicable|Not a Kura School|             Tai Tokerau|        Northland Region|           Far North District|            Far North District|                   Far North District|               Whangarei|          Hokianga North|Kaikohe-Hokianga ...|\n",
      "|              3|              2004|             Maori|             Year 3|           Primary (Year 1-8)|                       Level 1: 81-100%|                              Maori medium|         6|             Mixed Maori langu...|English and Maori...|                              Level 1: 81-100%|Broadwood Area Sc...|     Composite|Composite (Year 1...|State: Not integr...|      Decile 2|         Co-Ed|          No Affiliation|     Not Applicable|    Not Applicable|Not a Kura School|             Tai Tokerau|        Northland Region|           Far North District|            Far North District|                   Far North District|               Whangarei|          Hokianga North|Kaikohe-Hokianga ...|\n",
      "|              2|              2004|             Maori|             Year 4|           Primary (Year 1-8)|                       Level 1: 81-100%|                              Maori medium|         6|             Mixed Maori langu...|English and Maori...|                              Level 1: 81-100%|Broadwood Area Sc...|     Composite|Composite (Year 1...|State: Not integr...|      Decile 2|         Co-Ed|          No Affiliation|     Not Applicable|    Not Applicable|Not a Kura School|             Tai Tokerau|        Northland Region|           Far North District|            Far North District|                   Far North District|               Whangarei|          Hokianga North|Kaikohe-Hokianga ...|\n",
      "|              3|              2004|             Maori|             Year 6|           Primary (Year 1-8)|                       Level 1: 81-100%|                              Maori medium|         6|             Mixed Maori langu...|English and Maori...|                              Level 1: 81-100%|Broadwood Area Sc...|     Composite|Composite (Year 1...|State: Not integr...|      Decile 2|         Co-Ed|          No Affiliation|     Not Applicable|    Not Applicable|Not a Kura School|             Tai Tokerau|        Northland Region|           Far North District|            Far North District|                   Far North District|               Whangarei|          Hokianga North|Kaikohe-Hokianga ...|\n",
      "|              1|              2004|             Maori|             Year 9|          Secondary (Year 9+)|                       Level 1: 81-100%|                              Maori medium|         8|             School with some ...|English and Maori...|                              Level 1: 81-100%|Bay of Islands Co...|     Secondary|Secondary (Year 9...|State: Not integr...|      Decile 2|         Co-Ed|          No Affiliation|     Not Applicable|    Not Applicable|Not a Kura School|             Tai Tokerau|        Northland Region|           Far North District|            Far North District|                   Far North District|               Whangarei|                Kawakawa|Bay of Islands-Wh...|\n",
      "|              5|              2004|             Maori|            Year 10|          Secondary (Year 9+)|                       Level 1: 81-100%|                              Maori medium|         8|             School with some ...|English and Maori...|                              Level 1: 81-100%|Bay of Islands Co...|     Secondary|Secondary (Year 9...|State: Not integr...|      Decile 2|         Co-Ed|          No Affiliation|     Not Applicable|    Not Applicable|Not a Kura School|             Tai Tokerau|        Northland Region|           Far North District|            Far North District|                   Far North District|               Whangarei|                Kawakawa|Bay of Islands-Wh...|\n",
      "|              2|              2004|             Maori|            Year 11|          Secondary (Year 9+)|                       Level 1: 81-100%|                              Maori medium|         8|             School with some ...|English and Maori...|                              Level 1: 81-100%|Bay of Islands Co...|     Secondary|Secondary (Year 9...|State: Not integr...|      Decile 2|         Co-Ed|          No Affiliation|     Not Applicable|    Not Applicable|Not a Kura School|             Tai Tokerau|        Northland Region|           Far North District|            Far North District|                   Far North District|               Whangarei|                Kawakawa|Bay of Islands-Wh...|\n",
      "|              1|              2004|             Maori|            Year 12|          Secondary (Year 9+)|                       Level 1: 81-100%|                              Maori medium|         8|             School with some ...|English and Maori...|                              Level 1: 81-100%|Bay of Islands Co...|     Secondary|Secondary (Year 9...|State: Not integr...|      Decile 2|         Co-Ed|          No Affiliation|     Not Applicable|    Not Applicable|Not a Kura School|             Tai Tokerau|        Northland Region|           Far North District|            Far North District|                   Far North District|               Whangarei|                Kawakawa|Bay of Islands-Wh...|\n",
      "|              2|              2004|             Maori|             Year 1|           Primary (Year 1-8)|                       Level 1: 81-100%|                              Maori medium|        10|             Mixed Maori langu...|English and Maori...|                              Level 1: 81-100%|Te Kura Taumata o...|     Composite|Composite (Year 1...|State: Not integr...|      Decile 1|         Co-Ed|          No Affiliation|     Not Applicable|    Not Applicable|Not a Kura School|             Tai Tokerau|        Northland Region|           Far North District|            Far North District|                   Far North District|               Whangarei|          Hokianga North|Kaikohe-Hokianga ...|\n",
      "|              5|              2004|             Maori|             Year 2|           Primary (Year 1-8)|                       Level 1: 81-100%|                              Maori medium|        10|             Mixed Maori langu...|English and Maori...|                              Level 1: 81-100%|Te Kura Taumata o...|     Composite|Composite (Year 1...|State: Not integr...|      Decile 1|         Co-Ed|          No Affiliation|     Not Applicable|    Not Applicable|Not a Kura School|             Tai Tokerau|        Northland Region|           Far North District|            Far North District|                   Far North District|               Whangarei|          Hokianga North|Kaikohe-Hokianga ...|\n",
      "|              6|              2004|             Maori|             Year 3|           Primary (Year 1-8)|                       Level 1: 81-100%|                              Maori medium|        10|             Mixed Maori langu...|English and Maori...|                              Level 1: 81-100%|Te Kura Taumata o...|     Composite|Composite (Year 1...|State: Not integr...|      Decile 1|         Co-Ed|          No Affiliation|     Not Applicable|    Not Applicable|Not a Kura School|             Tai Tokerau|        Northland Region|           Far North District|            Far North District|                   Far North District|               Whangarei|          Hokianga North|Kaikohe-Hokianga ...|\n",
      "|              8|              2004|             Maori|             Year 4|           Primary (Year 1-8)|                       Level 1: 81-100%|                              Maori medium|        10|             Mixed Maori langu...|English and Maori...|                              Level 1: 81-100%|Te Kura Taumata o...|     Composite|Composite (Year 1...|State: Not integr...|      Decile 1|         Co-Ed|          No Affiliation|     Not Applicable|    Not Applicable|Not a Kura School|             Tai Tokerau|        Northland Region|           Far North District|            Far North District|                   Far North District|               Whangarei|          Hokianga North|Kaikohe-Hokianga ...|\n",
      "|             10|              2004|             Maori|             Year 5|           Primary (Year 1-8)|                       Level 1: 81-100%|                              Maori medium|        10|             Mixed Maori langu...|English and Maori...|                              Level 1: 81-100%|Te Kura Taumata o...|     Composite|Composite (Year 1...|State: Not integr...|      Decile 1|         Co-Ed|          No Affiliation|     Not Applicable|    Not Applicable|Not a Kura School|             Tai Tokerau|        Northland Region|           Far North District|            Far North District|                   Far North District|               Whangarei|          Hokianga North|Kaikohe-Hokianga ...|\n",
      "|              8|              2004|             Maori|             Year 6|           Primary (Year 1-8)|                       Level 1: 81-100%|                              Maori medium|        10|             Mixed Maori langu...|English and Maori...|                              Level 1: 81-100%|Te Kura Taumata o...|     Composite|Composite (Year 1...|State: Not integr...|      Decile 1|         Co-Ed|          No Affiliation|     Not Applicable|    Not Applicable|Not a Kura School|             Tai Tokerau|        Northland Region|           Far North District|            Far North District|                   Far North District|               Whangarei|          Hokianga North|Kaikohe-Hokianga ...|\n",
      "|             14|              2004|             Maori|             Year 7|           Primary (Year 1-8)|                       Level 1: 81-100%|                              Maori medium|        10|             Mixed Maori langu...|English and Maori...|                              Level 1: 81-100%|Te Kura Taumata o...|     Composite|Composite (Year 1...|State: Not integr...|      Decile 1|         Co-Ed|          No Affiliation|     Not Applicable|    Not Applicable|Not a Kura School|             Tai Tokerau|        Northland Region|           Far North District|            Far North District|                   Far North District|               Whangarei|          Hokianga North|Kaikohe-Hokianga ...|\n",
      "|              9|              2004|             Maori|             Year 8|           Primary (Year 1-8)|                       Level 1: 81-100%|                              Maori medium|        10|             Mixed Maori langu...|English and Maori...|                              Level 1: 81-100%|Te Kura Taumata o...|     Composite|Composite (Year 1...|State: Not integr...|      Decile 1|         Co-Ed|          No Affiliation|     Not Applicable|    Not Applicable|Not a Kura School|             Tai Tokerau|        Northland Region|           Far North District|            Far North District|                   Far North District|               Whangarei|          Hokianga North|Kaikohe-Hokianga ...|\n",
      "|              6|              2004|             Maori|             Year 1|           Primary (Year 1-8)|                       Level 1: 81-100%|                              Maori medium|        11|             School with some ...|English and Maori...|                              Level 1: 81-100%| Opononi Area School|     Composite|Composite (Year 1...|State: Not integr...|      Decile 2|         Co-Ed|          No Affiliation|     Not Applicable|    Not Applicable|Not a Kura School|             Tai Tokerau|        Northland Region|           Far North District|            Far North District|                   Far North District|               Whangarei|     Omapere and Opononi|Kaikohe-Hokianga ...|\n",
      "|              5|              2004|             Maori|             Year 2|           Primary (Year 1-8)|                       Level 1: 81-100%|                              Maori medium|        11|             School with some ...|English and Maori...|                              Level 1: 81-100%| Opononi Area School|     Composite|Composite (Year 1...|State: Not integr...|      Decile 2|         Co-Ed|          No Affiliation|     Not Applicable|    Not Applicable|Not a Kura School|             Tai Tokerau|        Northland Region|           Far North District|            Far North District|                   Far North District|               Whangarei|     Omapere and Opononi|Kaikohe-Hokianga ...|\n",
      "|              2|              2004|             Maori|             Year 3|           Primary (Year 1-8)|                       Level 1: 81-100%|                              Maori medium|        11|             School with some ...|English and Maori...|                              Level 1: 81-100%| Opononi Area School|     Composite|Composite (Year 1...|State: Not integr...|      Decile 2|         Co-Ed|          No Affiliation|     Not Applicable|    Not Applicable|Not a Kura School|             Tai Tokerau|        Northland Region|           Far North District|            Far North District|                   Far North District|               Whangarei|     Omapere and Opononi|Kaikohe-Hokianga ...|\n",
      "+---------------+------------------+------------------+-------------------+-----------------------------+---------------------------------------+------------------------------------------+----------+---------------------------------+--------------------+----------------------------------------------+--------------------+--------------+--------------------+--------------------+--------------+--------------+------------------------+-------------------+------------------+-----------------+------------------------+------------------------+-----------------------------+------------------------------+-------------------------------------+------------------------+------------------------+--------------------+\n",
      "only showing top 20 rows\n",
      "\n"
     ]
    }
   ],
   "source": [
    "MLLSN.show()"
   ]
  },
  {
   "cell_type": "code",
   "execution_count": 10,
   "metadata": {},
   "outputs": [
    {
     "name": "stdout",
     "output_type": "stream",
     "text": [
      "+------------------+\n",
      "|Student: Ethnicity|\n",
      "+------------------+\n",
      "|             Maori|\n",
      "|         Non Maori|\n",
      "+------------------+\n",
      "\n",
      "+-----------------------------+\n",
      "|Student: Year level (Grouped)|\n",
      "+-----------------------------+\n",
      "|          Secondary (Year 9+)|\n",
      "|           Primary (Year 1-8)|\n",
      "+-----------------------------+\n",
      "\n"
     ]
    }
   ],
   "source": [
    "#check unique values in the key attributes\n",
    "MLLSN.select(\"Student: Ethnicity\").distinct().show()\n",
    "MLLSN.select(\"Student: Year level (Grouped)\").distinct().show()"
   ]
  },
  {
   "cell_type": "code",
   "execution_count": 11,
   "metadata": {},
   "outputs": [
    {
     "name": "stdout",
     "output_type": "stream",
     "text": [
      "+---------------------------------------+\n",
      "|Student: Maori Language Immersion Level|\n",
      "+---------------------------------------+\n",
      "|                   Level 4(b): At le...|\n",
      "|                   Level 4(a): up to...|\n",
      "|                   Level 5: Less tha...|\n",
      "|                        Level 3: 31-50%|\n",
      "|                   No Maori language...|\n",
      "|                       Level 1: 81-100%|\n",
      "|                    Level 6: Taha Maori|\n",
      "|                        Level 2: 51-80%|\n",
      "+---------------------------------------+\n",
      "\n",
      "+------------------------------------------+\n",
      "|Student: Maori Language in Education level|\n",
      "+------------------------------------------+\n",
      "|                      Maori Language in...|\n",
      "|                      No Maori language...|\n",
      "|                              Maori medium|\n",
      "+------------------------------------------+\n",
      "\n"
     ]
    }
   ],
   "source": [
    "MLLSN.select(\"Student: Maori Language Immersion Level\").distinct().show()\n",
    "MLLSN.select(\"Student: Maori Language in Education level\").distinct().show()"
   ]
  },
  {
   "cell_type": "code",
   "execution_count": 12,
   "metadata": {},
   "outputs": [
    {
     "name": "stdout",
     "output_type": "stream",
     "text": [
      "+--------------------+\n",
      "|        School: Type|\n",
      "+--------------------+\n",
      "|Kura Teina - Primary|\n",
      "|Restricted Compos...|\n",
      "|      Special School|\n",
      "|Correspondence Sc...|\n",
      "|        Full Primary|\n",
      "|        Intermediate|\n",
      "|    Teen Parent Unit|\n",
      "|Secondary (Year 9...|\n",
      "|Kura Teina - Comp...|\n",
      "|        Contributing|\n",
      "|Secondary (Year 7...|\n",
      "|Composite (Year 1...|\n",
      "+--------------------+\n",
      "\n",
      "+--------------+\n",
      "|School: Sector|\n",
      "+--------------+\n",
      "|     Secondary|\n",
      "|       Special|\n",
      "|     Composite|\n",
      "|       Primary|\n",
      "+--------------+\n",
      "\n"
     ]
    }
   ],
   "source": [
    "MLLSN.select('School: Type').distinct().show()\n",
    "MLLSN.select('School: Sector').distinct().show()"
   ]
  },
  {
   "cell_type": "code",
   "execution_count": 13,
   "metadata": {},
   "outputs": [
    {
     "name": "stdout",
     "output_type": "stream",
     "text": [
      "+----------------------------+---------------+-------------+--------+----------+----------+--------------+---------+-----------+-----------+--------------+---------+-----------+-----------+----------------+-----------+-------------+-------------+--------------+---------+-----------+-----------+\n",
      "|TA with Auckland Local Board|Year at 30 June|Euro-all-ages|Euro-5-9|Euro-10-14|Euro-15-19|Maori-all-ages|Maori-5-9|Maori-10-14|Maori-15-19|Asian-all-ages|Asian-5-9|Asian-10-14|Asian-15-19|Pacific-all-ages|Pacific-5-9|Pacific-10-14|Pacific-15-19|Total-all-ages|Total-5-9|Total-10-14|Total-15-19|\n",
      "+----------------------------+---------------+-------------+--------+----------+----------+--------------+---------+-----------+-----------+--------------+---------+-----------+-----------+----------------+-----------+-------------+-------------+--------------+---------+-----------+-----------+\n",
      "|          Far North district|           2013|        40800|    2750|      2770|      2420|         27100|     2980|       2950|       2510|          1630|      130|        115|        100|            2540|        360|          390|          280|         60600|     4560|       4710|       4140|\n",
      "|          Far North district|           2018|        42600|    3080|      2850|      2020|         28700|     3200|       3070|       2720|          2310|      200|        160|        120|            3110|        480|          390|          400|         62900|     4820|       4730|       3960|\n",
      "|          Far North district|           2023|        43800|    3150|      3150|      2060|         30300|     3050|       3320|       2860|          2920|      270|        220|        150|            3760|        510|          500|          400|         64100|     4470|       4970|       3940|\n",
      "|          Far North district|           2028|        44900|    3310|      3230|      2350|         31800|     3090|       3160|       3120|          3440|      310|        280|        210|            4470|        600|          530|          510|         64900|     4490|       4620|       4180|\n",
      "|          Far North district|           2033|        45700|    3390|      3380|      2430|         33300|     3120|       3210|       2950|          3940|      320|        320|        270|            5280|        710|          620|          530|         65200|     4350|       4630|       3830|\n",
      "|          Far North district|           2038|        46100|    3290|      3470|      2580|         34900|     3200|       3240|       3000|          4430|      320|        330|        310|            6210|        840|          730|          620|         64900|     4110|       4500|       3850|\n",
      "|          Whangarei district|           2013|        67500|    4720|      4470|      4270|         23100|     2680|       2430|       2250|          3230|      230|        240|        240|            2640|        360|          350|          300|         83700|     6200|       5940|       5590|\n",
      "|          Whangarei district|           2018|        71800|    5400|      4870|      4150|         26000|     3210|       2790|       2420|          4850|      380|        300|        300|            3450|        530|          400|          360|         90600|     6930|       6500|       5610|\n",
      "|          Whangarei district|           2023|        74600|    5320|      5490|      4450|         29000|     3100|       3340|       2800|          6140|      540|        420|        330|            4160|        610|          550|          390|         95500|     6540|       7160|       6080|\n",
      "|          Whangarei district|           2028|        76600|    5490|      5380|      5030|         32100|     3270|       3240|       3380|          7110|      570|        550|        430|            4950|        670|          630|          550|         99200|     6710|       6750|       6710|\n",
      "|          Whangarei district|           2033|        78200|    5570|      5540|      4910|         35400|     3470|       3420|       3270|          8050|      570|        590|        560|            5820|        760|          690|          630|        102400|     6730|       6910|       6290|\n",
      "|          Whangarei district|           2038|        79300|    5480|      5620|      5080|         39100|     3760|       3620|       3460|          8970|      560|        580|        600|            6800|        860|          780|          690|        105000|     6630|       6940|       6460|\n",
      "|            Kaipara district|           2013|        17350|    1140|      1150|      1060|          5010|      530|        570|        490|           470|       40|         40|         25|             660|         85|           90|           80|         20500|     1390|       1450|       1320|\n",
      "|            Kaipara district|           2018|        18750|    1210|      1190|       870|          5520|      630|        550|        560|          1050|       90|         80|         60|             860|        140|          100|           95|         22600|     1490|       1490|       1260|\n",
      "|            Kaipara district|           2023|        19350|    1240|      1210|       860|          5950|      630|        650|        530|          1440|      115|        115|         90|            1030|        140|          145|          100|         23600|     1430|       1560|       1250|\n",
      "|            Kaipara district|           2028|        19850|    1300|      1240|       880|          6410|      670|        650|        640|          1730|      120|        130|        120|            1230|        160|          145|          145|         24400|     1500|       1500|       1320|\n",
      "|            Kaipara district|           2033|        20100|    1320|      1310|       910|          6900|      700|        690|        640|          2020|      120|        130|        140|            1450|        190|          165|          145|         24900|     1470|       1560|       1260|\n",
      "|            Kaipara district|           2038|        20100|    1240|      1330|       970|          7420|      740|        730|        680|          2310|      130|        130|        140|            1710|        225|          195|          165|         25200|     1370|       1530|       1320|\n",
      "|                    Auckland|           2013|       886400|   58960|     55640|     57470|        169800|    18670|      16790|      17010|        348900|    21080|      20540|      26840|          227000|      25360|        24480|        23470|       1493200|   102070|      99570|     108750|\n",
      "|                    Auckland|           2018|       946700|   63460|     60280|     56710|        188100|    20250|      18470|      17880|        472700|    28220|      24520|      26340|          252400|      27470|        24810|        24930|       1699900|   110790|     103670|     109130|\n",
      "+----------------------------+---------------+-------------+--------+----------+----------+--------------+---------+-----------+-----------+--------------+---------+-----------+-----------+----------------+-----------+-------------+-------------+--------------+---------+-----------+-----------+\n",
      "only showing top 20 rows\n",
      "\n"
     ]
    }
   ],
   "source": [
    "POP.show()"
   ]
  },
  {
   "cell_type": "code",
   "execution_count": 14,
   "metadata": {},
   "outputs": [
    {
     "name": "stdout",
     "output_type": "stream",
     "text": [
      "+---------------+\n",
      "|Year at 30 June|\n",
      "+---------------+\n",
      "|           2018|\n",
      "|           2023|\n",
      "|           2013|\n",
      "|           2038|\n",
      "|           2033|\n",
      "|           2028|\n",
      "+---------------+\n",
      "\n"
     ]
    }
   ],
   "source": [
    "POP.select('Year at 30 June').distinct().show()"
   ]
  },
  {
   "cell_type": "code",
   "execution_count": 15,
   "metadata": {},
   "outputs": [
    {
     "name": "stdout",
     "output_type": "stream",
     "text": [
      "+---------------+------------------+------------------+-------------------+-----------------------------+---------------------------------------+------------------------------------------+----------+---------------------------------+--------------+----------------------------------------------+------------+--------------+------------+-----------------+--------------+--------------+------------------------+-------------------+------------------+-----------------+------------------------+------------------------+-----------------------------+------------------------------+-------------------------------------+------------------------+------------------------+------------+\n",
      "|Students Number|Year: As at 1 July|Student: Ethnicity|Student: Year level|Student: Year level (Grouped)|Student: Maori Language Immersion Level|Student: Maori Language in Education level|School: ID|School: Maori Language Descriptor|School: Medium|School: Highest Maori Language Immersion Level|School: Name|School: Sector|School: Type|School: Authority|School: Decile|School: Gender|School: Affiliation Type|School: Affiliation|School: Definition|School: Kura Type|Region: Education Region|Region: Regional Council|Region: Territorial Authority|Region: TA with Auckland wards|Region: TA with Auckland local boards|Region: MOE Local office|Region: Census area unit|Region: Ward|\n",
      "+---------------+------------------+------------------+-------------------+-----------------------------+---------------------------------------+------------------------------------------+----------+---------------------------------+--------------+----------------------------------------------+------------+--------------+------------+-----------------+--------------+--------------+------------------------+-------------------+------------------+-----------------+------------------------+------------------------+-----------------------------+------------------------------+-------------------------------------+------------------------+------------------------+------------+\n",
      "|              0|                 0|                 0|                  0|                            0|                                      0|                                         0|         0|                                0|             0|                                             0|           0|             0|           0|                0|             0|             0|                       0|                  0|                 0|                0|                       0|                       0|                            0|                             0|                                    0|                       0|                       0|           0|\n",
      "+---------------+------------------+------------------+-------------------+-----------------------------+---------------------------------------+------------------------------------------+----------+---------------------------------+--------------+----------------------------------------------+------------+--------------+------------+-----------------+--------------+--------------+------------------------+-------------------+------------------+-----------------+------------------------+------------------------+-----------------------------+------------------------------+-------------------------------------+------------------------+------------------------+------------+\n",
      "\n"
     ]
    }
   ],
   "source": [
    "from pyspark.sql.functions import isnan, when, count, col\n",
    "\n",
    "MLLSN.select([count(when(isnan(c),c)).alias(c) for c in MLLSN.columns]).show()"
   ]
  },
  {
   "cell_type": "code",
   "execution_count": 16,
   "metadata": {},
   "outputs": [
    {
     "name": "stdout",
     "output_type": "stream",
     "text": [
      "+---------------+------------------+------------------+-------------------+-----------------------------+---------------------------------------+------------------------------------------+----------+---------------------------------+--------------------+----------------------------------------------+--------------------+--------------+--------------------+--------------------+--------------+---------------+------------------------+-------------------+--------------------+--------------------+------------------------+------------------------+-----------------------------+------------------------------+-------------------------------------+------------------------+------------------------+--------------------+\n",
      "|Students Number|Year: As at 1 July|Student: Ethnicity|Student: Year level|Student: Year level (Grouped)|Student: Maori Language Immersion Level|Student: Maori Language in Education level|School: ID|School: Maori Language Descriptor|      School: Medium|School: Highest Maori Language Immersion Level|        School: Name|School: Sector|        School: Type|   School: Authority|School: Decile| School: Gender|School: Affiliation Type|School: Affiliation|  School: Definition|   School: Kura Type|Region: Education Region|Region: Regional Council|Region: Territorial Authority|Region: TA with Auckland wards|Region: TA with Auckland local boards|Region: MOE Local office|Region: Census area unit|        Region: Ward|\n",
      "+---------------+------------------+------------------+-------------------+-----------------------------+---------------------------------------+------------------------------------------+----------+---------------------------------+--------------------+----------------------------------------------+--------------------+--------------+--------------------+--------------------+--------------+---------------+------------------------+-------------------+--------------------+--------------------+------------------------+------------------------+-----------------------------+------------------------------+-------------------------------------+------------------------+------------------------+--------------------+\n",
      "|             -2|              2008|         Non Maori|            Year 11|          Secondary (Year 9+)|                       Level 1: 81-100%|                              Maori medium|       463|              Maori medium school|        Maori medium|                              Level 1: 81-100%|TKK Motuhake o Ta...|     Composite|Composite (Year 1...|State: Not integr...|      Decile 1|          Co-Ed|          No Affiliation|     Not Applicable|Designated Charac...|Designated Charac...|    Bay of Plenty, Wa...|    Bay of Plenty Region|           Whakatane District|            Whakatane District|                   Whakatane District|                 Rotorua|                Murupara|Galatea-Murupara ...|\n",
      "|             -4|              2007|         Non Maori|            Year 12|          Secondary (Year 9+)|                        Level 2: 51-80%|                              Maori medium|       199|             School with some ...|English and Maori...|                              Level 1: 81-100%|  Hato Paora College|     Secondary|Secondary (Year 9...|   State: Integrated|      Decile 3|Single Sex-Boys|    Religious Affilia...|     Roman Catholic|Secondary Maori B...|   Not a Kura School|    Taranaki, Whangan...|    Manawatu-Whanganu...|            Manawatu District|             Manawatu District|                    Manawatu District|               Whanganui|       Tokorangi-Hiwinui|Kiwitea-Pohangina...|\n",
      "|             -5|              2008|         Non Maori|            Year 14|          Secondary (Year 9+)|                   Level 4(b): At le...|                      Maori Language in...|        42|             School with some ...|      English medium|                          Level 4(b): At le...|Green Bay High Sc...|     Secondary|Secondary (Year 9...|State: Not integr...|      Decile 8|          Co-Ed|          No Affiliation|     Not Applicable|      Not Applicable|   Not a Kura School|                Auckland|         Auckland Region|                     Auckland|           Auckland- Whau Ward|                       Auckland- Whau|          Auckland North|               Green Bay|           Whau Ward|\n",
      "|             -3|              2004|         Non Maori|            Year 11|          Secondary (Year 9+)|                    Level 6: Taha Maori|                      No Maori language...|       165|             School with some ...|      English medium|                          Level 4(b): At le...|   Rangitahi College|     Secondary|Secondary (Year 7...|State: Not integr...|      Decile 1|          Co-Ed|          No Affiliation|     Not Applicable|      Not Applicable|   Not a Kura School|    Bay of Plenty, Wa...|    Bay of Plenty Region|           Whakatane District|            Whakatane District|                   Whakatane District|                 Rotorua|                Murupara|Galatea-Murupara ...|\n",
      "|             -1|              2004|         Non Maori|            Year 12|          Secondary (Year 9+)|                    Level 6: Taha Maori|                      No Maori language...|       165|             School with some ...|      English medium|                          Level 4(b): At le...|   Rangitahi College|     Secondary|Secondary (Year 7...|State: Not integr...|      Decile 1|          Co-Ed|          No Affiliation|     Not Applicable|      Not Applicable|   Not a Kura School|    Bay of Plenty, Wa...|    Bay of Plenty Region|           Whakatane District|            Whakatane District|                   Whakatane District|                 Rotorua|                Murupara|Galatea-Murupara ...|\n",
      "|             -1|              2004|             Maori|            Year 13|          Secondary (Year 9+)|                   No Maori language...|                      No Maori language...|      2751|             School with some ...|      English medium|                          Level 4(b): At le...|Te Whakatipuranga...|     Secondary|    Teen Parent Unit|State: Not integr...|      Decile 1|          Co-Ed|          No Affiliation|     Not Applicable|      Not Applicable|   Not a Kura School|    Bay of Plenty, Wa...|    Bay of Plenty Region|                Tauranga City|                 Tauranga City|                        Tauranga City|                 Rotorua|                   Poike|Te Papa-Welcome B...|\n",
      "|             -2|              2006|             Maori|            Year 11|          Secondary (Year 9+)|                   No Maori language...|                      No Maori language...|      2751|             School with some ...|      English medium|                          Level 4(b): At le...|Te Whakatipuranga...|     Secondary|    Teen Parent Unit|State: Not integr...|      Decile 1|          Co-Ed|          No Affiliation|     Not Applicable|      Not Applicable|   Not a Kura School|    Bay of Plenty, Wa...|    Bay of Plenty Region|                Tauranga City|                 Tauranga City|                        Tauranga City|                 Rotorua|                   Poike|Te Papa-Welcome B...|\n",
      "|             -1|              2006|             Maori|            Year 11|          Secondary (Year 9+)|                   No Maori language...|                      No Maori language...|      2760|             School with some ...|      English medium|                          Level 4(b): At le...|         Eden Campus|     Secondary|    Teen Parent Unit|State: Not integr...|      Decile 1|          Co-Ed|          No Affiliation|     Not Applicable|      Not Applicable|   Not a Kura School|                Auckland|         Auckland Region|                     Auckland|          Auckland- Albert-...|                 Auckland- Albert-...|          Auckland South|            Mt Eden East|Albert-Eden-Roski...|\n",
      "|             -1|              2007|             Maori|             Year 9|          Secondary (Year 9+)|                   No Maori language...|                      No Maori language...|        59|             School with some ...|      English medium|                          Level 4(a): up to...|Sacred Heart Coll...|     Secondary|Secondary (Year 7...|   State: Integrated|      Decile 8|Single Sex-Boys|    Religious Affilia...|     Roman Catholic|School with Board...|   Not a Kura School|                Auckland|         Auckland Region|                     Auckland|          Auckland- Orakei ...|                     Auckland- Orakei|          Auckland South|        Glen Innes North|         Orakei Ward|\n",
      "|             -8|              2007|             Maori|             Year 9|          Secondary (Year 9+)|                   No Maori language...|                      No Maori language...|        96|             School with some ...|      English medium|                          Level 4(b): At le...|      Aorere College|     Secondary|Secondary (Year 9...|State: Not integr...|      Decile 2|          Co-Ed|          No Affiliation|     Not Applicable|      Not Applicable|   Not a Kura School|                Auckland|         Auckland Region|                     Auckland|          Auckland- Manukau...|                 Auckland- Otara-P...|          Auckland South|                 Kohuora|        Manukau Ward|\n",
      "|             -1|              2007|             Maori|             Year 7|           Primary (Year 1-8)|                   No Maori language...|                      No Maori language...|       106|             School with some ...|      English medium|                          Level 4(a): up to...|      Tuakau College|     Secondary|Secondary (Year 7...|State: Not integr...|      Decile 3|          Co-Ed|          No Affiliation|     Not Applicable|      Not Applicable|   Not a Kura School|                Auckland|          Waikato Region|             Waikato District|              Waikato District|                     Waikato District|          Auckland South|                 Redoubt|Awaroa ki Tuakau ...|\n",
      "|             -1|              2007|             Maori|             Year 9|          Secondary (Year 9+)|                   No Maori language...|                      No Maori language...|       179|             School with some ...|      English medium|                          Level 4(b): At le...|Stratford High Sc...|     Secondary|Secondary (Year 9...|State: Not integr...|      Decile 5|          Co-Ed|          No Affiliation|     Not Applicable|      Not Applicable|   Not a Kura School|    Taranaki, Whangan...|         Taranaki Region|           Stratford District|            Stratford District|                   Stratford District|               Whanganui|          Stratford East|Stratford Urban Ward|\n",
      "|             -2|              2007|             Maori|             Year 2|           Primary (Year 1-8)|                   No Maori language...|                      No Maori language...|      2115|             No Maori language...|      English medium|                           Level 6: Taha Maori| Timaru South School|       Primary|        Full Primary|State: Not integr...|      Decile 2|          Co-Ed|          No Affiliation|     Not Applicable|      Not Applicable|   Not a Kura School|    Canterbury and Ch...|       Canterbury Region|              Timaru District|               Timaru District|                      Timaru District|            Christchurch|          Timaru Gardens|         Timaru Ward|\n",
      "|             -2|              2007|             Maori|             Year 3|           Primary (Year 1-8)|                   No Maori language...|                      No Maori language...|      2115|             No Maori language...|      English medium|                           Level 6: Taha Maori| Timaru South School|       Primary|        Full Primary|State: Not integr...|      Decile 2|          Co-Ed|          No Affiliation|     Not Applicable|      Not Applicable|   Not a Kura School|    Canterbury and Ch...|       Canterbury Region|              Timaru District|               Timaru District|                      Timaru District|            Christchurch|          Timaru Gardens|         Timaru Ward|\n",
      "|             -1|              2007|             Maori|             Year 4|           Primary (Year 1-8)|                   No Maori language...|                      No Maori language...|      2115|             No Maori language...|      English medium|                           Level 6: Taha Maori| Timaru South School|       Primary|        Full Primary|State: Not integr...|      Decile 2|          Co-Ed|          No Affiliation|     Not Applicable|      Not Applicable|   Not a Kura School|    Canterbury and Ch...|       Canterbury Region|              Timaru District|               Timaru District|                      Timaru District|            Christchurch|          Timaru Gardens|         Timaru Ward|\n",
      "|             -1|              2008|             Maori|            Year 11|          Secondary (Year 9+)|                   No Maori language...|                      No Maori language...|      2747|             School with some ...|      English medium|                          Level 4(b): At le...|Hawke's Bay Schoo...|     Secondary|    Teen Parent Unit|State: Not integr...|      Decile 1|          Co-Ed|          No Affiliation|     Not Applicable|      Not Applicable|   Not a Kura School|    Hawke's Bay, Tair...|       Hawkes Bay Region|                  Napier City|                   Napier City|                          Napier City|                  Napier|           Onekawa South|    Nelson Park Ward|\n",
      "|             -1|              2004|         Non Maori|            Year 10|          Secondary (Year 9+)|                   No Maori language...|                      No Maori language...|       145|             School with some ...|      English medium|                          Level 4(b): At le...|   Edgecumbe College|     Secondary|Secondary (Year 9...|State: Not integr...|      Decile 2|          Co-Ed|          No Affiliation|     Not Applicable|      Not Applicable|   Not a Kura School|    Bay of Plenty, Wa...|    Bay of Plenty Region|           Whakatane District|            Whakatane District|                   Whakatane District|                 Rotorua|               Edgecumbe|     Rangitaiki Ward|\n",
      "|             -1|              2005|         Non Maori|             Year 5|           Primary (Year 1-8)|                   No Maori language...|                      No Maori language...|      4032|             School with some ...|      English medium|                          Level 5: Less tha...|Tuturau Primary S...|       Primary|        Contributing|State: Not integr...|      Decile 4|          Co-Ed|          No Affiliation|     Not Applicable|      Not Applicable|   Not a Kura School|        Otago, Southland|        Southland Region|           Southland District|            Southland District|                   Southland District|            Invercargill|                 Toetoes|        Toetoes Ward|\n",
      "|             -2|              2006|         Non Maori|             Year 9|          Secondary (Year 9+)|                   No Maori language...|                      No Maori language...|       186|             School with some ...|      English medium|                          Level 4(a): up to...|Waverley High School|     Secondary|Secondary (Year 7...|State: Not integr...|      Decile 2|          Co-Ed|          No Affiliation|     Not Applicable|      Not Applicable|   Not a Kura School|    Taranaki, Whangan...|         Taranaki Region|         South Taranaki Di...|          South Taranaki Di...|                 South Taranaki Di...|               Whanganui|                Waverley|          Patea Ward|\n",
      "|            -11|              2006|         Non Maori|            Year 11|          Secondary (Year 9+)|                   No Maori language...|                      No Maori language...|       204|             School with some ...|      English medium|                               Level 3: 31-50%|St Peter's Colleg...|     Secondary|Secondary (Year 7...|   State: Integrated|      Decile 8|          Co-Ed|    Religious Affilia...|     Roman Catholic|      Not Applicable|   Not a Kura School|    Taranaki, Whangan...|    Manawatu-Whanganu...|         Palmerston North ...|          Palmerston North ...|                 Palmerston North ...|               Whanganui|                  Milson|       Papaioea Ward|\n",
      "+---------------+------------------+------------------+-------------------+-----------------------------+---------------------------------------+------------------------------------------+----------+---------------------------------+--------------------+----------------------------------------------+--------------------+--------------+--------------------+--------------------+--------------+---------------+------------------------+-------------------+--------------------+--------------------+------------------------+------------------------+-----------------------------+------------------------------+-------------------------------------+------------------------+------------------------+--------------------+\n",
      "only showing top 20 rows\n",
      "\n"
     ]
    }
   ],
   "source": [
    "MLLSN.filter(MLLSN['Students Number']<=0).show()"
   ]
  },
  {
   "cell_type": "code",
   "execution_count": 17,
   "metadata": {},
   "outputs": [
    {
     "name": "stdout",
     "output_type": "stream",
     "text": [
      "+----------------------------+---------------+-------------+--------+----------+----------+--------------+---------+-----------+-----------+--------------+---------+-----------+-----------+----------------+-----------+-------------+-------------+--------------+---------+-----------+-----------+\n",
      "|TA with Auckland Local Board|Year at 30 June|Euro-all-ages|Euro-5-9|Euro-10-14|Euro-15-19|Maori-all-ages|Maori-5-9|Maori-10-14|Maori-15-19|Asian-all-ages|Asian-5-9|Asian-10-14|Asian-15-19|Pacific-all-ages|Pacific-5-9|Pacific-10-14|Pacific-15-19|Total-all-ages|Total-5-9|Total-10-14|Total-15-19|\n",
      "+----------------------------+---------------+-------------+--------+----------+----------+--------------+---------+-----------+-----------+--------------+---------+-----------+-----------+----------------+-----------+-------------+-------------+--------------+---------+-----------+-----------+\n",
      "|                           0|              0|            0|       0|         0|         0|             0|        0|          0|          0|             0|        0|          0|          0|               0|          0|            0|            0|             0|        0|          0|          0|\n",
      "+----------------------------+---------------+-------------+--------+----------+----------+--------------+---------+-----------+-----------+--------------+---------+-----------+-----------+----------------+-----------+-------------+-------------+--------------+---------+-----------+-----------+\n",
      "\n"
     ]
    }
   ],
   "source": [
    "POP.select([count(when(isnan(c),c)).alias(c) for c in POP.columns]).show()"
   ]
  },
  {
   "cell_type": "code",
   "execution_count": 18,
   "metadata": {},
   "outputs": [],
   "source": [
    "# exclude irrelevant attributes in Māori language data \n",
    "cols=MLLSN.columns\n",
    "cols.remove('School: Name')\n",
    "cols.remove('School: Gender')\n",
    "cols.remove('School: Affiliation Type')\n",
    "cols.remove('School: Affiliation')\n",
    "cols.remove('School: Definition')\n",
    "cols.remove('Region: Census area unit')"
   ]
  },
  {
   "cell_type": "code",
   "execution_count": 19,
   "metadata": {},
   "outputs": [],
   "source": [
    "# exclude related attributes in Māori language data\n",
    "cols.remove('Student: Year level')\n",
    "cols.remove('School: Type')\n",
    "cols.remove('Region: Regional Council')\n",
    "cols.remove('Region: Education Region')\n",
    "cols.remove('Region: Territorial Authority')\n",
    "cols.remove('Region: Ward')\n",
    "cols.remove('Region: TA with Auckland wards')\n",
    "cols.remove('Region: MOE Local office')\n",
    "MLLSN2=MLLSN[cols]"
   ]
  },
  {
   "cell_type": "code",
   "execution_count": 20,
   "metadata": {},
   "outputs": [
    {
     "data": {
      "text/plain": [
       "[('Students Number', 'int'),\n",
       " ('Year: As at 1 July', 'int'),\n",
       " ('Student: Ethnicity', 'string'),\n",
       " ('Student: Year level (Grouped)', 'string'),\n",
       " ('Student: Maori Language Immersion Level', 'string'),\n",
       " ('Student: Maori Language in Education level', 'string'),\n",
       " ('School: ID', 'int'),\n",
       " ('School: Maori Language Descriptor', 'string'),\n",
       " ('School: Medium', 'string'),\n",
       " ('School: Highest Maori Language Immersion Level', 'string'),\n",
       " ('School: Sector', 'string'),\n",
       " ('School: Authority', 'string'),\n",
       " ('School: Decile', 'string'),\n",
       " ('School: Kura Type', 'string'),\n",
       " ('Region: TA with Auckland local boards', 'string')]"
      ]
     },
     "execution_count": 20,
     "metadata": {},
     "output_type": "execute_result"
    }
   ],
   "source": [
    "MLLSN2.dtypes"
   ]
  },
  {
   "cell_type": "code",
   "execution_count": 21,
   "metadata": {},
   "outputs": [],
   "source": [
    "# exclude irrelevant attributes in population data\n",
    "cols2=POP.columns\n",
    "cols2.remove('Euro-all-ages')\n",
    "cols2.remove('Euro-5-9')\n",
    "cols2.remove('Euro-10-14')\n",
    "cols2.remove('Euro-15-19')\n",
    "cols2.remove('Asian-all-ages')\n",
    "cols2.remove('Asian-5-9')\n",
    "cols2.remove('Asian-10-14')\n",
    "cols2.remove('Asian-15-19')\n",
    "cols2.remove('Pacific-all-ages')\n",
    "cols2.remove('Pacific-5-9')\n",
    "cols2.remove('Pacific-10-14')\n",
    "cols2.remove('Pacific-15-19')\n",
    "POP2=POP[cols2]"
   ]
  },
  {
   "cell_type": "code",
   "execution_count": 23,
   "metadata": {},
   "outputs": [
    {
     "data": {
      "text/plain": [
       "[('TA with Auckland Local Board', 'string'),\n",
       " ('Year at 30 June', 'int'),\n",
       " ('Maori-all-ages', 'int'),\n",
       " ('Maori-5-9', 'int'),\n",
       " ('Maori-10-14', 'int'),\n",
       " ('Maori-15-19', 'int'),\n",
       " ('Total-all-ages', 'int'),\n",
       " ('Total-5-9', 'int'),\n",
       " ('Total-10-14', 'int'),\n",
       " ('Total-15-19', 'int')]"
      ]
     },
     "execution_count": 23,
     "metadata": {},
     "output_type": "execute_result"
    }
   ],
   "source": [
    "POP2.dtypes"
   ]
  },
  {
   "cell_type": "code",
   "execution_count": 24,
   "metadata": {},
   "outputs": [],
   "source": [
    "MLLSN2=MLLSN2.filter(MLLSN2[\"Students Number\"]>0)"
   ]
  },
  {
   "cell_type": "code",
   "execution_count": 25,
   "metadata": {},
   "outputs": [
    {
     "data": {
      "text/plain": [
       "624710"
      ]
     },
     "execution_count": 25,
     "metadata": {},
     "output_type": "execute_result"
    }
   ],
   "source": [
    "MLLSN2.count()"
   ]
  },
  {
   "cell_type": "code",
   "execution_count": 26,
   "metadata": {},
   "outputs": [
    {
     "name": "stdout",
     "output_type": "stream",
     "text": [
      "+---------------+------------------+------------------+-----------------------------+---------------------------------------+------------------------------------------+----------+---------------------------------+--------------+----------------------------------------------+--------------+-----------------+--------------+-----------------+-------------------------------------+\n",
      "|Students Number|Year: As at 1 July|Student: Ethnicity|Student: Year level (Grouped)|Student: Maori Language Immersion Level|Student: Maori Language in Education level|School: ID|School: Maori Language Descriptor|School: Medium|School: Highest Maori Language Immersion Level|School: Sector|School: Authority|School: Decile|School: Kura Type|Region: TA with Auckland local boards|\n",
      "+---------------+------------------+------------------+-----------------------------+---------------------------------------+------------------------------------------+----------+---------------------------------+--------------+----------------------------------------------+--------------+-----------------+--------------+-----------------+-------------------------------------+\n",
      "+---------------+------------------+------------------+-----------------------------+---------------------------------------+------------------------------------------+----------+---------------------------------+--------------+----------------------------------------------+--------------+-----------------+--------------+-----------------+-------------------------------------+\n",
      "\n"
     ]
    }
   ],
   "source": [
    "MLLSN2.filter(MLLSN2[\"Students Number\"]<=0).show()"
   ]
  },
  {
   "cell_type": "code",
   "execution_count": 34,
   "metadata": {},
   "outputs": [],
   "source": [
    "# change data type for Students Number column \n",
    "from pyspark.sql.types import StringType\n",
    "\n",
    "MLLSN2 = MLLSN2.withColumn(\"School: ID\", MLLSN2[\"School: ID\"].cast(StringType()))\n",
    "MLLSN2 = MLLSN2.withColumn(\"Year: As at 1 July\", MLLSN2[\"Year: As at 1 July\"].cast(StringType()))\n"
   ]
  },
  {
   "cell_type": "code",
   "execution_count": 36,
   "metadata": {},
   "outputs": [
    {
     "data": {
      "text/plain": [
       "[('Students Number', 'int'),\n",
       " ('Year: As at 1 July', 'string'),\n",
       " ('Student: Ethnicity', 'string'),\n",
       " ('Student: Year level (Grouped)', 'string'),\n",
       " ('Student: Maori Language Immersion Level', 'string'),\n",
       " ('Student: Maori Language in Education level', 'string'),\n",
       " ('School: ID', 'string'),\n",
       " ('School: Maori Language Descriptor', 'string'),\n",
       " ('School: Medium', 'string'),\n",
       " ('School: Highest Maori Language Immersion Level', 'string'),\n",
       " ('School: Sector', 'string'),\n",
       " ('School: Authority', 'string'),\n",
       " ('School: Decile', 'string'),\n",
       " ('School: Kura Type', 'string'),\n",
       " ('Region: TA with Auckland local boards', 'string')]"
      ]
     },
     "execution_count": 36,
     "metadata": {},
     "output_type": "execute_result"
    }
   ],
   "source": [
    "MLLSN2.dtypes"
   ]
  },
  {
   "cell_type": "code",
   "execution_count": 44,
   "metadata": {},
   "outputs": [],
   "source": [
    "# aggregation by Student: Year level (Grouped) in the School level\n",
    "GMLLSN2 = MLLSN2.groupby('School: ID','Year: As at 1 July','Student: Year level (Grouped)','Student: Ethnicity', \n",
    "                         'Student: Maori Language Immersion Level','Student: Maori Language in Education level',\n",
    "                         'School: Highest Maori Language Immersion Level','School: Kura Type','School: Authority',\n",
    "                         'School: Maori Language Descriptor','School: Medium','School: Decile','School: Sector',\n",
    "                         'Region: TA with Auckland local boards').sum('Students Number')"
   ]
  },
  {
   "cell_type": "code",
   "execution_count": 45,
   "metadata": {},
   "outputs": [
    {
     "data": {
      "text/plain": [
       "126408"
      ]
     },
     "execution_count": 45,
     "metadata": {},
     "output_type": "execute_result"
    }
   ],
   "source": [
    "GMLLSN2.count()"
   ]
  },
  {
   "cell_type": "code",
   "execution_count": 52,
   "metadata": {},
   "outputs": [
    {
     "data": {
      "text/plain": [
       "[Row(School: ID='497', Year: As at 1 July='2004', Student: Year level (Grouped)='Primary (Year 1-8)', Student: Ethnicity='Maori', Student: Maori Language Immersion Level='Level 1: 81-100%', Student: Maori Language in Education level='Maori medium', School: Highest Maori Language Immersion Level='Level 1: 81-100%', School: Kura Type='Designated Character (Section 156)', School: Authority='State: Not integrated', School: Maori Language Descriptor='Maori medium school', School: Medium='Maori medium', School: Decile='Decile 2', School: Sector='Composite', Region: TA with Auckland local boards='Taupo District', sum(Students Number)=216)]"
      ]
     },
     "execution_count": 52,
     "metadata": {},
     "output_type": "execute_result"
    }
   ],
   "source": [
    "GMLLSN2.head(1)"
   ]
  },
  {
   "cell_type": "code",
   "execution_count": null,
   "metadata": {},
   "outputs": [],
   "source": []
  }
 ],
 "metadata": {
  "kernelspec": {
   "display_name": "Python 3",
   "language": "python",
   "name": "python3"
  },
  "language_info": {
   "codemirror_mode": {
    "name": "ipython",
    "version": 3
   },
   "file_extension": ".py",
   "mimetype": "text/x-python",
   "name": "python",
   "nbconvert_exporter": "python",
   "pygments_lexer": "ipython3",
   "version": "3.5.2"
  }
 },
 "nbformat": 4,
 "nbformat_minor": 2
}
