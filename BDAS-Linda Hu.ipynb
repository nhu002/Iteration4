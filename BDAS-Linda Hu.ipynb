{
 "cells": [
  {
   "cell_type": "code",
   "execution_count": 1,
   "metadata": {},
   "outputs": [],
   "source": [
    "import findspark\n",
    "findspark.init(\"/home/ubuntu/spark-2.1.1-bin-hadoop2.7\")\n",
    "import pyspark\n",
    "from pyspark.sql import SparkSession\n",
    "spark = SparkSession.builder.appName('BDAS-Linda').getOrCreate()"
   ]
  },
  {
   "cell_type": "code",
   "execution_count": 2,
   "metadata": {},
   "outputs": [],
   "source": [
    "# import datasets\n",
    "filename1 = \"./Maori-Language-Learning-Student-Numbers-by-Ethnicity-2004-2019.csv\"\n",
    "filename2 = \"./Subnational-ethnic-population-projections-2013base.csv\"\n",
    "\n",
    "MLLSN=spark.read.load(filename1, format=\"csv\", header=\"true\")\n",
    "POP=spark.read.load(filename2, format=\"csv\", header=\"true\")"
   ]
  },
  {
   "cell_type": "code",
   "execution_count": 3,
   "metadata": {},
   "outputs": [
    {
     "name": "stdout",
     "output_type": "stream",
     "text": [
      "+-------------------+------------------+------------------+-------------------+-----------------------------+---------------------------------------+------------------------------------------+----------+---------------------------------+--------------------+----------------------------------------------+--------------------+--------------+--------------------+--------------------+--------------+--------------+------------------------+-------------------+------------------+-----------------+------------------------+------------------------+-----------------------------+------------------------------+-------------------------------------+------------------------+------------------------+--------------------+\n",
      "|Students (? Values)|Year: As at 1 July|Student: Ethnicity|Student: Year level|Student: Year level (Grouped)|Student: Maori Language Immersion Level|Student: M?ori Language in Education level|School: ID|School: Maori Language Descriptor|      School: Medium|School: Highest Maori Language Immersion Level|        School: Name|School: Sector|        School: Type|   School: Authority|School: Decile|School: Gender|School: Affiliation Type|School: Affiliation|School: Definition|School: Kura Type|Region: Education Region|Region: Regional Council|Region: Territorial Authority|Region: TA with Auckland wards|Region: TA with Auckland local boards|Region: MOE Local office|Region: Census area unit|        Region: Ward|\n",
      "+-------------------+------------------+------------------+-------------------+-----------------------------+---------------------------------------+------------------------------------------+----------+---------------------------------+--------------------+----------------------------------------------+--------------------+--------------+--------------------+--------------------+--------------+--------------+------------------------+-------------------+------------------+-----------------+------------------------+------------------------+-----------------------------+------------------------------+-------------------------------------+------------------------+------------------------+--------------------+\n",
      "|                  1|              2004|             M?ori|             Year 1|           Primary (Year 1-8)|                       Level 1: 81-100%|                              M?ori medium|         6|             Mixed M?ori langu...|English and M?ori...|                              Level 1: 81-100%|Broadwood Area Sc...|     Composite|Composite (Year 1...|State: Not integr...|      Decile 2|         Co-Ed|          No Affiliation|     Not Applicable|    Not Applicable|Not a Kura School|             Tai Tokerau|        Northland Region|           Far North District|            Far North District|                   Far North District|               Whangarei|          Hokianga North|Kaikohe-Hokianga ...|\n",
      "|                  3|              2004|             M?ori|             Year 2|           Primary (Year 1-8)|                       Level 1: 81-100%|                              M?ori medium|         6|             Mixed M?ori langu...|English and M?ori...|                              Level 1: 81-100%|Broadwood Area Sc...|     Composite|Composite (Year 1...|State: Not integr...|      Decile 2|         Co-Ed|          No Affiliation|     Not Applicable|    Not Applicable|Not a Kura School|             Tai Tokerau|        Northland Region|           Far North District|            Far North District|                   Far North District|               Whangarei|          Hokianga North|Kaikohe-Hokianga ...|\n",
      "|                  3|              2004|             M?ori|             Year 3|           Primary (Year 1-8)|                       Level 1: 81-100%|                              M?ori medium|         6|             Mixed M?ori langu...|English and M?ori...|                              Level 1: 81-100%|Broadwood Area Sc...|     Composite|Composite (Year 1...|State: Not integr...|      Decile 2|         Co-Ed|          No Affiliation|     Not Applicable|    Not Applicable|Not a Kura School|             Tai Tokerau|        Northland Region|           Far North District|            Far North District|                   Far North District|               Whangarei|          Hokianga North|Kaikohe-Hokianga ...|\n",
      "|                  2|              2004|             M?ori|             Year 4|           Primary (Year 1-8)|                       Level 1: 81-100%|                              M?ori medium|         6|             Mixed M?ori langu...|English and M?ori...|                              Level 1: 81-100%|Broadwood Area Sc...|     Composite|Composite (Year 1...|State: Not integr...|      Decile 2|         Co-Ed|          No Affiliation|     Not Applicable|    Not Applicable|Not a Kura School|             Tai Tokerau|        Northland Region|           Far North District|            Far North District|                   Far North District|               Whangarei|          Hokianga North|Kaikohe-Hokianga ...|\n",
      "|                  3|              2004|             M?ori|             Year 6|           Primary (Year 1-8)|                       Level 1: 81-100%|                              M?ori medium|         6|             Mixed M?ori langu...|English and M?ori...|                              Level 1: 81-100%|Broadwood Area Sc...|     Composite|Composite (Year 1...|State: Not integr...|      Decile 2|         Co-Ed|          No Affiliation|     Not Applicable|    Not Applicable|Not a Kura School|             Tai Tokerau|        Northland Region|           Far North District|            Far North District|                   Far North District|               Whangarei|          Hokianga North|Kaikohe-Hokianga ...|\n",
      "|                  1|              2004|             M?ori|             Year 9|          Secondary (Year 9+)|                       Level 1: 81-100%|                              M?ori medium|         8|             School with some ...|English and M?ori...|                              Level 1: 81-100%|Bay of Islands Co...|     Secondary|Secondary (Year 9...|State: Not integr...|      Decile 2|         Co-Ed|          No Affiliation|     Not Applicable|    Not Applicable|Not a Kura School|             Tai Tokerau|        Northland Region|           Far North District|            Far North District|                   Far North District|               Whangarei|                Kawakawa|Bay of Islands-Wh...|\n",
      "|                  5|              2004|             M?ori|            Year 10|          Secondary (Year 9+)|                       Level 1: 81-100%|                              M?ori medium|         8|             School with some ...|English and M?ori...|                              Level 1: 81-100%|Bay of Islands Co...|     Secondary|Secondary (Year 9...|State: Not integr...|      Decile 2|         Co-Ed|          No Affiliation|     Not Applicable|    Not Applicable|Not a Kura School|             Tai Tokerau|        Northland Region|           Far North District|            Far North District|                   Far North District|               Whangarei|                Kawakawa|Bay of Islands-Wh...|\n",
      "|                  2|              2004|             M?ori|            Year 11|          Secondary (Year 9+)|                       Level 1: 81-100%|                              M?ori medium|         8|             School with some ...|English and M?ori...|                              Level 1: 81-100%|Bay of Islands Co...|     Secondary|Secondary (Year 9...|State: Not integr...|      Decile 2|         Co-Ed|          No Affiliation|     Not Applicable|    Not Applicable|Not a Kura School|             Tai Tokerau|        Northland Region|           Far North District|            Far North District|                   Far North District|               Whangarei|                Kawakawa|Bay of Islands-Wh...|\n",
      "|                  1|              2004|             M?ori|            Year 12|          Secondary (Year 9+)|                       Level 1: 81-100%|                              M?ori medium|         8|             School with some ...|English and M?ori...|                              Level 1: 81-100%|Bay of Islands Co...|     Secondary|Secondary (Year 9...|State: Not integr...|      Decile 2|         Co-Ed|          No Affiliation|     Not Applicable|    Not Applicable|Not a Kura School|             Tai Tokerau|        Northland Region|           Far North District|            Far North District|                   Far North District|               Whangarei|                Kawakawa|Bay of Islands-Wh...|\n",
      "|                  2|              2004|             M?ori|             Year 1|           Primary (Year 1-8)|                       Level 1: 81-100%|                              M?ori medium|        10|             Mixed M?ori langu...|English and M?ori...|                              Level 1: 81-100%|Te Kura Taumata o...|     Composite|Composite (Year 1...|State: Not integr...|      Decile 1|         Co-Ed|          No Affiliation|     Not Applicable|    Not Applicable|Not a Kura School|             Tai Tokerau|        Northland Region|           Far North District|            Far North District|                   Far North District|               Whangarei|          Hokianga North|Kaikohe-Hokianga ...|\n",
      "|                  5|              2004|             M?ori|             Year 2|           Primary (Year 1-8)|                       Level 1: 81-100%|                              M?ori medium|        10|             Mixed M?ori langu...|English and M?ori...|                              Level 1: 81-100%|Te Kura Taumata o...|     Composite|Composite (Year 1...|State: Not integr...|      Decile 1|         Co-Ed|          No Affiliation|     Not Applicable|    Not Applicable|Not a Kura School|             Tai Tokerau|        Northland Region|           Far North District|            Far North District|                   Far North District|               Whangarei|          Hokianga North|Kaikohe-Hokianga ...|\n",
      "|                  6|              2004|             M?ori|             Year 3|           Primary (Year 1-8)|                       Level 1: 81-100%|                              M?ori medium|        10|             Mixed M?ori langu...|English and M?ori...|                              Level 1: 81-100%|Te Kura Taumata o...|     Composite|Composite (Year 1...|State: Not integr...|      Decile 1|         Co-Ed|          No Affiliation|     Not Applicable|    Not Applicable|Not a Kura School|             Tai Tokerau|        Northland Region|           Far North District|            Far North District|                   Far North District|               Whangarei|          Hokianga North|Kaikohe-Hokianga ...|\n",
      "|                  8|              2004|             M?ori|             Year 4|           Primary (Year 1-8)|                       Level 1: 81-100%|                              M?ori medium|        10|             Mixed M?ori langu...|English and M?ori...|                              Level 1: 81-100%|Te Kura Taumata o...|     Composite|Composite (Year 1...|State: Not integr...|      Decile 1|         Co-Ed|          No Affiliation|     Not Applicable|    Not Applicable|Not a Kura School|             Tai Tokerau|        Northland Region|           Far North District|            Far North District|                   Far North District|               Whangarei|          Hokianga North|Kaikohe-Hokianga ...|\n",
      "|                 10|              2004|             M?ori|             Year 5|           Primary (Year 1-8)|                       Level 1: 81-100%|                              M?ori medium|        10|             Mixed M?ori langu...|English and M?ori...|                              Level 1: 81-100%|Te Kura Taumata o...|     Composite|Composite (Year 1...|State: Not integr...|      Decile 1|         Co-Ed|          No Affiliation|     Not Applicable|    Not Applicable|Not a Kura School|             Tai Tokerau|        Northland Region|           Far North District|            Far North District|                   Far North District|               Whangarei|          Hokianga North|Kaikohe-Hokianga ...|\n",
      "|                  8|              2004|             M?ori|             Year 6|           Primary (Year 1-8)|                       Level 1: 81-100%|                              M?ori medium|        10|             Mixed M?ori langu...|English and M?ori...|                              Level 1: 81-100%|Te Kura Taumata o...|     Composite|Composite (Year 1...|State: Not integr...|      Decile 1|         Co-Ed|          No Affiliation|     Not Applicable|    Not Applicable|Not a Kura School|             Tai Tokerau|        Northland Region|           Far North District|            Far North District|                   Far North District|               Whangarei|          Hokianga North|Kaikohe-Hokianga ...|\n",
      "|                 14|              2004|             M?ori|             Year 7|           Primary (Year 1-8)|                       Level 1: 81-100%|                              M?ori medium|        10|             Mixed M?ori langu...|English and M?ori...|                              Level 1: 81-100%|Te Kura Taumata o...|     Composite|Composite (Year 1...|State: Not integr...|      Decile 1|         Co-Ed|          No Affiliation|     Not Applicable|    Not Applicable|Not a Kura School|             Tai Tokerau|        Northland Region|           Far North District|            Far North District|                   Far North District|               Whangarei|          Hokianga North|Kaikohe-Hokianga ...|\n",
      "|                  9|              2004|             M?ori|             Year 8|           Primary (Year 1-8)|                       Level 1: 81-100%|                              M?ori medium|        10|             Mixed M?ori langu...|English and M?ori...|                              Level 1: 81-100%|Te Kura Taumata o...|     Composite|Composite (Year 1...|State: Not integr...|      Decile 1|         Co-Ed|          No Affiliation|     Not Applicable|    Not Applicable|Not a Kura School|             Tai Tokerau|        Northland Region|           Far North District|            Far North District|                   Far North District|               Whangarei|          Hokianga North|Kaikohe-Hokianga ...|\n",
      "|                  6|              2004|             M?ori|             Year 1|           Primary (Year 1-8)|                       Level 1: 81-100%|                              M?ori medium|        11|             School with some ...|English and M?ori...|                              Level 1: 81-100%| Opononi Area School|     Composite|Composite (Year 1...|State: Not integr...|      Decile 2|         Co-Ed|          No Affiliation|     Not Applicable|    Not Applicable|Not a Kura School|             Tai Tokerau|        Northland Region|           Far North District|            Far North District|                   Far North District|               Whangarei|     Omapere and Opononi|Kaikohe-Hokianga ...|\n",
      "|                  5|              2004|             M?ori|             Year 2|           Primary (Year 1-8)|                       Level 1: 81-100%|                              M?ori medium|        11|             School with some ...|English and M?ori...|                              Level 1: 81-100%| Opononi Area School|     Composite|Composite (Year 1...|State: Not integr...|      Decile 2|         Co-Ed|          No Affiliation|     Not Applicable|    Not Applicable|Not a Kura School|             Tai Tokerau|        Northland Region|           Far North District|            Far North District|                   Far North District|               Whangarei|     Omapere and Opononi|Kaikohe-Hokianga ...|\n",
      "|                  2|              2004|             M?ori|             Year 3|           Primary (Year 1-8)|                       Level 1: 81-100%|                              M?ori medium|        11|             School with some ...|English and M?ori...|                              Level 1: 81-100%| Opononi Area School|     Composite|Composite (Year 1...|State: Not integr...|      Decile 2|         Co-Ed|          No Affiliation|     Not Applicable|    Not Applicable|Not a Kura School|             Tai Tokerau|        Northland Region|           Far North District|            Far North District|                   Far North District|               Whangarei|     Omapere and Opononi|Kaikohe-Hokianga ...|\n",
      "+-------------------+------------------+------------------+-------------------+-----------------------------+---------------------------------------+------------------------------------------+----------+---------------------------------+--------------------+----------------------------------------------+--------------------+--------------+--------------------+--------------------+--------------+--------------+------------------------+-------------------+------------------+-----------------+------------------------+------------------------+-----------------------------+------------------------------+-------------------------------------+------------------------+------------------------+--------------------+\n",
      "only showing top 20 rows\n",
      "\n"
     ]
    },
    {
     "name": "stdout",
     "output_type": "stream",
     "text": [
      "+----------------------------+---------------+-------------+--------+----------+----------+--------------+---------+-----------+-----------+--------------+---------+-----------+-----------+----------------+-----------+-------------+-------------+--------------+---------+-----------+-----------+\n",
      "|TA with Auckland Local Board|Year at 30 June|Euro-all-ages|Euro-5-9|Euro-10-14|Euro-15-19|Maori-all-ages|Maori-5-9|Maori-10-14|Maori-15-19|Asian-all-ages|Asian-5-9|Asian-10-14|Asian-15-19|Pacific-all-ages|Pacific-5-9|Pacific-10-14|Pacific-15-19|Total-all-ages|Total-5-9|Total-10-14|Total-15-19|\n",
      "+----------------------------+---------------+-------------+--------+----------+----------+--------------+---------+-----------+-----------+--------------+---------+-----------+-----------+----------------+-----------+-------------+-------------+--------------+---------+-----------+-----------+\n",
      "|          Far North district|           2013|        40800|    2750|      2770|      2420|         27100|     2980|       2950|       2510|          1630|      130|        115|        100|            2540|        360|          390|          280|         60600|     4560|       4710|       4140|\n",
      "|          Far North district|           2018|        42600|    3080|      2850|      2020|         28700|     3200|       3070|       2720|          2310|      200|        160|        120|            3110|        480|          390|          400|         62900|     4820|       4730|       3960|\n",
      "|          Far North district|           2023|        43800|    3150|      3150|      2060|         30300|     3050|       3320|       2860|          2920|      270|        220|        150|            3760|        510|          500|          400|         64100|     4470|       4970|       3940|\n",
      "|          Far North district|           2028|        44900|    3310|      3230|      2350|         31800|     3090|       3160|       3120|          3440|      310|        280|        210|            4470|        600|          530|          510|         64900|     4490|       4620|       4180|\n",
      "|          Far North district|           2033|        45700|    3390|      3380|      2430|         33300|     3120|       3210|       2950|          3940|      320|        320|        270|            5280|        710|          620|          530|         65200|     4350|       4630|       3830|\n",
      "|          Far North district|           2038|        46100|    3290|      3470|      2580|         34900|     3200|       3240|       3000|          4430|      320|        330|        310|            6210|        840|          730|          620|         64900|     4110|       4500|       3850|\n",
      "|          Whangarei district|           2013|        67500|    4720|      4470|      4270|         23100|     2680|       2430|       2250|          3230|      230|        240|        240|            2640|        360|          350|          300|         83700|     6200|       5940|       5590|\n",
      "|          Whangarei district|           2018|        71800|    5400|      4870|      4150|         26000|     3210|       2790|       2420|          4850|      380|        300|        300|            3450|        530|          400|          360|         90600|     6930|       6500|       5610|\n",
      "|          Whangarei district|           2023|        74600|    5320|      5490|      4450|         29000|     3100|       3340|       2800|          6140|      540|        420|        330|            4160|        610|          550|          390|         95500|     6540|       7160|       6080|\n",
      "|          Whangarei district|           2028|        76600|    5490|      5380|      5030|         32100|     3270|       3240|       3380|          7110|      570|        550|        430|            4950|        670|          630|          550|         99200|     6710|       6750|       6710|\n",
      "|          Whangarei district|           2033|        78200|    5570|      5540|      4910|         35400|     3470|       3420|       3270|          8050|      570|        590|        560|            5820|        760|          690|          630|        102400|     6730|       6910|       6290|\n",
      "|          Whangarei district|           2038|        79300|    5480|      5620|      5080|         39100|     3760|       3620|       3460|          8970|      560|        580|        600|            6800|        860|          780|          690|        105000|     6630|       6940|       6460|\n",
      "|            Kaipara district|           2013|        17350|    1140|      1150|      1060|          5010|      530|        570|        490|           470|       40|         40|         25|             660|         85|           90|           80|         20500|     1390|       1450|       1320|\n",
      "|            Kaipara district|           2018|        18750|    1210|      1190|       870|          5520|      630|        550|        560|          1050|       90|         80|         60|             860|        140|          100|           95|         22600|     1490|       1490|       1260|\n",
      "|            Kaipara district|           2023|        19350|    1240|      1210|       860|          5950|      630|        650|        530|          1440|      115|        115|         90|            1030|        140|          145|          100|         23600|     1430|       1560|       1250|\n",
      "|            Kaipara district|           2028|        19850|    1300|      1240|       880|          6410|      670|        650|        640|          1730|      120|        130|        120|            1230|        160|          145|          145|         24400|     1500|       1500|       1320|\n",
      "|            Kaipara district|           2033|        20100|    1320|      1310|       910|          6900|      700|        690|        640|          2020|      120|        130|        140|            1450|        190|          165|          145|         24900|     1470|       1560|       1260|\n",
      "|            Kaipara district|           2038|        20100|    1240|      1330|       970|          7420|      740|        730|        680|          2310|      130|        130|        140|            1710|        225|          195|          165|         25200|     1370|       1530|       1320|\n",
      "|                    Auckland|           2013|       886400|   58960|     55640|     57470|        169800|    18670|      16790|      17010|        348900|    21080|      20540|      26840|          227000|      25360|        24480|        23470|       1493200|   102070|      99570|     108750|\n",
      "|                    Auckland|           2018|       946700|   63460|     60280|     56710|        188100|    20250|      18470|      17880|        472700|    28220|      24520|      26340|          252400|      27470|        24810|        24930|       1699900|   110790|     103670|     109130|\n",
      "+----------------------------+---------------+-------------+--------+----------+----------+--------------+---------+-----------+-----------+--------------+---------+-----------+-----------+----------------+-----------+-------------+-------------+--------------+---------+-----------+-----------+\n",
      "only showing top 20 rows\n",
      "\n"
     ]
    }
   ],
   "source": [
    "MLLSN.show()\n",
    "POP.show()\n"
   ]
  },
  {
   "cell_type": "code",
   "execution_count": null,
   "metadata": {},
   "outputs": [],
   "source": []
  },
  {
   "cell_type": "code",
   "execution_count": null,
   "metadata": {},
   "outputs": [],
   "source": []
  }
 ],
 "metadata": {
  "kernelspec": {
   "display_name": "Python 3",
   "language": "python",
   "name": "python3"
  },
  "language_info": {
   "codemirror_mode": {
    "name": "ipython",
    "version": 3
   },
   "file_extension": ".py",
   "mimetype": "text/x-python",
   "name": "python",
   "nbconvert_exporter": "python",
   "pygments_lexer": "ipython3",
   "version": "3.5.2"
  }
 },
 "nbformat": 4,
 "nbformat_minor": 2
}
