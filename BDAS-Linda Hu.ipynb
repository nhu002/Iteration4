{
 "cells": [
  {
   "cell_type": "code",
   "execution_count": 1,
   "metadata": {},
   "outputs": [],
   "source": [
    "import findspark\n",
    "findspark.init(\"/home/ubuntu/spark-2.1.1-bin-hadoop2.7\")\n",
    "import pyspark\n",
    "from pyspark.sql import SparkSession\n",
    "spark = SparkSession.builder.appName('BDAS-Linda').getOrCreate()\n",
    "\n",
    "from functools import reduce\n",
    "from pyspark.sql import DataFrame\n"
   ]
  },
  {
   "cell_type": "code",
   "execution_count": 2,
   "metadata": {},
   "outputs": [
    {
     "data": {
      "text/plain": [
       "['Students Number',\n",
       " 'Year: As at 1 July',\n",
       " 'Student: Ethnicity',\n",
       " 'Student: Year level',\n",
       " 'Student: Year level (Grouped)',\n",
       " 'Student: Maori Language Immersion Level',\n",
       " 'Student: Maori Language in Education level',\n",
       " 'School: ID',\n",
       " 'School: Maori Language Descriptor',\n",
       " 'School: Medium',\n",
       " 'School: Highest Maori Language Immersion Level',\n",
       " 'School: Name',\n",
       " 'School: Sector',\n",
       " 'School: Type',\n",
       " 'School: Authority',\n",
       " 'School: Decile',\n",
       " 'School: Gender',\n",
       " 'School: Affiliation Type',\n",
       " 'School: Affiliation',\n",
       " 'School: Definition',\n",
       " 'School: Kura Type',\n",
       " 'Region: Education Region',\n",
       " 'Region: Regional Council',\n",
       " 'Region: Territorial Authority',\n",
       " 'Region: TA with Auckland wards',\n",
       " 'Region: TA with Auckland local boards',\n",
       " 'Region: MOE Local office',\n",
       " 'Region: Census area unit',\n",
       " 'Region: Ward']"
      ]
     },
     "execution_count": 2,
     "metadata": {},
     "output_type": "execute_result"
    }
   ],
   "source": [
    "# import Maori language in education datasets\n",
    "filename1 = \"./Maori-Language-Learning-Student-Numbers-by-Ethnicity-2004-2008.csv\"\n",
    "filename2 = \"./Maori-Language-Learning-Student-Numbers-by-Ethnicity-2009-2013.csv\"\n",
    "filename3 = \"./Maori-Language-Learning-Student-Numbers-by-Ethnicity-2014-2018.csv\"\n",
    "filename4 = \"./Maori-Language-Learning-Student-Numbers-by-Ethnicity-2019.csv\"\n",
    "MLLSN1=spark.read.load(filename1, format=\"csv\", header=\"true\")\n",
    "MLLSN2=spark.read.load(filename2, format=\"csv\", header=\"true\")\n",
    "MLLSN3=spark.read.load(filename3, format=\"csv\", header=\"true\")\n",
    "MLLSN4=spark.read.load(filename4, format=\"csv\", header=\"true\")\n",
    "\n",
    "def unionAll(*dfs):\n",
    "    return reduce(DataFrame.unionAll, dfs)\n",
    "\n",
    "MLLSN=unionAll(MLLSN1,MLLSN2,MLLSN3,MLLSN4)\n",
    "MLLSN.columns"
   ]
  },
  {
   "cell_type": "code",
   "execution_count": 3,
   "metadata": {},
   "outputs": [
    {
     "data": {
      "text/plain": [
       "['TA with Auckland Local Board',\n",
       " 'Year at 30 June',\n",
       " 'Euro-all-ages',\n",
       " 'Euro-5-9',\n",
       " 'Euro-10-14',\n",
       " 'Euro-15-19',\n",
       " 'Maori-all-ages',\n",
       " 'Maori-5-9',\n",
       " 'Maori-10-14',\n",
       " 'Maori-15-19',\n",
       " 'Asian-all-ages',\n",
       " 'Asian-5-9',\n",
       " 'Asian-10-14',\n",
       " 'Asian-15-19',\n",
       " 'Pacific-all-ages',\n",
       " 'Pacific-5-9',\n",
       " 'Pacific-10-14',\n",
       " 'Pacific-15-19',\n",
       " 'Total-all-ages',\n",
       " 'Total-5-9',\n",
       " 'Total-10-14',\n",
       " 'Total-15-19']"
      ]
     },
     "execution_count": 3,
     "metadata": {},
     "output_type": "execute_result"
    }
   ],
   "source": [
    "# import population data\n",
    "filename = \"./Subnational-ethnic-population-projections-2013base.csv\"\n",
    "POP=spark.read.load(filename, format=\"csv\", header=\"true\")\n",
    "POP.columns"
   ]
  },
  {
   "cell_type": "code",
   "execution_count": 4,
   "metadata": {},
   "outputs": [
    {
     "data": {
      "text/plain": [
       "624768"
      ]
     },
     "execution_count": 4,
     "metadata": {},
     "output_type": "execute_result"
    }
   ],
   "source": [
    "MLLSN.count()"
   ]
  },
  {
   "cell_type": "code",
   "execution_count": 5,
   "metadata": {},
   "outputs": [
    {
     "name": "stdout",
     "output_type": "stream",
     "text": [
      "root\n",
      " |-- Students Number: string (nullable = true)\n",
      " |-- Year: As at 1 July: string (nullable = true)\n",
      " |-- Student: Ethnicity: string (nullable = true)\n",
      " |-- Student: Year level: string (nullable = true)\n",
      " |-- Student: Year level (Grouped): string (nullable = true)\n",
      " |-- Student: Maori Language Immersion Level: string (nullable = true)\n",
      " |-- Student: Maori Language in Education level: string (nullable = true)\n",
      " |-- School: ID: string (nullable = true)\n",
      " |-- School: Maori Language Descriptor: string (nullable = true)\n",
      " |-- School: Medium: string (nullable = true)\n",
      " |-- School: Highest Maori Language Immersion Level: string (nullable = true)\n",
      " |-- School: Name: string (nullable = true)\n",
      " |-- School: Sector: string (nullable = true)\n",
      " |-- School: Type: string (nullable = true)\n",
      " |-- School: Authority: string (nullable = true)\n",
      " |-- School: Decile: string (nullable = true)\n",
      " |-- School: Gender: string (nullable = true)\n",
      " |-- School: Affiliation Type: string (nullable = true)\n",
      " |-- School: Affiliation: string (nullable = true)\n",
      " |-- School: Definition: string (nullable = true)\n",
      " |-- School: Kura Type: string (nullable = true)\n",
      " |-- Region: Education Region: string (nullable = true)\n",
      " |-- Region: Regional Council: string (nullable = true)\n",
      " |-- Region: Territorial Authority: string (nullable = true)\n",
      " |-- Region: TA with Auckland wards: string (nullable = true)\n",
      " |-- Region: TA with Auckland local boards: string (nullable = true)\n",
      " |-- Region: MOE Local office: string (nullable = true)\n",
      " |-- Region: Census area unit: string (nullable = true)\n",
      " |-- Region: Ward: string (nullable = true)\n",
      "\n"
     ]
    }
   ],
   "source": [
    "MLLSN.printSchema()"
   ]
  },
  {
   "cell_type": "code",
   "execution_count": 6,
   "metadata": {},
   "outputs": [
    {
     "data": {
      "text/plain": [
       "528"
      ]
     },
     "execution_count": 6,
     "metadata": {},
     "output_type": "execute_result"
    }
   ],
   "source": [
    "POP.count()"
   ]
  },
  {
   "cell_type": "code",
   "execution_count": 7,
   "metadata": {},
   "outputs": [
    {
     "name": "stdout",
     "output_type": "stream",
     "text": [
      "root\n",
      " |-- TA with Auckland Local Board: string (nullable = true)\n",
      " |-- Year at 30 June: string (nullable = true)\n",
      " |-- Euro-all-ages: string (nullable = true)\n",
      " |-- Euro-5-9: string (nullable = true)\n",
      " |-- Euro-10-14: string (nullable = true)\n",
      " |-- Euro-15-19: string (nullable = true)\n",
      " |-- Maori-all-ages: string (nullable = true)\n",
      " |-- Maori-5-9: string (nullable = true)\n",
      " |-- Maori-10-14: string (nullable = true)\n",
      " |-- Maori-15-19: string (nullable = true)\n",
      " |-- Asian-all-ages: string (nullable = true)\n",
      " |-- Asian-5-9: string (nullable = true)\n",
      " |-- Asian-10-14: string (nullable = true)\n",
      " |-- Asian-15-19: string (nullable = true)\n",
      " |-- Pacific-all-ages: string (nullable = true)\n",
      " |-- Pacific-5-9: string (nullable = true)\n",
      " |-- Pacific-10-14: string (nullable = true)\n",
      " |-- Pacific-15-19: string (nullable = true)\n",
      " |-- Total-all-ages: string (nullable = true)\n",
      " |-- Total-5-9: string (nullable = true)\n",
      " |-- Total-10-14: string (nullable = true)\n",
      " |-- Total-15-19: string (nullable = true)\n",
      "\n"
     ]
    }
   ],
   "source": [
    "POP.printSchema()"
   ]
  },
  {
   "cell_type": "code",
   "execution_count": 8,
   "metadata": {},
   "outputs": [
    {
     "name": "stdout",
     "output_type": "stream",
     "text": [
      "+---------------+------------------+------------------+-------------------+-----------------------------+---------------------------------------+------------------------------------------+----------+---------------------------------+--------------------+----------------------------------------------+--------------------+--------------+--------------------+--------------------+--------------+--------------+------------------------+-------------------+------------------+-----------------+------------------------+------------------------+-----------------------------+------------------------------+-------------------------------------+------------------------+------------------------+--------------------+\n",
      "|Students Number|Year: As at 1 July|Student: Ethnicity|Student: Year level|Student: Year level (Grouped)|Student: Maori Language Immersion Level|Student: Maori Language in Education level|School: ID|School: Maori Language Descriptor|      School: Medium|School: Highest Maori Language Immersion Level|        School: Name|School: Sector|        School: Type|   School: Authority|School: Decile|School: Gender|School: Affiliation Type|School: Affiliation|School: Definition|School: Kura Type|Region: Education Region|Region: Regional Council|Region: Territorial Authority|Region: TA with Auckland wards|Region: TA with Auckland local boards|Region: MOE Local office|Region: Census area unit|        Region: Ward|\n",
      "+---------------+------------------+------------------+-------------------+-----------------------------+---------------------------------------+------------------------------------------+----------+---------------------------------+--------------------+----------------------------------------------+--------------------+--------------+--------------------+--------------------+--------------+--------------+------------------------+-------------------+------------------+-----------------+------------------------+------------------------+-----------------------------+------------------------------+-------------------------------------+------------------------+------------------------+--------------------+\n",
      "|              1|              2004|             Maori|             Year 1|           Primary (Year 1-8)|                       Level 1: 81-100%|                              Maori medium|         6|             Mixed Maori langu...|English and Maori...|                              Level 1: 81-100%|Broadwood Area Sc...|     Composite|Composite (Year 1...|State: Not integr...|      Decile 2|         Co-Ed|          No Affiliation|     Not Applicable|    Not Applicable|Not a Kura School|             Tai Tokerau|        Northland Region|           Far North District|            Far North District|                   Far North District|               Whangarei|          Hokianga North|Kaikohe-Hokianga ...|\n",
      "|              3|              2004|             Maori|             Year 2|           Primary (Year 1-8)|                       Level 1: 81-100%|                              Maori medium|         6|             Mixed Maori langu...|English and Maori...|                              Level 1: 81-100%|Broadwood Area Sc...|     Composite|Composite (Year 1...|State: Not integr...|      Decile 2|         Co-Ed|          No Affiliation|     Not Applicable|    Not Applicable|Not a Kura School|             Tai Tokerau|        Northland Region|           Far North District|            Far North District|                   Far North District|               Whangarei|          Hokianga North|Kaikohe-Hokianga ...|\n",
      "|              3|              2004|             Maori|             Year 3|           Primary (Year 1-8)|                       Level 1: 81-100%|                              Maori medium|         6|             Mixed Maori langu...|English and Maori...|                              Level 1: 81-100%|Broadwood Area Sc...|     Composite|Composite (Year 1...|State: Not integr...|      Decile 2|         Co-Ed|          No Affiliation|     Not Applicable|    Not Applicable|Not a Kura School|             Tai Tokerau|        Northland Region|           Far North District|            Far North District|                   Far North District|               Whangarei|          Hokianga North|Kaikohe-Hokianga ...|\n",
      "|              2|              2004|             Maori|             Year 4|           Primary (Year 1-8)|                       Level 1: 81-100%|                              Maori medium|         6|             Mixed Maori langu...|English and Maori...|                              Level 1: 81-100%|Broadwood Area Sc...|     Composite|Composite (Year 1...|State: Not integr...|      Decile 2|         Co-Ed|          No Affiliation|     Not Applicable|    Not Applicable|Not a Kura School|             Tai Tokerau|        Northland Region|           Far North District|            Far North District|                   Far North District|               Whangarei|          Hokianga North|Kaikohe-Hokianga ...|\n",
      "|              3|              2004|             Maori|             Year 6|           Primary (Year 1-8)|                       Level 1: 81-100%|                              Maori medium|         6|             Mixed Maori langu...|English and Maori...|                              Level 1: 81-100%|Broadwood Area Sc...|     Composite|Composite (Year 1...|State: Not integr...|      Decile 2|         Co-Ed|          No Affiliation|     Not Applicable|    Not Applicable|Not a Kura School|             Tai Tokerau|        Northland Region|           Far North District|            Far North District|                   Far North District|               Whangarei|          Hokianga North|Kaikohe-Hokianga ...|\n",
      "|              1|              2004|             Maori|             Year 9|          Secondary (Year 9+)|                       Level 1: 81-100%|                              Maori medium|         8|             School with some ...|English and Maori...|                              Level 1: 81-100%|Bay of Islands Co...|     Secondary|Secondary (Year 9...|State: Not integr...|      Decile 2|         Co-Ed|          No Affiliation|     Not Applicable|    Not Applicable|Not a Kura School|             Tai Tokerau|        Northland Region|           Far North District|            Far North District|                   Far North District|               Whangarei|                Kawakawa|Bay of Islands-Wh...|\n",
      "|              5|              2004|             Maori|            Year 10|          Secondary (Year 9+)|                       Level 1: 81-100%|                              Maori medium|         8|             School with some ...|English and Maori...|                              Level 1: 81-100%|Bay of Islands Co...|     Secondary|Secondary (Year 9...|State: Not integr...|      Decile 2|         Co-Ed|          No Affiliation|     Not Applicable|    Not Applicable|Not a Kura School|             Tai Tokerau|        Northland Region|           Far North District|            Far North District|                   Far North District|               Whangarei|                Kawakawa|Bay of Islands-Wh...|\n",
      "|              2|              2004|             Maori|            Year 11|          Secondary (Year 9+)|                       Level 1: 81-100%|                              Maori medium|         8|             School with some ...|English and Maori...|                              Level 1: 81-100%|Bay of Islands Co...|     Secondary|Secondary (Year 9...|State: Not integr...|      Decile 2|         Co-Ed|          No Affiliation|     Not Applicable|    Not Applicable|Not a Kura School|             Tai Tokerau|        Northland Region|           Far North District|            Far North District|                   Far North District|               Whangarei|                Kawakawa|Bay of Islands-Wh...|\n",
      "|              1|              2004|             Maori|            Year 12|          Secondary (Year 9+)|                       Level 1: 81-100%|                              Maori medium|         8|             School with some ...|English and Maori...|                              Level 1: 81-100%|Bay of Islands Co...|     Secondary|Secondary (Year 9...|State: Not integr...|      Decile 2|         Co-Ed|          No Affiliation|     Not Applicable|    Not Applicable|Not a Kura School|             Tai Tokerau|        Northland Region|           Far North District|            Far North District|                   Far North District|               Whangarei|                Kawakawa|Bay of Islands-Wh...|\n",
      "|              2|              2004|             Maori|             Year 1|           Primary (Year 1-8)|                       Level 1: 81-100%|                              Maori medium|        10|             Mixed Maori langu...|English and Maori...|                              Level 1: 81-100%|Te Kura Taumata o...|     Composite|Composite (Year 1...|State: Not integr...|      Decile 1|         Co-Ed|          No Affiliation|     Not Applicable|    Not Applicable|Not a Kura School|             Tai Tokerau|        Northland Region|           Far North District|            Far North District|                   Far North District|               Whangarei|          Hokianga North|Kaikohe-Hokianga ...|\n",
      "|              5|              2004|             Maori|             Year 2|           Primary (Year 1-8)|                       Level 1: 81-100%|                              Maori medium|        10|             Mixed Maori langu...|English and Maori...|                              Level 1: 81-100%|Te Kura Taumata o...|     Composite|Composite (Year 1...|State: Not integr...|      Decile 1|         Co-Ed|          No Affiliation|     Not Applicable|    Not Applicable|Not a Kura School|             Tai Tokerau|        Northland Region|           Far North District|            Far North District|                   Far North District|               Whangarei|          Hokianga North|Kaikohe-Hokianga ...|\n",
      "|              6|              2004|             Maori|             Year 3|           Primary (Year 1-8)|                       Level 1: 81-100%|                              Maori medium|        10|             Mixed Maori langu...|English and Maori...|                              Level 1: 81-100%|Te Kura Taumata o...|     Composite|Composite (Year 1...|State: Not integr...|      Decile 1|         Co-Ed|          No Affiliation|     Not Applicable|    Not Applicable|Not a Kura School|             Tai Tokerau|        Northland Region|           Far North District|            Far North District|                   Far North District|               Whangarei|          Hokianga North|Kaikohe-Hokianga ...|\n",
      "|              8|              2004|             Maori|             Year 4|           Primary (Year 1-8)|                       Level 1: 81-100%|                              Maori medium|        10|             Mixed Maori langu...|English and Maori...|                              Level 1: 81-100%|Te Kura Taumata o...|     Composite|Composite (Year 1...|State: Not integr...|      Decile 1|         Co-Ed|          No Affiliation|     Not Applicable|    Not Applicable|Not a Kura School|             Tai Tokerau|        Northland Region|           Far North District|            Far North District|                   Far North District|               Whangarei|          Hokianga North|Kaikohe-Hokianga ...|\n",
      "|             10|              2004|             Maori|             Year 5|           Primary (Year 1-8)|                       Level 1: 81-100%|                              Maori medium|        10|             Mixed Maori langu...|English and Maori...|                              Level 1: 81-100%|Te Kura Taumata o...|     Composite|Composite (Year 1...|State: Not integr...|      Decile 1|         Co-Ed|          No Affiliation|     Not Applicable|    Not Applicable|Not a Kura School|             Tai Tokerau|        Northland Region|           Far North District|            Far North District|                   Far North District|               Whangarei|          Hokianga North|Kaikohe-Hokianga ...|\n",
      "|              8|              2004|             Maori|             Year 6|           Primary (Year 1-8)|                       Level 1: 81-100%|                              Maori medium|        10|             Mixed Maori langu...|English and Maori...|                              Level 1: 81-100%|Te Kura Taumata o...|     Composite|Composite (Year 1...|State: Not integr...|      Decile 1|         Co-Ed|          No Affiliation|     Not Applicable|    Not Applicable|Not a Kura School|             Tai Tokerau|        Northland Region|           Far North District|            Far North District|                   Far North District|               Whangarei|          Hokianga North|Kaikohe-Hokianga ...|\n",
      "|             14|              2004|             Maori|             Year 7|           Primary (Year 1-8)|                       Level 1: 81-100%|                              Maori medium|        10|             Mixed Maori langu...|English and Maori...|                              Level 1: 81-100%|Te Kura Taumata o...|     Composite|Composite (Year 1...|State: Not integr...|      Decile 1|         Co-Ed|          No Affiliation|     Not Applicable|    Not Applicable|Not a Kura School|             Tai Tokerau|        Northland Region|           Far North District|            Far North District|                   Far North District|               Whangarei|          Hokianga North|Kaikohe-Hokianga ...|\n",
      "|              9|              2004|             Maori|             Year 8|           Primary (Year 1-8)|                       Level 1: 81-100%|                              Maori medium|        10|             Mixed Maori langu...|English and Maori...|                              Level 1: 81-100%|Te Kura Taumata o...|     Composite|Composite (Year 1...|State: Not integr...|      Decile 1|         Co-Ed|          No Affiliation|     Not Applicable|    Not Applicable|Not a Kura School|             Tai Tokerau|        Northland Region|           Far North District|            Far North District|                   Far North District|               Whangarei|          Hokianga North|Kaikohe-Hokianga ...|\n",
      "|              6|              2004|             Maori|             Year 1|           Primary (Year 1-8)|                       Level 1: 81-100%|                              Maori medium|        11|             School with some ...|English and Maori...|                              Level 1: 81-100%| Opononi Area School|     Composite|Composite (Year 1...|State: Not integr...|      Decile 2|         Co-Ed|          No Affiliation|     Not Applicable|    Not Applicable|Not a Kura School|             Tai Tokerau|        Northland Region|           Far North District|            Far North District|                   Far North District|               Whangarei|     Omapere and Opononi|Kaikohe-Hokianga ...|\n",
      "|              5|              2004|             Maori|             Year 2|           Primary (Year 1-8)|                       Level 1: 81-100%|                              Maori medium|        11|             School with some ...|English and Maori...|                              Level 1: 81-100%| Opononi Area School|     Composite|Composite (Year 1...|State: Not integr...|      Decile 2|         Co-Ed|          No Affiliation|     Not Applicable|    Not Applicable|Not a Kura School|             Tai Tokerau|        Northland Region|           Far North District|            Far North District|                   Far North District|               Whangarei|     Omapere and Opononi|Kaikohe-Hokianga ...|\n",
      "|              2|              2004|             Maori|             Year 3|           Primary (Year 1-8)|                       Level 1: 81-100%|                              Maori medium|        11|             School with some ...|English and Maori...|                              Level 1: 81-100%| Opononi Area School|     Composite|Composite (Year 1...|State: Not integr...|      Decile 2|         Co-Ed|          No Affiliation|     Not Applicable|    Not Applicable|Not a Kura School|             Tai Tokerau|        Northland Region|           Far North District|            Far North District|                   Far North District|               Whangarei|     Omapere and Opononi|Kaikohe-Hokianga ...|\n",
      "+---------------+------------------+------------------+-------------------+-----------------------------+---------------------------------------+------------------------------------------+----------+---------------------------------+--------------------+----------------------------------------------+--------------------+--------------+--------------------+--------------------+--------------+--------------+------------------------+-------------------+------------------+-----------------+------------------------+------------------------+-----------------------------+------------------------------+-------------------------------------+------------------------+------------------------+--------------------+\n",
      "only showing top 20 rows\n",
      "\n"
     ]
    }
   ],
   "source": [
    "MLLSN.show()"
   ]
  },
  {
   "cell_type": "code",
   "execution_count": 21,
   "metadata": {},
   "outputs": [
    {
     "name": "stdout",
     "output_type": "stream",
     "text": [
      "+------------------+\n",
      "|Student: Ethnicity|\n",
      "+------------------+\n",
      "|             Maori|\n",
      "|         Non Maori|\n",
      "+------------------+\n",
      "\n",
      "+-----------------------------+\n",
      "|Student: Year level (Grouped)|\n",
      "+-----------------------------+\n",
      "|          Secondary (Year 9+)|\n",
      "|           Primary (Year 1-8)|\n",
      "+-----------------------------+\n",
      "\n"
     ]
    }
   ],
   "source": [
    "#check unique values in the key attributes\n",
    "MLLSN.select(\"Student: Ethnicity\").distinct().show()\n",
    "MLLSN.select(\"Student: Year level (Grouped)\").distinct().show()"
   ]
  },
  {
   "cell_type": "code",
   "execution_count": 23,
   "metadata": {},
   "outputs": [
    {
     "name": "stdout",
     "output_type": "stream",
     "text": [
      "+---------------------------------------+\n",
      "|Student: Maori Language Immersion Level|\n",
      "+---------------------------------------+\n",
      "|                   Level 4(b): At le...|\n",
      "|                   Level 4(a): up to...|\n",
      "|                   Level 5: Less tha...|\n",
      "|                        Level 3: 31-50%|\n",
      "|                   No Maori language...|\n",
      "|                       Level 1: 81-100%|\n",
      "|                    Level 6: Taha Maori|\n",
      "|                        Level 2: 51-80%|\n",
      "+---------------------------------------+\n",
      "\n",
      "+------------------------------------------+\n",
      "|Student: Maori Language in Education level|\n",
      "+------------------------------------------+\n",
      "|                      Maori Language in...|\n",
      "|                      No Maori language...|\n",
      "|                              Maori medium|\n",
      "+------------------------------------------+\n",
      "\n"
     ]
    }
   ],
   "source": [
    "MLLSN.select(\"Student: Maori Language Immersion Level\").distinct().show()\n",
    "MLLSN.select(\"Student: Maori Language in Education level\").distinct().show()"
   ]
  },
  {
   "cell_type": "code",
   "execution_count": 24,
   "metadata": {},
   "outputs": [
    {
     "name": "stdout",
     "output_type": "stream",
     "text": [
      "+--------------------+\n",
      "|        School: Type|\n",
      "+--------------------+\n",
      "|Kura Teina - Primary|\n",
      "|Restricted Compos...|\n",
      "|      Special School|\n",
      "|Correspondence Sc...|\n",
      "|        Full Primary|\n",
      "|        Intermediate|\n",
      "|    Teen Parent Unit|\n",
      "|Secondary (Year 9...|\n",
      "|Kura Teina - Comp...|\n",
      "|        Contributing|\n",
      "|Secondary (Year 7...|\n",
      "|Composite (Year 1...|\n",
      "+--------------------+\n",
      "\n",
      "+--------------+\n",
      "|School: Sector|\n",
      "+--------------+\n",
      "|     Secondary|\n",
      "|       Special|\n",
      "|     Composite|\n",
      "|       Primary|\n",
      "+--------------+\n",
      "\n"
     ]
    }
   ],
   "source": [
    "MLLSN.select('School: Type').distinct().show()\n",
    "MLLSN.select('School: Sector').distinct().show()"
   ]
  },
  {
   "cell_type": "code",
   "execution_count": 10,
   "metadata": {},
   "outputs": [
    {
     "name": "stdout",
     "output_type": "stream",
     "text": [
      "+----------------------------+---------------+-------------+--------+----------+----------+--------------+---------+-----------+-----------+--------------+---------+-----------+-----------+----------------+-----------+-------------+-------------+--------------+---------+-----------+-----------+\n",
      "|TA with Auckland Local Board|Year at 30 June|Euro-all-ages|Euro-5-9|Euro-10-14|Euro-15-19|Maori-all-ages|Maori-5-9|Maori-10-14|Maori-15-19|Asian-all-ages|Asian-5-9|Asian-10-14|Asian-15-19|Pacific-all-ages|Pacific-5-9|Pacific-10-14|Pacific-15-19|Total-all-ages|Total-5-9|Total-10-14|Total-15-19|\n",
      "+----------------------------+---------------+-------------+--------+----------+----------+--------------+---------+-----------+-----------+--------------+---------+-----------+-----------+----------------+-----------+-------------+-------------+--------------+---------+-----------+-----------+\n",
      "|          Far North district|           2013|        40800|    2750|      2770|      2420|         27100|     2980|       2950|       2510|          1630|      130|        115|        100|            2540|        360|          390|          280|         60600|     4560|       4710|       4140|\n",
      "|          Far North district|           2018|        42600|    3080|      2850|      2020|         28700|     3200|       3070|       2720|          2310|      200|        160|        120|            3110|        480|          390|          400|         62900|     4820|       4730|       3960|\n",
      "|          Far North district|           2023|        43800|    3150|      3150|      2060|         30300|     3050|       3320|       2860|          2920|      270|        220|        150|            3760|        510|          500|          400|         64100|     4470|       4970|       3940|\n",
      "|          Far North district|           2028|        44900|    3310|      3230|      2350|         31800|     3090|       3160|       3120|          3440|      310|        280|        210|            4470|        600|          530|          510|         64900|     4490|       4620|       4180|\n",
      "|          Far North district|           2033|        45700|    3390|      3380|      2430|         33300|     3120|       3210|       2950|          3940|      320|        320|        270|            5280|        710|          620|          530|         65200|     4350|       4630|       3830|\n",
      "|          Far North district|           2038|        46100|    3290|      3470|      2580|         34900|     3200|       3240|       3000|          4430|      320|        330|        310|            6210|        840|          730|          620|         64900|     4110|       4500|       3850|\n",
      "|          Whangarei district|           2013|        67500|    4720|      4470|      4270|         23100|     2680|       2430|       2250|          3230|      230|        240|        240|            2640|        360|          350|          300|         83700|     6200|       5940|       5590|\n",
      "|          Whangarei district|           2018|        71800|    5400|      4870|      4150|         26000|     3210|       2790|       2420|          4850|      380|        300|        300|            3450|        530|          400|          360|         90600|     6930|       6500|       5610|\n",
      "|          Whangarei district|           2023|        74600|    5320|      5490|      4450|         29000|     3100|       3340|       2800|          6140|      540|        420|        330|            4160|        610|          550|          390|         95500|     6540|       7160|       6080|\n",
      "|          Whangarei district|           2028|        76600|    5490|      5380|      5030|         32100|     3270|       3240|       3380|          7110|      570|        550|        430|            4950|        670|          630|          550|         99200|     6710|       6750|       6710|\n",
      "|          Whangarei district|           2033|        78200|    5570|      5540|      4910|         35400|     3470|       3420|       3270|          8050|      570|        590|        560|            5820|        760|          690|          630|        102400|     6730|       6910|       6290|\n",
      "|          Whangarei district|           2038|        79300|    5480|      5620|      5080|         39100|     3760|       3620|       3460|          8970|      560|        580|        600|            6800|        860|          780|          690|        105000|     6630|       6940|       6460|\n",
      "|            Kaipara district|           2013|        17350|    1140|      1150|      1060|          5010|      530|        570|        490|           470|       40|         40|         25|             660|         85|           90|           80|         20500|     1390|       1450|       1320|\n",
      "|            Kaipara district|           2018|        18750|    1210|      1190|       870|          5520|      630|        550|        560|          1050|       90|         80|         60|             860|        140|          100|           95|         22600|     1490|       1490|       1260|\n",
      "|            Kaipara district|           2023|        19350|    1240|      1210|       860|          5950|      630|        650|        530|          1440|      115|        115|         90|            1030|        140|          145|          100|         23600|     1430|       1560|       1250|\n",
      "|            Kaipara district|           2028|        19850|    1300|      1240|       880|          6410|      670|        650|        640|          1730|      120|        130|        120|            1230|        160|          145|          145|         24400|     1500|       1500|       1320|\n",
      "|            Kaipara district|           2033|        20100|    1320|      1310|       910|          6900|      700|        690|        640|          2020|      120|        130|        140|            1450|        190|          165|          145|         24900|     1470|       1560|       1260|\n",
      "|            Kaipara district|           2038|        20100|    1240|      1330|       970|          7420|      740|        730|        680|          2310|      130|        130|        140|            1710|        225|          195|          165|         25200|     1370|       1530|       1320|\n",
      "|                    Auckland|           2013|       886400|   58960|     55640|     57470|        169800|    18670|      16790|      17010|        348900|    21080|      20540|      26840|          227000|      25360|        24480|        23470|       1493200|   102070|      99570|     108750|\n",
      "|                    Auckland|           2018|       946700|   63460|     60280|     56710|        188100|    20250|      18470|      17880|        472700|    28220|      24520|      26340|          252400|      27470|        24810|        24930|       1699900|   110790|     103670|     109130|\n",
      "+----------------------------+---------------+-------------+--------+----------+----------+--------------+---------+-----------+-----------+--------------+---------+-----------+-----------+----------------+-----------+-------------+-------------+--------------+---------+-----------+-----------+\n",
      "only showing top 20 rows\n",
      "\n"
     ]
    }
   ],
   "source": [
    "POP.show()"
   ]
  },
  {
   "cell_type": "code",
   "execution_count": null,
   "metadata": {},
   "outputs": [],
   "source": []
  }
 ],
 "metadata": {
  "kernelspec": {
   "display_name": "Python 3",
   "language": "python",
   "name": "python3"
  },
  "language_info": {
   "codemirror_mode": {
    "name": "ipython",
    "version": 3
   },
   "file_extension": ".py",
   "mimetype": "text/x-python",
   "name": "python",
   "nbconvert_exporter": "python",
   "pygments_lexer": "ipython3",
   "version": "3.5.2"
  }
 },
 "nbformat": 4,
 "nbformat_minor": 2
}
