{
 "cells": [
  {
   "cell_type": "code",
   "execution_count": 1,
   "metadata": {},
   "outputs": [],
   "source": [
    "import findspark\n",
    "findspark.init(\"/home/ubuntu/spark-2.1.1-bin-hadoop2.7\")\n",
    "import pyspark\n",
    "from pyspark.sql import SparkSession\n",
    "spark = SparkSession.builder.appName('BDAS-Linda').getOrCreate()\n",
    "\n",
    "from functools import reduce\n",
    "from pyspark.sql import DataFrame\n"
   ]
  },
  {
   "cell_type": "code",
   "execution_count": 3,
   "metadata": {},
   "outputs": [
    {
     "data": {
      "text/plain": [
       "['Students Number',\n",
       " 'Year: As at 1 July',\n",
       " 'Student: Ethnicity',\n",
       " 'Student: Year level',\n",
       " 'Student: Year level (Grouped)',\n",
       " 'Student: Maori Language Immersion Level',\n",
       " 'Student: Maori Language in Education level',\n",
       " 'School: ID',\n",
       " 'School: Maori Language Descriptor',\n",
       " 'School: Medium',\n",
       " 'School: Highest Maori Language Immersion Level',\n",
       " 'School: Name',\n",
       " 'School: Sector',\n",
       " 'School: Type',\n",
       " 'School: Authority',\n",
       " 'School: Decile',\n",
       " 'School: Gender',\n",
       " 'School: Affiliation Type',\n",
       " 'School: Affiliation',\n",
       " 'School: Definition',\n",
       " 'School: Kura Type',\n",
       " 'Region: Education Region',\n",
       " 'Region: Regional Council',\n",
       " 'Region: Territorial Authority',\n",
       " 'Region: TA with Auckland wards',\n",
       " 'Region: TA with Auckland local boards',\n",
       " 'Region: MOE Local office',\n",
       " 'Region: Census area unit',\n",
       " 'Region: Ward']"
      ]
     },
     "execution_count": 3,
     "metadata": {},
     "output_type": "execute_result"
    }
   ],
   "source": [
    "# import Maori language in education datasets\n",
    "filename1 = \"./Maori-Language-Learning-Student-Numbers-by-Ethnicity-2004-2008.csv\"\n",
    "filename2 = \"./Maori-Language-Learning-Student-Numbers-by-Ethnicity-2009-2013.csv\"\n",
    "filename3 = \"./Maori-Language-Learning-Student-Numbers-by-Ethnicity-2014-2018.csv\"\n",
    "filename4 = \"./Maori-Language-Learning-Student-Numbers-by-Ethnicity-2019.csv\"\n",
    "MLLSN1=spark.read.csv(filename1, inferSchema=True, header=\"true\")\n",
    "MLLSN2=spark.read.csv(filename2, inferSchema=True, header=\"true\")\n",
    "MLLSN3=spark.read.csv(filename3, inferSchema=True, header=\"true\")\n",
    "MLLSN4=spark.read.csv(filename4, inferSchema=True, header=\"true\")\n",
    "\n",
    "def unionAll(*dfs):\n",
    "    return reduce(DataFrame.unionAll, dfs)\n",
    "\n",
    "MLLSN=unionAll(MLLSN1,MLLSN2,MLLSN3,MLLSN4)\n",
    "MLLSN.columns"
   ]
  },
  {
   "cell_type": "code",
   "execution_count": 4,
   "metadata": {},
   "outputs": [
    {
     "data": {
      "text/plain": [
       "['TA with Auckland Local Board',\n",
       " 'Year at 30 June',\n",
       " 'Euro-all-ages',\n",
       " 'Euro-5-9',\n",
       " 'Euro-10-14',\n",
       " 'Euro-15-19',\n",
       " 'Maori-all-ages',\n",
       " 'Maori-5-9',\n",
       " 'Maori-10-14',\n",
       " 'Maori-15-19',\n",
       " 'Asian-all-ages',\n",
       " 'Asian-5-9',\n",
       " 'Asian-10-14',\n",
       " 'Asian-15-19',\n",
       " 'Pacific-all-ages',\n",
       " 'Pacific-5-9',\n",
       " 'Pacific-10-14',\n",
       " 'Pacific-15-19',\n",
       " 'Total-all-ages',\n",
       " 'Total-5-9',\n",
       " 'Total-10-14',\n",
       " 'Total-15-19']"
      ]
     },
     "execution_count": 4,
     "metadata": {},
     "output_type": "execute_result"
    }
   ],
   "source": [
    "# import population data\n",
    "filename = \"./Subnational-ethnic-population-projections-2013base.csv\"\n",
    "POP=spark.read.csv(filename, inferSchema=True, header=\"true\")\n",
    "POP.columns"
   ]
  },
  {
   "cell_type": "code",
   "execution_count": 5,
   "metadata": {},
   "outputs": [
    {
     "data": {
      "text/plain": [
       "624768"
      ]
     },
     "execution_count": 5,
     "metadata": {},
     "output_type": "execute_result"
    }
   ],
   "source": [
    "MLLSN.count()"
   ]
  },
  {
   "cell_type": "code",
   "execution_count": 6,
   "metadata": {},
   "outputs": [
    {
     "name": "stdout",
     "output_type": "stream",
     "text": [
      "root\n",
      " |-- Students Number: integer (nullable = true)\n",
      " |-- Year: As at 1 July: integer (nullable = true)\n",
      " |-- Student: Ethnicity: string (nullable = true)\n",
      " |-- Student: Year level: string (nullable = true)\n",
      " |-- Student: Year level (Grouped): string (nullable = true)\n",
      " |-- Student: Maori Language Immersion Level: string (nullable = true)\n",
      " |-- Student: Maori Language in Education level: string (nullable = true)\n",
      " |-- School: ID: integer (nullable = true)\n",
      " |-- School: Maori Language Descriptor: string (nullable = true)\n",
      " |-- School: Medium: string (nullable = true)\n",
      " |-- School: Highest Maori Language Immersion Level: string (nullable = true)\n",
      " |-- School: Name: string (nullable = true)\n",
      " |-- School: Sector: string (nullable = true)\n",
      " |-- School: Type: string (nullable = true)\n",
      " |-- School: Authority: string (nullable = true)\n",
      " |-- School: Decile: string (nullable = true)\n",
      " |-- School: Gender: string (nullable = true)\n",
      " |-- School: Affiliation Type: string (nullable = true)\n",
      " |-- School: Affiliation: string (nullable = true)\n",
      " |-- School: Definition: string (nullable = true)\n",
      " |-- School: Kura Type: string (nullable = true)\n",
      " |-- Region: Education Region: string (nullable = true)\n",
      " |-- Region: Regional Council: string (nullable = true)\n",
      " |-- Region: Territorial Authority: string (nullable = true)\n",
      " |-- Region: TA with Auckland wards: string (nullable = true)\n",
      " |-- Region: TA with Auckland local boards: string (nullable = true)\n",
      " |-- Region: MOE Local office: string (nullable = true)\n",
      " |-- Region: Census area unit: string (nullable = true)\n",
      " |-- Region: Ward: string (nullable = true)\n",
      "\n"
     ]
    }
   ],
   "source": [
    "MLLSN.printSchema()"
   ]
  },
  {
   "cell_type": "code",
   "execution_count": 7,
   "metadata": {},
   "outputs": [
    {
     "data": {
      "text/plain": [
       "528"
      ]
     },
     "execution_count": 7,
     "metadata": {},
     "output_type": "execute_result"
    }
   ],
   "source": [
    "POP.count()"
   ]
  },
  {
   "cell_type": "code",
   "execution_count": 8,
   "metadata": {},
   "outputs": [
    {
     "name": "stdout",
     "output_type": "stream",
     "text": [
      "root\n",
      " |-- TA with Auckland Local Board: string (nullable = true)\n",
      " |-- Year at 30 June: integer (nullable = true)\n",
      " |-- Euro-all-ages: integer (nullable = true)\n",
      " |-- Euro-5-9: integer (nullable = true)\n",
      " |-- Euro-10-14: integer (nullable = true)\n",
      " |-- Euro-15-19: integer (nullable = true)\n",
      " |-- Maori-all-ages: integer (nullable = true)\n",
      " |-- Maori-5-9: integer (nullable = true)\n",
      " |-- Maori-10-14: integer (nullable = true)\n",
      " |-- Maori-15-19: integer (nullable = true)\n",
      " |-- Asian-all-ages: integer (nullable = true)\n",
      " |-- Asian-5-9: integer (nullable = true)\n",
      " |-- Asian-10-14: integer (nullable = true)\n",
      " |-- Asian-15-19: integer (nullable = true)\n",
      " |-- Pacific-all-ages: integer (nullable = true)\n",
      " |-- Pacific-5-9: integer (nullable = true)\n",
      " |-- Pacific-10-14: integer (nullable = true)\n",
      " |-- Pacific-15-19: integer (nullable = true)\n",
      " |-- Total-all-ages: integer (nullable = true)\n",
      " |-- Total-5-9: integer (nullable = true)\n",
      " |-- Total-10-14: integer (nullable = true)\n",
      " |-- Total-15-19: integer (nullable = true)\n",
      "\n"
     ]
    }
   ],
   "source": [
    "POP.printSchema()"
   ]
  },
  {
   "cell_type": "code",
   "execution_count": 9,
   "metadata": {},
   "outputs": [
    {
     "name": "stdout",
     "output_type": "stream",
     "text": [
      "+---------------+------------------+------------------+-------------------+-----------------------------+---------------------------------------+------------------------------------------+----------+---------------------------------+--------------------+----------------------------------------------+--------------------+--------------+--------------------+--------------------+--------------+--------------+------------------------+-------------------+------------------+-----------------+------------------------+------------------------+-----------------------------+------------------------------+-------------------------------------+------------------------+------------------------+--------------------+\n",
      "|Students Number|Year: As at 1 July|Student: Ethnicity|Student: Year level|Student: Year level (Grouped)|Student: Maori Language Immersion Level|Student: Maori Language in Education level|School: ID|School: Maori Language Descriptor|      School: Medium|School: Highest Maori Language Immersion Level|        School: Name|School: Sector|        School: Type|   School: Authority|School: Decile|School: Gender|School: Affiliation Type|School: Affiliation|School: Definition|School: Kura Type|Region: Education Region|Region: Regional Council|Region: Territorial Authority|Region: TA with Auckland wards|Region: TA with Auckland local boards|Region: MOE Local office|Region: Census area unit|        Region: Ward|\n",
      "+---------------+------------------+------------------+-------------------+-----------------------------+---------------------------------------+------------------------------------------+----------+---------------------------------+--------------------+----------------------------------------------+--------------------+--------------+--------------------+--------------------+--------------+--------------+------------------------+-------------------+------------------+-----------------+------------------------+------------------------+-----------------------------+------------------------------+-------------------------------------+------------------------+------------------------+--------------------+\n",
      "|              1|              2004|             Maori|             Year 1|           Primary (Year 1-8)|                       Level 1: 81-100%|                              Maori medium|         6|             Mixed Maori langu...|English and Maori...|                              Level 1: 81-100%|Broadwood Area Sc...|     Composite|Composite (Year 1...|State: Not integr...|      Decile 2|         Co-Ed|          No Affiliation|     Not Applicable|    Not Applicable|Not a Kura School|             Tai Tokerau|        Northland Region|           Far North District|            Far North District|                   Far North District|               Whangarei|          Hokianga North|Kaikohe-Hokianga ...|\n",
      "|              3|              2004|             Maori|             Year 2|           Primary (Year 1-8)|                       Level 1: 81-100%|                              Maori medium|         6|             Mixed Maori langu...|English and Maori...|                              Level 1: 81-100%|Broadwood Area Sc...|     Composite|Composite (Year 1...|State: Not integr...|      Decile 2|         Co-Ed|          No Affiliation|     Not Applicable|    Not Applicable|Not a Kura School|             Tai Tokerau|        Northland Region|           Far North District|            Far North District|                   Far North District|               Whangarei|          Hokianga North|Kaikohe-Hokianga ...|\n",
      "|              3|              2004|             Maori|             Year 3|           Primary (Year 1-8)|                       Level 1: 81-100%|                              Maori medium|         6|             Mixed Maori langu...|English and Maori...|                              Level 1: 81-100%|Broadwood Area Sc...|     Composite|Composite (Year 1...|State: Not integr...|      Decile 2|         Co-Ed|          No Affiliation|     Not Applicable|    Not Applicable|Not a Kura School|             Tai Tokerau|        Northland Region|           Far North District|            Far North District|                   Far North District|               Whangarei|          Hokianga North|Kaikohe-Hokianga ...|\n",
      "|              2|              2004|             Maori|             Year 4|           Primary (Year 1-8)|                       Level 1: 81-100%|                              Maori medium|         6|             Mixed Maori langu...|English and Maori...|                              Level 1: 81-100%|Broadwood Area Sc...|     Composite|Composite (Year 1...|State: Not integr...|      Decile 2|         Co-Ed|          No Affiliation|     Not Applicable|    Not Applicable|Not a Kura School|             Tai Tokerau|        Northland Region|           Far North District|            Far North District|                   Far North District|               Whangarei|          Hokianga North|Kaikohe-Hokianga ...|\n",
      "|              3|              2004|             Maori|             Year 6|           Primary (Year 1-8)|                       Level 1: 81-100%|                              Maori medium|         6|             Mixed Maori langu...|English and Maori...|                              Level 1: 81-100%|Broadwood Area Sc...|     Composite|Composite (Year 1...|State: Not integr...|      Decile 2|         Co-Ed|          No Affiliation|     Not Applicable|    Not Applicable|Not a Kura School|             Tai Tokerau|        Northland Region|           Far North District|            Far North District|                   Far North District|               Whangarei|          Hokianga North|Kaikohe-Hokianga ...|\n",
      "|              1|              2004|             Maori|             Year 9|          Secondary (Year 9+)|                       Level 1: 81-100%|                              Maori medium|         8|             School with some ...|English and Maori...|                              Level 1: 81-100%|Bay of Islands Co...|     Secondary|Secondary (Year 9...|State: Not integr...|      Decile 2|         Co-Ed|          No Affiliation|     Not Applicable|    Not Applicable|Not a Kura School|             Tai Tokerau|        Northland Region|           Far North District|            Far North District|                   Far North District|               Whangarei|                Kawakawa|Bay of Islands-Wh...|\n",
      "|              5|              2004|             Maori|            Year 10|          Secondary (Year 9+)|                       Level 1: 81-100%|                              Maori medium|         8|             School with some ...|English and Maori...|                              Level 1: 81-100%|Bay of Islands Co...|     Secondary|Secondary (Year 9...|State: Not integr...|      Decile 2|         Co-Ed|          No Affiliation|     Not Applicable|    Not Applicable|Not a Kura School|             Tai Tokerau|        Northland Region|           Far North District|            Far North District|                   Far North District|               Whangarei|                Kawakawa|Bay of Islands-Wh...|\n",
      "|              2|              2004|             Maori|            Year 11|          Secondary (Year 9+)|                       Level 1: 81-100%|                              Maori medium|         8|             School with some ...|English and Maori...|                              Level 1: 81-100%|Bay of Islands Co...|     Secondary|Secondary (Year 9...|State: Not integr...|      Decile 2|         Co-Ed|          No Affiliation|     Not Applicable|    Not Applicable|Not a Kura School|             Tai Tokerau|        Northland Region|           Far North District|            Far North District|                   Far North District|               Whangarei|                Kawakawa|Bay of Islands-Wh...|\n",
      "|              1|              2004|             Maori|            Year 12|          Secondary (Year 9+)|                       Level 1: 81-100%|                              Maori medium|         8|             School with some ...|English and Maori...|                              Level 1: 81-100%|Bay of Islands Co...|     Secondary|Secondary (Year 9...|State: Not integr...|      Decile 2|         Co-Ed|          No Affiliation|     Not Applicable|    Not Applicable|Not a Kura School|             Tai Tokerau|        Northland Region|           Far North District|            Far North District|                   Far North District|               Whangarei|                Kawakawa|Bay of Islands-Wh...|\n",
      "|              2|              2004|             Maori|             Year 1|           Primary (Year 1-8)|                       Level 1: 81-100%|                              Maori medium|        10|             Mixed Maori langu...|English and Maori...|                              Level 1: 81-100%|Te Kura Taumata o...|     Composite|Composite (Year 1...|State: Not integr...|      Decile 1|         Co-Ed|          No Affiliation|     Not Applicable|    Not Applicable|Not a Kura School|             Tai Tokerau|        Northland Region|           Far North District|            Far North District|                   Far North District|               Whangarei|          Hokianga North|Kaikohe-Hokianga ...|\n",
      "|              5|              2004|             Maori|             Year 2|           Primary (Year 1-8)|                       Level 1: 81-100%|                              Maori medium|        10|             Mixed Maori langu...|English and Maori...|                              Level 1: 81-100%|Te Kura Taumata o...|     Composite|Composite (Year 1...|State: Not integr...|      Decile 1|         Co-Ed|          No Affiliation|     Not Applicable|    Not Applicable|Not a Kura School|             Tai Tokerau|        Northland Region|           Far North District|            Far North District|                   Far North District|               Whangarei|          Hokianga North|Kaikohe-Hokianga ...|\n",
      "|              6|              2004|             Maori|             Year 3|           Primary (Year 1-8)|                       Level 1: 81-100%|                              Maori medium|        10|             Mixed Maori langu...|English and Maori...|                              Level 1: 81-100%|Te Kura Taumata o...|     Composite|Composite (Year 1...|State: Not integr...|      Decile 1|         Co-Ed|          No Affiliation|     Not Applicable|    Not Applicable|Not a Kura School|             Tai Tokerau|        Northland Region|           Far North District|            Far North District|                   Far North District|               Whangarei|          Hokianga North|Kaikohe-Hokianga ...|\n",
      "|              8|              2004|             Maori|             Year 4|           Primary (Year 1-8)|                       Level 1: 81-100%|                              Maori medium|        10|             Mixed Maori langu...|English and Maori...|                              Level 1: 81-100%|Te Kura Taumata o...|     Composite|Composite (Year 1...|State: Not integr...|      Decile 1|         Co-Ed|          No Affiliation|     Not Applicable|    Not Applicable|Not a Kura School|             Tai Tokerau|        Northland Region|           Far North District|            Far North District|                   Far North District|               Whangarei|          Hokianga North|Kaikohe-Hokianga ...|\n",
      "|             10|              2004|             Maori|             Year 5|           Primary (Year 1-8)|                       Level 1: 81-100%|                              Maori medium|        10|             Mixed Maori langu...|English and Maori...|                              Level 1: 81-100%|Te Kura Taumata o...|     Composite|Composite (Year 1...|State: Not integr...|      Decile 1|         Co-Ed|          No Affiliation|     Not Applicable|    Not Applicable|Not a Kura School|             Tai Tokerau|        Northland Region|           Far North District|            Far North District|                   Far North District|               Whangarei|          Hokianga North|Kaikohe-Hokianga ...|\n",
      "|              8|              2004|             Maori|             Year 6|           Primary (Year 1-8)|                       Level 1: 81-100%|                              Maori medium|        10|             Mixed Maori langu...|English and Maori...|                              Level 1: 81-100%|Te Kura Taumata o...|     Composite|Composite (Year 1...|State: Not integr...|      Decile 1|         Co-Ed|          No Affiliation|     Not Applicable|    Not Applicable|Not a Kura School|             Tai Tokerau|        Northland Region|           Far North District|            Far North District|                   Far North District|               Whangarei|          Hokianga North|Kaikohe-Hokianga ...|\n",
      "|             14|              2004|             Maori|             Year 7|           Primary (Year 1-8)|                       Level 1: 81-100%|                              Maori medium|        10|             Mixed Maori langu...|English and Maori...|                              Level 1: 81-100%|Te Kura Taumata o...|     Composite|Composite (Year 1...|State: Not integr...|      Decile 1|         Co-Ed|          No Affiliation|     Not Applicable|    Not Applicable|Not a Kura School|             Tai Tokerau|        Northland Region|           Far North District|            Far North District|                   Far North District|               Whangarei|          Hokianga North|Kaikohe-Hokianga ...|\n",
      "|              9|              2004|             Maori|             Year 8|           Primary (Year 1-8)|                       Level 1: 81-100%|                              Maori medium|        10|             Mixed Maori langu...|English and Maori...|                              Level 1: 81-100%|Te Kura Taumata o...|     Composite|Composite (Year 1...|State: Not integr...|      Decile 1|         Co-Ed|          No Affiliation|     Not Applicable|    Not Applicable|Not a Kura School|             Tai Tokerau|        Northland Region|           Far North District|            Far North District|                   Far North District|               Whangarei|          Hokianga North|Kaikohe-Hokianga ...|\n",
      "|              6|              2004|             Maori|             Year 1|           Primary (Year 1-8)|                       Level 1: 81-100%|                              Maori medium|        11|             School with some ...|English and Maori...|                              Level 1: 81-100%| Opononi Area School|     Composite|Composite (Year 1...|State: Not integr...|      Decile 2|         Co-Ed|          No Affiliation|     Not Applicable|    Not Applicable|Not a Kura School|             Tai Tokerau|        Northland Region|           Far North District|            Far North District|                   Far North District|               Whangarei|     Omapere and Opononi|Kaikohe-Hokianga ...|\n",
      "|              5|              2004|             Maori|             Year 2|           Primary (Year 1-8)|                       Level 1: 81-100%|                              Maori medium|        11|             School with some ...|English and Maori...|                              Level 1: 81-100%| Opononi Area School|     Composite|Composite (Year 1...|State: Not integr...|      Decile 2|         Co-Ed|          No Affiliation|     Not Applicable|    Not Applicable|Not a Kura School|             Tai Tokerau|        Northland Region|           Far North District|            Far North District|                   Far North District|               Whangarei|     Omapere and Opononi|Kaikohe-Hokianga ...|\n",
      "|              2|              2004|             Maori|             Year 3|           Primary (Year 1-8)|                       Level 1: 81-100%|                              Maori medium|        11|             School with some ...|English and Maori...|                              Level 1: 81-100%| Opononi Area School|     Composite|Composite (Year 1...|State: Not integr...|      Decile 2|         Co-Ed|          No Affiliation|     Not Applicable|    Not Applicable|Not a Kura School|             Tai Tokerau|        Northland Region|           Far North District|            Far North District|                   Far North District|               Whangarei|     Omapere and Opononi|Kaikohe-Hokianga ...|\n",
      "+---------------+------------------+------------------+-------------------+-----------------------------+---------------------------------------+------------------------------------------+----------+---------------------------------+--------------------+----------------------------------------------+--------------------+--------------+--------------------+--------------------+--------------+--------------+------------------------+-------------------+------------------+-----------------+------------------------+------------------------+-----------------------------+------------------------------+-------------------------------------+------------------------+------------------------+--------------------+\n",
      "only showing top 20 rows\n",
      "\n"
     ]
    }
   ],
   "source": [
    "MLLSN.show()"
   ]
  },
  {
   "cell_type": "code",
   "execution_count": 10,
   "metadata": {},
   "outputs": [
    {
     "name": "stdout",
     "output_type": "stream",
     "text": [
      "+------------------+\n",
      "|Student: Ethnicity|\n",
      "+------------------+\n",
      "|             Maori|\n",
      "|         Non Maori|\n",
      "+------------------+\n",
      "\n",
      "+-----------------------------+\n",
      "|Student: Year level (Grouped)|\n",
      "+-----------------------------+\n",
      "|          Secondary (Year 9+)|\n",
      "|           Primary (Year 1-8)|\n",
      "+-----------------------------+\n",
      "\n"
     ]
    }
   ],
   "source": [
    "#check unique values in the key attributes\n",
    "MLLSN.select(\"Student: Ethnicity\").distinct().show()\n",
    "MLLSN.select(\"Student: Year level (Grouped)\").distinct().show()"
   ]
  },
  {
   "cell_type": "code",
   "execution_count": 11,
   "metadata": {},
   "outputs": [
    {
     "name": "stdout",
     "output_type": "stream",
     "text": [
      "+---------------------------------------+\n",
      "|Student: Maori Language Immersion Level|\n",
      "+---------------------------------------+\n",
      "|                   Level 4(b): At le...|\n",
      "|                   Level 4(a): up to...|\n",
      "|                   Level 5: Less tha...|\n",
      "|                        Level 3: 31-50%|\n",
      "|                   No Maori language...|\n",
      "|                       Level 1: 81-100%|\n",
      "|                    Level 6: Taha Maori|\n",
      "|                        Level 2: 51-80%|\n",
      "+---------------------------------------+\n",
      "\n",
      "+------------------------------------------+\n",
      "|Student: Maori Language in Education level|\n",
      "+------------------------------------------+\n",
      "|                      Maori Language in...|\n",
      "|                      No Maori language...|\n",
      "|                              Maori medium|\n",
      "+------------------------------------------+\n",
      "\n"
     ]
    }
   ],
   "source": [
    "MLLSN.select(\"Student: Maori Language Immersion Level\").distinct().show()\n",
    "MLLSN.select(\"Student: Maori Language in Education level\").distinct().show()"
   ]
  },
  {
   "cell_type": "code",
   "execution_count": 12,
   "metadata": {},
   "outputs": [
    {
     "name": "stdout",
     "output_type": "stream",
     "text": [
      "+--------------------+\n",
      "|        School: Type|\n",
      "+--------------------+\n",
      "|Kura Teina - Primary|\n",
      "|Restricted Compos...|\n",
      "|      Special School|\n",
      "|Correspondence Sc...|\n",
      "|        Full Primary|\n",
      "|        Intermediate|\n",
      "|    Teen Parent Unit|\n",
      "|Secondary (Year 9...|\n",
      "|Kura Teina - Comp...|\n",
      "|        Contributing|\n",
      "|Secondary (Year 7...|\n",
      "|Composite (Year 1...|\n",
      "+--------------------+\n",
      "\n",
      "+--------------+\n",
      "|School: Sector|\n",
      "+--------------+\n",
      "|     Secondary|\n",
      "|       Special|\n",
      "|     Composite|\n",
      "|       Primary|\n",
      "+--------------+\n",
      "\n"
     ]
    }
   ],
   "source": [
    "MLLSN.select('School: Type').distinct().show()\n",
    "MLLSN.select('School: Sector').distinct().show()"
   ]
  },
  {
   "cell_type": "code",
   "execution_count": 13,
   "metadata": {},
   "outputs": [
    {
     "name": "stdout",
     "output_type": "stream",
     "text": [
      "+----------------------------+---------------+-------------+--------+----------+----------+--------------+---------+-----------+-----------+--------------+---------+-----------+-----------+----------------+-----------+-------------+-------------+--------------+---------+-----------+-----------+\n",
      "|TA with Auckland Local Board|Year at 30 June|Euro-all-ages|Euro-5-9|Euro-10-14|Euro-15-19|Maori-all-ages|Maori-5-9|Maori-10-14|Maori-15-19|Asian-all-ages|Asian-5-9|Asian-10-14|Asian-15-19|Pacific-all-ages|Pacific-5-9|Pacific-10-14|Pacific-15-19|Total-all-ages|Total-5-9|Total-10-14|Total-15-19|\n",
      "+----------------------------+---------------+-------------+--------+----------+----------+--------------+---------+-----------+-----------+--------------+---------+-----------+-----------+----------------+-----------+-------------+-------------+--------------+---------+-----------+-----------+\n",
      "|          Far North district|           2013|        40800|    2750|      2770|      2420|         27100|     2980|       2950|       2510|          1630|      130|        115|        100|            2540|        360|          390|          280|         60600|     4560|       4710|       4140|\n",
      "|          Far North district|           2018|        42600|    3080|      2850|      2020|         28700|     3200|       3070|       2720|          2310|      200|        160|        120|            3110|        480|          390|          400|         62900|     4820|       4730|       3960|\n",
      "|          Far North district|           2023|        43800|    3150|      3150|      2060|         30300|     3050|       3320|       2860|          2920|      270|        220|        150|            3760|        510|          500|          400|         64100|     4470|       4970|       3940|\n",
      "|          Far North district|           2028|        44900|    3310|      3230|      2350|         31800|     3090|       3160|       3120|          3440|      310|        280|        210|            4470|        600|          530|          510|         64900|     4490|       4620|       4180|\n",
      "|          Far North district|           2033|        45700|    3390|      3380|      2430|         33300|     3120|       3210|       2950|          3940|      320|        320|        270|            5280|        710|          620|          530|         65200|     4350|       4630|       3830|\n",
      "|          Far North district|           2038|        46100|    3290|      3470|      2580|         34900|     3200|       3240|       3000|          4430|      320|        330|        310|            6210|        840|          730|          620|         64900|     4110|       4500|       3850|\n",
      "|          Whangarei district|           2013|        67500|    4720|      4470|      4270|         23100|     2680|       2430|       2250|          3230|      230|        240|        240|            2640|        360|          350|          300|         83700|     6200|       5940|       5590|\n",
      "|          Whangarei district|           2018|        71800|    5400|      4870|      4150|         26000|     3210|       2790|       2420|          4850|      380|        300|        300|            3450|        530|          400|          360|         90600|     6930|       6500|       5610|\n",
      "|          Whangarei district|           2023|        74600|    5320|      5490|      4450|         29000|     3100|       3340|       2800|          6140|      540|        420|        330|            4160|        610|          550|          390|         95500|     6540|       7160|       6080|\n",
      "|          Whangarei district|           2028|        76600|    5490|      5380|      5030|         32100|     3270|       3240|       3380|          7110|      570|        550|        430|            4950|        670|          630|          550|         99200|     6710|       6750|       6710|\n",
      "|          Whangarei district|           2033|        78200|    5570|      5540|      4910|         35400|     3470|       3420|       3270|          8050|      570|        590|        560|            5820|        760|          690|          630|        102400|     6730|       6910|       6290|\n",
      "|          Whangarei district|           2038|        79300|    5480|      5620|      5080|         39100|     3760|       3620|       3460|          8970|      560|        580|        600|            6800|        860|          780|          690|        105000|     6630|       6940|       6460|\n",
      "|            Kaipara district|           2013|        17350|    1140|      1150|      1060|          5010|      530|        570|        490|           470|       40|         40|         25|             660|         85|           90|           80|         20500|     1390|       1450|       1320|\n",
      "|            Kaipara district|           2018|        18750|    1210|      1190|       870|          5520|      630|        550|        560|          1050|       90|         80|         60|             860|        140|          100|           95|         22600|     1490|       1490|       1260|\n",
      "|            Kaipara district|           2023|        19350|    1240|      1210|       860|          5950|      630|        650|        530|          1440|      115|        115|         90|            1030|        140|          145|          100|         23600|     1430|       1560|       1250|\n",
      "|            Kaipara district|           2028|        19850|    1300|      1240|       880|          6410|      670|        650|        640|          1730|      120|        130|        120|            1230|        160|          145|          145|         24400|     1500|       1500|       1320|\n",
      "|            Kaipara district|           2033|        20100|    1320|      1310|       910|          6900|      700|        690|        640|          2020|      120|        130|        140|            1450|        190|          165|          145|         24900|     1470|       1560|       1260|\n",
      "|            Kaipara district|           2038|        20100|    1240|      1330|       970|          7420|      740|        730|        680|          2310|      130|        130|        140|            1710|        225|          195|          165|         25200|     1370|       1530|       1320|\n",
      "|                    Auckland|           2013|       886400|   58960|     55640|     57470|        169800|    18670|      16790|      17010|        348900|    21080|      20540|      26840|          227000|      25360|        24480|        23470|       1493200|   102070|      99570|     108750|\n",
      "|                    Auckland|           2018|       946700|   63460|     60280|     56710|        188100|    20250|      18470|      17880|        472700|    28220|      24520|      26340|          252400|      27470|        24810|        24930|       1699900|   110790|     103670|     109130|\n",
      "+----------------------------+---------------+-------------+--------+----------+----------+--------------+---------+-----------+-----------+--------------+---------+-----------+-----------+----------------+-----------+-------------+-------------+--------------+---------+-----------+-----------+\n",
      "only showing top 20 rows\n",
      "\n"
     ]
    }
   ],
   "source": [
    "POP.show()"
   ]
  },
  {
   "cell_type": "code",
   "execution_count": 14,
   "metadata": {},
   "outputs": [
    {
     "name": "stdout",
     "output_type": "stream",
     "text": [
      "+---------------+\n",
      "|Year at 30 June|\n",
      "+---------------+\n",
      "|           2018|\n",
      "|           2023|\n",
      "|           2013|\n",
      "|           2038|\n",
      "|           2033|\n",
      "|           2028|\n",
      "+---------------+\n",
      "\n"
     ]
    }
   ],
   "source": [
    "POP.select('Year at 30 June').distinct().show()"
   ]
  },
  {
   "cell_type": "code",
   "execution_count": 15,
   "metadata": {},
   "outputs": [
    {
     "name": "stdout",
     "output_type": "stream",
     "text": [
      "+---------------+------------------+------------------+-------------------+-----------------------------+---------------------------------------+------------------------------------------+----------+---------------------------------+--------------+----------------------------------------------+------------+--------------+------------+-----------------+--------------+--------------+------------------------+-------------------+------------------+-----------------+------------------------+------------------------+-----------------------------+------------------------------+-------------------------------------+------------------------+------------------------+------------+\n",
      "|Students Number|Year: As at 1 July|Student: Ethnicity|Student: Year level|Student: Year level (Grouped)|Student: Maori Language Immersion Level|Student: Maori Language in Education level|School: ID|School: Maori Language Descriptor|School: Medium|School: Highest Maori Language Immersion Level|School: Name|School: Sector|School: Type|School: Authority|School: Decile|School: Gender|School: Affiliation Type|School: Affiliation|School: Definition|School: Kura Type|Region: Education Region|Region: Regional Council|Region: Territorial Authority|Region: TA with Auckland wards|Region: TA with Auckland local boards|Region: MOE Local office|Region: Census area unit|Region: Ward|\n",
      "+---------------+------------------+------------------+-------------------+-----------------------------+---------------------------------------+------------------------------------------+----------+---------------------------------+--------------+----------------------------------------------+------------+--------------+------------+-----------------+--------------+--------------+------------------------+-------------------+------------------+-----------------+------------------------+------------------------+-----------------------------+------------------------------+-------------------------------------+------------------------+------------------------+------------+\n",
      "|              0|                 0|                 0|                  0|                            0|                                      0|                                         0|         0|                                0|             0|                                             0|           0|             0|           0|                0|             0|             0|                       0|                  0|                 0|                0|                       0|                       0|                            0|                             0|                                    0|                       0|                       0|           0|\n",
      "+---------------+------------------+------------------+-------------------+-----------------------------+---------------------------------------+------------------------------------------+----------+---------------------------------+--------------+----------------------------------------------+------------+--------------+------------+-----------------+--------------+--------------+------------------------+-------------------+------------------+-----------------+------------------------+------------------------+-----------------------------+------------------------------+-------------------------------------+------------------------+------------------------+------------+\n",
      "\n"
     ]
    }
   ],
   "source": [
    "from pyspark.sql.functions import isnan, when, count, col\n",
    "\n",
    "MLLSN.select([count(when(isnan(c),c)).alias(c) for c in MLLSN.columns]).show()"
   ]
  },
  {
   "cell_type": "code",
   "execution_count": 16,
   "metadata": {},
   "outputs": [
    {
     "name": "stdout",
     "output_type": "stream",
     "text": [
      "+---------------+------------------+------------------+-------------------+-----------------------------+---------------------------------------+------------------------------------------+----------+---------------------------------+--------------------+----------------------------------------------+--------------------+--------------+--------------------+--------------------+--------------+---------------+------------------------+-------------------+--------------------+--------------------+------------------------+------------------------+-----------------------------+------------------------------+-------------------------------------+------------------------+------------------------+--------------------+\n",
      "|Students Number|Year: As at 1 July|Student: Ethnicity|Student: Year level|Student: Year level (Grouped)|Student: Maori Language Immersion Level|Student: Maori Language in Education level|School: ID|School: Maori Language Descriptor|      School: Medium|School: Highest Maori Language Immersion Level|        School: Name|School: Sector|        School: Type|   School: Authority|School: Decile| School: Gender|School: Affiliation Type|School: Affiliation|  School: Definition|   School: Kura Type|Region: Education Region|Region: Regional Council|Region: Territorial Authority|Region: TA with Auckland wards|Region: TA with Auckland local boards|Region: MOE Local office|Region: Census area unit|        Region: Ward|\n",
      "+---------------+------------------+------------------+-------------------+-----------------------------+---------------------------------------+------------------------------------------+----------+---------------------------------+--------------------+----------------------------------------------+--------------------+--------------+--------------------+--------------------+--------------+---------------+------------------------+-------------------+--------------------+--------------------+------------------------+------------------------+-----------------------------+------------------------------+-------------------------------------+------------------------+------------------------+--------------------+\n",
      "|             -2|              2008|         Non Maori|            Year 11|          Secondary (Year 9+)|                       Level 1: 81-100%|                              Maori medium|       463|              Maori medium school|        Maori medium|                              Level 1: 81-100%|TKK Motuhake o Ta...|     Composite|Composite (Year 1...|State: Not integr...|      Decile 1|          Co-Ed|          No Affiliation|     Not Applicable|Designated Charac...|Designated Charac...|    Bay of Plenty, Wa...|    Bay of Plenty Region|           Whakatane District|            Whakatane District|                   Whakatane District|                 Rotorua|                Murupara|Galatea-Murupara ...|\n",
      "|             -4|              2007|         Non Maori|            Year 12|          Secondary (Year 9+)|                        Level 2: 51-80%|                              Maori medium|       199|             School with some ...|English and Maori...|                              Level 1: 81-100%|  Hato Paora College|     Secondary|Secondary (Year 9...|   State: Integrated|      Decile 3|Single Sex-Boys|    Religious Affilia...|     Roman Catholic|Secondary Maori B...|   Not a Kura School|    Taranaki, Whangan...|    Manawatu-Whanganu...|            Manawatu District|             Manawatu District|                    Manawatu District|               Whanganui|       Tokorangi-Hiwinui|Kiwitea-Pohangina...|\n",
      "|             -5|              2008|         Non Maori|            Year 14|          Secondary (Year 9+)|                   Level 4(b): At le...|                      Maori Language in...|        42|             School with some ...|      English medium|                          Level 4(b): At le...|Green Bay High Sc...|     Secondary|Secondary (Year 9...|State: Not integr...|      Decile 8|          Co-Ed|          No Affiliation|     Not Applicable|      Not Applicable|   Not a Kura School|                Auckland|         Auckland Region|                     Auckland|           Auckland- Whau Ward|                       Auckland- Whau|          Auckland North|               Green Bay|           Whau Ward|\n",
      "|             -3|              2004|         Non Maori|            Year 11|          Secondary (Year 9+)|                    Level 6: Taha Maori|                      No Maori language...|       165|             School with some ...|      English medium|                          Level 4(b): At le...|   Rangitahi College|     Secondary|Secondary (Year 7...|State: Not integr...|      Decile 1|          Co-Ed|          No Affiliation|     Not Applicable|      Not Applicable|   Not a Kura School|    Bay of Plenty, Wa...|    Bay of Plenty Region|           Whakatane District|            Whakatane District|                   Whakatane District|                 Rotorua|                Murupara|Galatea-Murupara ...|\n",
      "|             -1|              2004|         Non Maori|            Year 12|          Secondary (Year 9+)|                    Level 6: Taha Maori|                      No Maori language...|       165|             School with some ...|      English medium|                          Level 4(b): At le...|   Rangitahi College|     Secondary|Secondary (Year 7...|State: Not integr...|      Decile 1|          Co-Ed|          No Affiliation|     Not Applicable|      Not Applicable|   Not a Kura School|    Bay of Plenty, Wa...|    Bay of Plenty Region|           Whakatane District|            Whakatane District|                   Whakatane District|                 Rotorua|                Murupara|Galatea-Murupara ...|\n",
      "|             -1|              2004|             Maori|            Year 13|          Secondary (Year 9+)|                   No Maori language...|                      No Maori language...|      2751|             School with some ...|      English medium|                          Level 4(b): At le...|Te Whakatipuranga...|     Secondary|    Teen Parent Unit|State: Not integr...|      Decile 1|          Co-Ed|          No Affiliation|     Not Applicable|      Not Applicable|   Not a Kura School|    Bay of Plenty, Wa...|    Bay of Plenty Region|                Tauranga City|                 Tauranga City|                        Tauranga City|                 Rotorua|                   Poike|Te Papa-Welcome B...|\n",
      "|             -2|              2006|             Maori|            Year 11|          Secondary (Year 9+)|                   No Maori language...|                      No Maori language...|      2751|             School with some ...|      English medium|                          Level 4(b): At le...|Te Whakatipuranga...|     Secondary|    Teen Parent Unit|State: Not integr...|      Decile 1|          Co-Ed|          No Affiliation|     Not Applicable|      Not Applicable|   Not a Kura School|    Bay of Plenty, Wa...|    Bay of Plenty Region|                Tauranga City|                 Tauranga City|                        Tauranga City|                 Rotorua|                   Poike|Te Papa-Welcome B...|\n",
      "|             -1|              2006|             Maori|            Year 11|          Secondary (Year 9+)|                   No Maori language...|                      No Maori language...|      2760|             School with some ...|      English medium|                          Level 4(b): At le...|         Eden Campus|     Secondary|    Teen Parent Unit|State: Not integr...|      Decile 1|          Co-Ed|          No Affiliation|     Not Applicable|      Not Applicable|   Not a Kura School|                Auckland|         Auckland Region|                     Auckland|          Auckland- Albert-...|                 Auckland- Albert-...|          Auckland South|            Mt Eden East|Albert-Eden-Roski...|\n",
      "|             -1|              2007|             Maori|             Year 9|          Secondary (Year 9+)|                   No Maori language...|                      No Maori language...|        59|             School with some ...|      English medium|                          Level 4(a): up to...|Sacred Heart Coll...|     Secondary|Secondary (Year 7...|   State: Integrated|      Decile 8|Single Sex-Boys|    Religious Affilia...|     Roman Catholic|School with Board...|   Not a Kura School|                Auckland|         Auckland Region|                     Auckland|          Auckland- Orakei ...|                     Auckland- Orakei|          Auckland South|        Glen Innes North|         Orakei Ward|\n",
      "|             -8|              2007|             Maori|             Year 9|          Secondary (Year 9+)|                   No Maori language...|                      No Maori language...|        96|             School with some ...|      English medium|                          Level 4(b): At le...|      Aorere College|     Secondary|Secondary (Year 9...|State: Not integr...|      Decile 2|          Co-Ed|          No Affiliation|     Not Applicable|      Not Applicable|   Not a Kura School|                Auckland|         Auckland Region|                     Auckland|          Auckland- Manukau...|                 Auckland- Otara-P...|          Auckland South|                 Kohuora|        Manukau Ward|\n",
      "|             -1|              2007|             Maori|             Year 7|           Primary (Year 1-8)|                   No Maori language...|                      No Maori language...|       106|             School with some ...|      English medium|                          Level 4(a): up to...|      Tuakau College|     Secondary|Secondary (Year 7...|State: Not integr...|      Decile 3|          Co-Ed|          No Affiliation|     Not Applicable|      Not Applicable|   Not a Kura School|                Auckland|          Waikato Region|             Waikato District|              Waikato District|                     Waikato District|          Auckland South|                 Redoubt|Awaroa ki Tuakau ...|\n",
      "|             -1|              2007|             Maori|             Year 9|          Secondary (Year 9+)|                   No Maori language...|                      No Maori language...|       179|             School with some ...|      English medium|                          Level 4(b): At le...|Stratford High Sc...|     Secondary|Secondary (Year 9...|State: Not integr...|      Decile 5|          Co-Ed|          No Affiliation|     Not Applicable|      Not Applicable|   Not a Kura School|    Taranaki, Whangan...|         Taranaki Region|           Stratford District|            Stratford District|                   Stratford District|               Whanganui|          Stratford East|Stratford Urban Ward|\n",
      "|             -2|              2007|             Maori|             Year 2|           Primary (Year 1-8)|                   No Maori language...|                      No Maori language...|      2115|             No Maori language...|      English medium|                           Level 6: Taha Maori| Timaru South School|       Primary|        Full Primary|State: Not integr...|      Decile 2|          Co-Ed|          No Affiliation|     Not Applicable|      Not Applicable|   Not a Kura School|    Canterbury and Ch...|       Canterbury Region|              Timaru District|               Timaru District|                      Timaru District|            Christchurch|          Timaru Gardens|         Timaru Ward|\n",
      "|             -2|              2007|             Maori|             Year 3|           Primary (Year 1-8)|                   No Maori language...|                      No Maori language...|      2115|             No Maori language...|      English medium|                           Level 6: Taha Maori| Timaru South School|       Primary|        Full Primary|State: Not integr...|      Decile 2|          Co-Ed|          No Affiliation|     Not Applicable|      Not Applicable|   Not a Kura School|    Canterbury and Ch...|       Canterbury Region|              Timaru District|               Timaru District|                      Timaru District|            Christchurch|          Timaru Gardens|         Timaru Ward|\n",
      "|             -1|              2007|             Maori|             Year 4|           Primary (Year 1-8)|                   No Maori language...|                      No Maori language...|      2115|             No Maori language...|      English medium|                           Level 6: Taha Maori| Timaru South School|       Primary|        Full Primary|State: Not integr...|      Decile 2|          Co-Ed|          No Affiliation|     Not Applicable|      Not Applicable|   Not a Kura School|    Canterbury and Ch...|       Canterbury Region|              Timaru District|               Timaru District|                      Timaru District|            Christchurch|          Timaru Gardens|         Timaru Ward|\n",
      "|             -1|              2008|             Maori|            Year 11|          Secondary (Year 9+)|                   No Maori language...|                      No Maori language...|      2747|             School with some ...|      English medium|                          Level 4(b): At le...|Hawke's Bay Schoo...|     Secondary|    Teen Parent Unit|State: Not integr...|      Decile 1|          Co-Ed|          No Affiliation|     Not Applicable|      Not Applicable|   Not a Kura School|    Hawke's Bay, Tair...|       Hawkes Bay Region|                  Napier City|                   Napier City|                          Napier City|                  Napier|           Onekawa South|    Nelson Park Ward|\n",
      "|             -1|              2004|         Non Maori|            Year 10|          Secondary (Year 9+)|                   No Maori language...|                      No Maori language...|       145|             School with some ...|      English medium|                          Level 4(b): At le...|   Edgecumbe College|     Secondary|Secondary (Year 9...|State: Not integr...|      Decile 2|          Co-Ed|          No Affiliation|     Not Applicable|      Not Applicable|   Not a Kura School|    Bay of Plenty, Wa...|    Bay of Plenty Region|           Whakatane District|            Whakatane District|                   Whakatane District|                 Rotorua|               Edgecumbe|     Rangitaiki Ward|\n",
      "|             -1|              2005|         Non Maori|             Year 5|           Primary (Year 1-8)|                   No Maori language...|                      No Maori language...|      4032|             School with some ...|      English medium|                          Level 5: Less tha...|Tuturau Primary S...|       Primary|        Contributing|State: Not integr...|      Decile 4|          Co-Ed|          No Affiliation|     Not Applicable|      Not Applicable|   Not a Kura School|        Otago, Southland|        Southland Region|           Southland District|            Southland District|                   Southland District|            Invercargill|                 Toetoes|        Toetoes Ward|\n",
      "|             -2|              2006|         Non Maori|             Year 9|          Secondary (Year 9+)|                   No Maori language...|                      No Maori language...|       186|             School with some ...|      English medium|                          Level 4(a): up to...|Waverley High School|     Secondary|Secondary (Year 7...|State: Not integr...|      Decile 2|          Co-Ed|          No Affiliation|     Not Applicable|      Not Applicable|   Not a Kura School|    Taranaki, Whangan...|         Taranaki Region|         South Taranaki Di...|          South Taranaki Di...|                 South Taranaki Di...|               Whanganui|                Waverley|          Patea Ward|\n",
      "|            -11|              2006|         Non Maori|            Year 11|          Secondary (Year 9+)|                   No Maori language...|                      No Maori language...|       204|             School with some ...|      English medium|                               Level 3: 31-50%|St Peter's Colleg...|     Secondary|Secondary (Year 7...|   State: Integrated|      Decile 8|          Co-Ed|    Religious Affilia...|     Roman Catholic|      Not Applicable|   Not a Kura School|    Taranaki, Whangan...|    Manawatu-Whanganu...|         Palmerston North ...|          Palmerston North ...|                 Palmerston North ...|               Whanganui|                  Milson|       Papaioea Ward|\n",
      "+---------------+------------------+------------------+-------------------+-----------------------------+---------------------------------------+------------------------------------------+----------+---------------------------------+--------------------+----------------------------------------------+--------------------+--------------+--------------------+--------------------+--------------+---------------+------------------------+-------------------+--------------------+--------------------+------------------------+------------------------+-----------------------------+------------------------------+-------------------------------------+------------------------+------------------------+--------------------+\n",
      "only showing top 20 rows\n",
      "\n"
     ]
    }
   ],
   "source": [
    "MLLSN.filter(MLLSN['Students Number']<=0).show()"
   ]
  },
  {
   "cell_type": "code",
   "execution_count": 17,
   "metadata": {},
   "outputs": [
    {
     "name": "stdout",
     "output_type": "stream",
     "text": [
      "+----------------------------+---------------+-------------+--------+----------+----------+--------------+---------+-----------+-----------+--------------+---------+-----------+-----------+----------------+-----------+-------------+-------------+--------------+---------+-----------+-----------+\n",
      "|TA with Auckland Local Board|Year at 30 June|Euro-all-ages|Euro-5-9|Euro-10-14|Euro-15-19|Maori-all-ages|Maori-5-9|Maori-10-14|Maori-15-19|Asian-all-ages|Asian-5-9|Asian-10-14|Asian-15-19|Pacific-all-ages|Pacific-5-9|Pacific-10-14|Pacific-15-19|Total-all-ages|Total-5-9|Total-10-14|Total-15-19|\n",
      "+----------------------------+---------------+-------------+--------+----------+----------+--------------+---------+-----------+-----------+--------------+---------+-----------+-----------+----------------+-----------+-------------+-------------+--------------+---------+-----------+-----------+\n",
      "|                           0|              0|            0|       0|         0|         0|             0|        0|          0|          0|             0|        0|          0|          0|               0|          0|            0|            0|             0|        0|          0|          0|\n",
      "+----------------------------+---------------+-------------+--------+----------+----------+--------------+---------+-----------+-----------+--------------+---------+-----------+-----------+----------------+-----------+-------------+-------------+--------------+---------+-----------+-----------+\n",
      "\n"
     ]
    }
   ],
   "source": [
    "POP.select([count(when(isnan(c),c)).alias(c) for c in POP.columns]).show()"
   ]
  },
  {
   "cell_type": "code",
   "execution_count": 18,
   "metadata": {},
   "outputs": [],
   "source": [
    "# exclude irrelevant attributes in Māori language data \n",
    "cols=MLLSN.columns\n",
    "cols.remove('School: Name')\n",
    "cols.remove('School: Gender')\n",
    "cols.remove('School: Affiliation Type')\n",
    "cols.remove('School: Affiliation')\n",
    "cols.remove('School: Definition')\n",
    "cols.remove('Region: Census area unit')"
   ]
  },
  {
   "cell_type": "code",
   "execution_count": 19,
   "metadata": {},
   "outputs": [],
   "source": [
    "# exclude related attributes in Māori language data\n",
    "cols.remove('Student: Year level')\n",
    "cols.remove('School: Type')\n",
    "cols.remove('Region: Regional Council')\n",
    "cols.remove('Region: Education Region')\n",
    "cols.remove('Region: Territorial Authority')\n",
    "cols.remove('Region: Ward')\n",
    "cols.remove('Region: TA with Auckland wards')\n",
    "cols.remove('Region: MOE Local office')\n",
    "MLLSN2=MLLSN[cols]"
   ]
  },
  {
   "cell_type": "code",
   "execution_count": 20,
   "metadata": {},
   "outputs": [
    {
     "data": {
      "text/plain": [
       "[('Students Number', 'int'),\n",
       " ('Year: As at 1 July', 'int'),\n",
       " ('Student: Ethnicity', 'string'),\n",
       " ('Student: Year level (Grouped)', 'string'),\n",
       " ('Student: Maori Language Immersion Level', 'string'),\n",
       " ('Student: Maori Language in Education level', 'string'),\n",
       " ('School: ID', 'int'),\n",
       " ('School: Maori Language Descriptor', 'string'),\n",
       " ('School: Medium', 'string'),\n",
       " ('School: Highest Maori Language Immersion Level', 'string'),\n",
       " ('School: Sector', 'string'),\n",
       " ('School: Authority', 'string'),\n",
       " ('School: Decile', 'string'),\n",
       " ('School: Kura Type', 'string'),\n",
       " ('Region: TA with Auckland local boards', 'string')]"
      ]
     },
     "execution_count": 20,
     "metadata": {},
     "output_type": "execute_result"
    }
   ],
   "source": [
    "MLLSN2.dtypes"
   ]
  },
  {
   "cell_type": "code",
   "execution_count": 21,
   "metadata": {},
   "outputs": [],
   "source": [
    "# exclude irrelevant attributes in population data\n",
    "cols2=POP.columns\n",
    "cols2.remove('Euro-all-ages')\n",
    "cols2.remove('Euro-5-9')\n",
    "cols2.remove('Euro-10-14')\n",
    "cols2.remove('Euro-15-19')\n",
    "cols2.remove('Asian-all-ages')\n",
    "cols2.remove('Asian-5-9')\n",
    "cols2.remove('Asian-10-14')\n",
    "cols2.remove('Asian-15-19')\n",
    "cols2.remove('Pacific-all-ages')\n",
    "cols2.remove('Pacific-5-9')\n",
    "cols2.remove('Pacific-10-14')\n",
    "cols2.remove('Pacific-15-19')\n",
    "POP2=POP[cols2]"
   ]
  },
  {
   "cell_type": "code",
   "execution_count": 23,
   "metadata": {},
   "outputs": [
    {
     "data": {
      "text/plain": [
       "[('TA with Auckland Local Board', 'string'),\n",
       " ('Year at 30 June', 'int'),\n",
       " ('Maori-all-ages', 'int'),\n",
       " ('Maori-5-9', 'int'),\n",
       " ('Maori-10-14', 'int'),\n",
       " ('Maori-15-19', 'int'),\n",
       " ('Total-all-ages', 'int'),\n",
       " ('Total-5-9', 'int'),\n",
       " ('Total-10-14', 'int'),\n",
       " ('Total-15-19', 'int')]"
      ]
     },
     "execution_count": 23,
     "metadata": {},
     "output_type": "execute_result"
    }
   ],
   "source": [
    "POP2.dtypes"
   ]
  },
  {
   "cell_type": "code",
   "execution_count": 24,
   "metadata": {},
   "outputs": [],
   "source": [
    "MLLSN2=MLLSN2.filter(MLLSN2[\"Students Number\"]>0)"
   ]
  },
  {
   "cell_type": "code",
   "execution_count": 25,
   "metadata": {},
   "outputs": [
    {
     "data": {
      "text/plain": [
       "624710"
      ]
     },
     "execution_count": 25,
     "metadata": {},
     "output_type": "execute_result"
    }
   ],
   "source": [
    "MLLSN2.count()"
   ]
  },
  {
   "cell_type": "code",
   "execution_count": 26,
   "metadata": {},
   "outputs": [
    {
     "name": "stdout",
     "output_type": "stream",
     "text": [
      "+---------------+------------------+------------------+-----------------------------+---------------------------------------+------------------------------------------+----------+---------------------------------+--------------+----------------------------------------------+--------------+-----------------+--------------+-----------------+-------------------------------------+\n",
      "|Students Number|Year: As at 1 July|Student: Ethnicity|Student: Year level (Grouped)|Student: Maori Language Immersion Level|Student: Maori Language in Education level|School: ID|School: Maori Language Descriptor|School: Medium|School: Highest Maori Language Immersion Level|School: Sector|School: Authority|School: Decile|School: Kura Type|Region: TA with Auckland local boards|\n",
      "+---------------+------------------+------------------+-----------------------------+---------------------------------------+------------------------------------------+----------+---------------------------------+--------------+----------------------------------------------+--------------+-----------------+--------------+-----------------+-------------------------------------+\n",
      "+---------------+------------------+------------------+-----------------------------+---------------------------------------+------------------------------------------+----------+---------------------------------+--------------+----------------------------------------------+--------------+-----------------+--------------+-----------------+-------------------------------------+\n",
      "\n"
     ]
    }
   ],
   "source": [
    "MLLSN2.filter(MLLSN2[\"Students Number\"]<=0).show()"
   ]
  },
  {
   "cell_type": "code",
   "execution_count": 34,
   "metadata": {},
   "outputs": [],
   "source": [
    "# change data type for Students Number column \n",
    "from pyspark.sql.types import StringType\n",
    "\n",
    "MLLSN2 = MLLSN2.withColumn(\"School: ID\", MLLSN2[\"School: ID\"].cast(StringType()))\n",
    "MLLSN2 = MLLSN2.withColumn(\"Year: As at 1 July\", MLLSN2[\"Year: As at 1 July\"].cast(StringType()))\n"
   ]
  },
  {
   "cell_type": "code",
   "execution_count": 36,
   "metadata": {},
   "outputs": [
    {
     "data": {
      "text/plain": [
       "[('Students Number', 'int'),\n",
       " ('Year: As at 1 July', 'string'),\n",
       " ('Student: Ethnicity', 'string'),\n",
       " ('Student: Year level (Grouped)', 'string'),\n",
       " ('Student: Maori Language Immersion Level', 'string'),\n",
       " ('Student: Maori Language in Education level', 'string'),\n",
       " ('School: ID', 'string'),\n",
       " ('School: Maori Language Descriptor', 'string'),\n",
       " ('School: Medium', 'string'),\n",
       " ('School: Highest Maori Language Immersion Level', 'string'),\n",
       " ('School: Sector', 'string'),\n",
       " ('School: Authority', 'string'),\n",
       " ('School: Decile', 'string'),\n",
       " ('School: Kura Type', 'string'),\n",
       " ('Region: TA with Auckland local boards', 'string')]"
      ]
     },
     "execution_count": 36,
     "metadata": {},
     "output_type": "execute_result"
    }
   ],
   "source": [
    "MLLSN2.dtypes"
   ]
  },
  {
   "cell_type": "code",
   "execution_count": 44,
   "metadata": {},
   "outputs": [],
   "source": [
    "# aggregation by Student: Year level (Grouped) in the School level\n",
    "GMLLSN2 = MLLSN2.groupby('School: ID','Year: As at 1 July','Student: Year level (Grouped)','Student: Ethnicity', \n",
    "                         'Student: Maori Language Immersion Level','Student: Maori Language in Education level',\n",
    "                         'School: Highest Maori Language Immersion Level','School: Kura Type','School: Authority',\n",
    "                         'School: Maori Language Descriptor','School: Medium','School: Decile','School: Sector',\n",
    "                         'Region: TA with Auckland local boards').sum('Students Number')"
   ]
  },
  {
   "cell_type": "code",
   "execution_count": 45,
   "metadata": {},
   "outputs": [
    {
     "data": {
      "text/plain": [
       "126408"
      ]
     },
     "execution_count": 45,
     "metadata": {},
     "output_type": "execute_result"
    }
   ],
   "source": [
    "GMLLSN2.count()"
   ]
  },
  {
   "cell_type": "code",
   "execution_count": 52,
   "metadata": {},
   "outputs": [
    {
     "data": {
      "text/plain": [
       "[Row(School: ID='497', Year: As at 1 July='2004', Student: Year level (Grouped)='Primary (Year 1-8)', Student: Ethnicity='Maori', Student: Maori Language Immersion Level='Level 1: 81-100%', Student: Maori Language in Education level='Maori medium', School: Highest Maori Language Immersion Level='Level 1: 81-100%', School: Kura Type='Designated Character (Section 156)', School: Authority='State: Not integrated', School: Maori Language Descriptor='Maori medium school', School: Medium='Maori medium', School: Decile='Decile 2', School: Sector='Composite', Region: TA with Auckland local boards='Taupo District', sum(Students Number)=216)]"
      ]
     },
     "execution_count": 52,
     "metadata": {},
     "output_type": "execute_result"
    }
   ],
   "source": [
    "GMLLSN2.head(1)"
   ]
  },
  {
   "cell_type": "code",
   "execution_count": 56,
   "metadata": {},
   "outputs": [],
   "source": [
    "# combine age groups\n",
    "POP2 = POP2.withColumn('Total-school-age',POP2['Total-5-9']+POP2['Total-10-14']+POP2['Total-15-19'])\n",
    "POP2 = POP2.withColumn('Maori-school-age',POP2['Maori-5-9']+POP2['Maori-10-14']+POP2['Maori-15-19'])\n",
    "            "
   ]
  },
  {
   "cell_type": "code",
   "execution_count": 58,
   "metadata": {},
   "outputs": [],
   "source": [
    "# create non Māori population attributes\n",
    "POP2 = POP2.withColumn('non-Maori-all-ages',POP2['Total-all-ages'] - POP2['Maori-all-ages'])\n",
    "POP2 = POP2.withColumn('non-Maori-school-age',POP2['Total-school-age'] - POP2['Maori-school-age'])"
   ]
  },
  {
   "cell_type": "code",
   "execution_count": 59,
   "metadata": {},
   "outputs": [
    {
     "data": {
      "text/plain": [
       "[Row(TA with Auckland Local Board='Far North district', Year at 30 June=2013, Maori-all-ages=27100, Maori-5-9=2980, Maori-10-14=2950, Maori-15-19=2510, Total-all-ages=60600, Total-5-9=4560, Total-10-14=4710, Total-15-19=4140, Total-school-age=13410, Maori-school-age=8440, non-Maori-all-ages=33500, non-Maori-school-age=4970)]"
      ]
     },
     "execution_count": 59,
     "metadata": {},
     "output_type": "execute_result"
    }
   ],
   "source": [
    "POP2.head(1)"
   ]
  },
  {
   "cell_type": "code",
   "execution_count": 60,
   "metadata": {},
   "outputs": [
    {
     "data": {
      "text/plain": [
       "[('TA with Auckland Local Board', 'string'),\n",
       " ('Year at 30 June', 'int'),\n",
       " ('Maori-all-ages', 'int'),\n",
       " ('Maori-5-9', 'int'),\n",
       " ('Maori-10-14', 'int'),\n",
       " ('Maori-15-19', 'int'),\n",
       " ('Total-all-ages', 'int'),\n",
       " ('Total-5-9', 'int'),\n",
       " ('Total-10-14', 'int'),\n",
       " ('Total-15-19', 'int'),\n",
       " ('Total-school-age', 'int'),\n",
       " ('Maori-school-age', 'int'),\n",
       " ('non-Maori-all-ages', 'int'),\n",
       " ('non-Maori-school-age', 'int')]"
      ]
     },
     "execution_count": 60,
     "metadata": {},
     "output_type": "execute_result"
    }
   ],
   "source": [
    "POP2.dtypes"
   ]
  },
  {
   "cell_type": "code",
   "execution_count": 61,
   "metadata": {},
   "outputs": [
    {
     "data": {
      "text/plain": [
       "[('TA with Auckland Local Board', 'string'),\n",
       " ('Year at 30 June', 'string'),\n",
       " ('Maori-all-ages', 'int'),\n",
       " ('Maori-5-9', 'int'),\n",
       " ('Maori-10-14', 'int'),\n",
       " ('Maori-15-19', 'int'),\n",
       " ('Total-all-ages', 'int'),\n",
       " ('Total-5-9', 'int'),\n",
       " ('Total-10-14', 'int'),\n",
       " ('Total-15-19', 'int'),\n",
       " ('Total-school-age', 'int'),\n",
       " ('Maori-school-age', 'int'),\n",
       " ('non-Maori-all-ages', 'int'),\n",
       " ('non-Maori-school-age', 'int')]"
      ]
     },
     "execution_count": 61,
     "metadata": {},
     "output_type": "execute_result"
    }
   ],
   "source": [
    "# change data type of Year attribute\n",
    "POP2 = POP2.withColumn('Year at 30 June', POP2['Year at 30 June'].cast(StringType()))\n",
    "POP2.dtypes"
   ]
  },
  {
   "cell_type": "code",
   "execution_count": 62,
   "metadata": {},
   "outputs": [
    {
     "data": {
      "text/plain": [
       "[('TA with Auckland Local Board', 'string'),\n",
       " ('Year at 30 June', 'string'),\n",
       " ('Total-school-age', 'int'),\n",
       " ('Maori-school-age', 'int'),\n",
       " ('non-Maori-school-age', 'int')]"
      ]
     },
     "execution_count": 62,
     "metadata": {},
     "output_type": "execute_result"
    }
   ],
   "source": [
    "# remove irrelevant attributes in population\n",
    "cols3=POP2.columns\n",
    "cols3.remove('Total-5-9')\n",
    "cols3.remove('Total-10-14')\n",
    "cols3.remove('Total-15-19')\n",
    "cols3.remove('Maori-5-9')\n",
    "cols3.remove('Maori-10-14')\n",
    "cols3.remove('Maori-15-19')\n",
    "cols3.remove('Total-all-ages')\n",
    "cols3.remove('Maori-all-ages')\n",
    "cols3.remove('non-Maori-all-ages')\n",
    "POP3=POP2[cols3]\n",
    "POP3.dtypes"
   ]
  },
  {
   "cell_type": "code",
   "execution_count": 82,
   "metadata": {},
   "outputs": [
    {
     "name": "stdout",
     "output_type": "stream",
     "text": [
      "+------------------------------------+\n",
      "|TA with Auckland Local Board        |\n",
      "+------------------------------------+\n",
      "|South Wairarapa district            |\n",
      "|Mangere-Otahuhu local board area    |\n",
      "|Manurewa local board area           |\n",
      "|Gore district                       |\n",
      "|Waiheke local board area            |\n",
      "|Central Hawke's Bay district        |\n",
      "|Chatham Islands territory           |\n",
      "|Rangitikei district                 |\n",
      "|Maungakiekie-Tamaki local board area|\n",
      "|Matamata-Piako district             |\n",
      "|Timaru district                     |\n",
      "|Hurunui district                    |\n",
      "|Great Barrier local board area      |\n",
      "|Thames-Coromandel district          |\n",
      "|Upper Hutt city                     |\n",
      "|Auckland                            |\n",
      "|Kaipara district                    |\n",
      "|Devonport-Takapuna local board area |\n",
      "|South Taranaki district             |\n",
      "|Kapiti Coast district               |\n",
      "+------------------------------------+\n",
      "only showing top 20 rows\n",
      "\n"
     ]
    }
   ],
   "source": [
    "# Ensure values of key attributes to be joined are consistent\n",
    "POP3.select('TA with Auckland Local Board').distinct().show(20,False)"
   ]
  },
  {
   "cell_type": "code",
   "execution_count": 83,
   "metadata": {},
   "outputs": [
    {
     "name": "stdout",
     "output_type": "stream",
     "text": [
      "+-------------------------------------+\n",
      "|Region: TA with Auckland local boards|\n",
      "+-------------------------------------+\n",
      "|Christchurch City                    |\n",
      "|Central Hawke's Bay District         |\n",
      "|Auckland- Mangere-Otahuhu            |\n",
      "|Auckland- Otara-Papatoetoe           |\n",
      "|Hastings District                    |\n",
      "|Auckland- Henderson-Massey           |\n",
      "|South Waikato District               |\n",
      "|Auckland- Whau                       |\n",
      "|Waitaki District                     |\n",
      "|Auckland- Puketapapa                 |\n",
      "|Auckland- Great Barrier              |\n",
      "|Wellington City                      |\n",
      "|Auckland- Franklin                   |\n",
      "|Auckland- Manurewa                   |\n",
      "|Invercargill City                    |\n",
      "|Clutha District                      |\n",
      "|Waimate District                     |\n",
      "|Otorohanga District                  |\n",
      "|Rotorua District                     |\n",
      "|Marlborough District                 |\n",
      "+-------------------------------------+\n",
      "only showing top 20 rows\n",
      "\n"
     ]
    }
   ],
   "source": [
    "GMLLSN2.select('Region: TA with Auckland local boards').distinct().show(20,False)"
   ]
  },
  {
   "cell_type": "code",
   "execution_count": 106,
   "metadata": {},
   "outputs": [
    {
     "ename": "TypeError",
     "evalue": "'Column' object is not callable",
     "output_type": "error",
     "traceback": [
      "\u001b[0;31m---------------------------------------------------------------------------\u001b[0m",
      "\u001b[0;31mTypeError\u001b[0m                                 Traceback (most recent call last)",
      "\u001b[0;32m<ipython-input-106-d8f86b7c1d00>\u001b[0m in \u001b[0;36m<module>\u001b[0;34m()\u001b[0m\n\u001b[1;32m     16\u001b[0m      \u001b[0;34m'Auckland- Puketapapa'\u001b[0m\u001b[0;34m,\u001b[0m \u001b[0;34m'Auckland- Orakei'\u001b[0m\u001b[0;34m,\u001b[0m \u001b[0;34m'Auckland- Maungakiekie-Tamaki'\u001b[0m\u001b[0;34m,\u001b[0m\u001b[0;34m\u001b[0m\u001b[0m\n\u001b[1;32m     17\u001b[0m      \u001b[0;34m'Auckland- Howick'\u001b[0m\u001b[0;34m,\u001b[0m \u001b[0;34m'Auckland- Mangere-Otahuhu'\u001b[0m\u001b[0;34m,\u001b[0m \u001b[0;34m'Auckland- Otara-Papatoetoe'\u001b[0m\u001b[0;34m,\u001b[0m\u001b[0;34m\u001b[0m\u001b[0m\n\u001b[0;32m---> 18\u001b[0;31m      'Auckland- Manurewa', 'Auckland- Papakura', 'Auckland- Franklin'])\n\u001b[0m",
      "\u001b[0;31mTypeError\u001b[0m: 'Column' object is not callable"
     ]
    }
   ],
   "source": [
    "POP3['TA with Auckland Local Board'] = POP3['TA with Auckland Local Board'].replace(\n",
    "    ['Rodney local board area', 'Hibiscus and Bays local board area', \n",
    "     'Upper Harbour local board area', 'Kaipatiki local board area', \n",
    "     'Devonport-Takapuna local board area', 'Henderson-Massey local board area', \n",
    "     'Waitakere Ranges local board area', 'Great Barrier local board area', \n",
    "     'Waiheke local board area', 'Waitemata local board area', 'Whau local board area', \n",
    "     'Albert-Eden local board area', 'Puketapapa local board area', \n",
    "     'Orakei local board area', 'Maungakiekie-Tamaki local board area', \n",
    "     'Howick local board area', 'Mangere-Otahuhu local board area', \n",
    "     'Otara-Papatoetoe local board area', 'Manurewa local board area', \n",
    "     'Papakura local board area', 'Franklin local board area'], \n",
    "    ['Auckland- Rodney', 'Auckland- Hibiscus and Bays', 'Auckland- Upper Harbour', \n",
    "     'Auckland- Kaipatiki', 'Auckland- Devonport-Takapuna', 'Auckland- Henderson-Massey',\n",
    "     'Auckland- Waitakere Ranges', 'Auckland- Great Barrier', 'Auckland- Waiheke', \n",
    "     'Auckland- Waitemata', 'Auckland- Whau', 'Auckland- Albert-Eden', \n",
    "     'Auckland- Puketapapa', 'Auckland- Orakei', 'Auckland- Maungakiekie-Tamaki', \n",
    "     'Auckland- Howick', 'Auckland- Mangere-Otahuhu', 'Auckland- Otara-Papatoetoe', \n",
    "     'Auckland- Manurewa', 'Auckland- Papakura', 'Auckland- Franklin'])\n"
   ]
  },
  {
   "cell_type": "code",
   "execution_count": 87,
   "metadata": {},
   "outputs": [
    {
     "ename": "NameError",
     "evalue": "name 'left' is not defined",
     "output_type": "error",
     "traceback": [
      "\u001b[0;31m---------------------------------------------------------------------------\u001b[0m",
      "\u001b[0;31mNameError\u001b[0m                                 Traceback (most recent call last)",
      "\u001b[0;32m<ipython-input-87-4374c5cb8462>\u001b[0m in \u001b[0;36m<module>\u001b[0;34m()\u001b[0m\n\u001b[1;32m      1\u001b[0m \u001b[0mx\u001b[0m\u001b[0;34m=\u001b[0m\u001b[0;34m'abc'\u001b[0m\u001b[0;34m\u001b[0m\u001b[0m\n\u001b[1;32m      2\u001b[0m \u001b[0;34m'a'\u001b[0m \u001b[0;32min\u001b[0m \u001b[0mx\u001b[0m\u001b[0;34m\u001b[0m\u001b[0m\n\u001b[0;32m----> 3\u001b[0;31m \u001b[0my\u001b[0m\u001b[0;34m=\u001b[0m\u001b[0mleft\u001b[0m\u001b[0;34m(\u001b[0m\u001b[0mx\u001b[0m\u001b[0;34m,\u001b[0m\u001b[0;36m2\u001b[0m\u001b[0;34m)\u001b[0m\u001b[0;34m\u001b[0m\u001b[0m\n\u001b[0m",
      "\u001b[0;31mNameError\u001b[0m: name 'left' is not defined"
     ]
    }
   ],
   "source": [
    "x='abc'\n",
    "'a' in x\n",
    "y=left(x,2)\n"
   ]
  },
  {
   "cell_type": "code",
   "execution_count": 107,
   "metadata": {},
   "outputs": [],
   "source": [
    "from pyspark.sql.functions import *\n",
    "POP4 = POP3.withColumn('TA with Auckland Local Board', regexp_replace('TA with Auckland Local Board','local board area','Auckland-'))"
   ]
  },
  {
   "cell_type": "code",
   "execution_count": 108,
   "metadata": {},
   "outputs": [
    {
     "name": "stdout",
     "output_type": "stream",
     "text": [
      "+----------------------------+\n",
      "|TA with Auckland Local Board|\n",
      "+----------------------------+\n",
      "|South Wairarapa district    |\n",
      "|Gore district               |\n",
      "|Central Hawke's Bay district|\n",
      "|Chatham Islands territory   |\n",
      "|Rangitikei district         |\n",
      "|Matamata-Piako district     |\n",
      "|Waiheke Auckland-           |\n",
      "|Timaru district             |\n",
      "|Hurunui district            |\n",
      "|Kaipatiki Auckland-         |\n",
      "|Thames-Coromandel district  |\n",
      "|Upper Hutt city             |\n",
      "|Auckland                    |\n",
      "|Kaipara district            |\n",
      "|South Taranaki district     |\n",
      "|Rodney Auckland-            |\n",
      "|Kapiti Coast district       |\n",
      "|Hamilton city               |\n",
      "|Hauraki district            |\n",
      "|Waitomo district            |\n",
      "+----------------------------+\n",
      "only showing top 20 rows\n",
      "\n"
     ]
    }
   ],
   "source": [
    "POP4.select('TA with Auckland Local Board').distinct().show(20,False)"
   ]
  },
  {
   "cell_type": "code",
   "execution_count": 117,
   "metadata": {},
   "outputs": [
    {
     "ename": "AnalysisException",
     "evalue": "\"cannot resolve '`Auckland-`' given input columns: [Total-school-age, Maori-school-age, Year at 30 June, TA with Auckland Local Board, non-Maori-school-age];;\\n'Project [TA with Auckland Local Board#385, Year at 30 June#3491, Total-school-age#3411, Maori-school-age#3424, non-Maori-school-age#3464, concat('Auckland-, split(TA with Auckland Local Board#385, local)[0]) AS Local Board#3977]\\n+- Project [TA with Auckland Local Board#385, Year at 30 June#3491, Total-school-age#3411, Maori-school-age#3424, non-Maori-school-age#3464]\\n   +- Project [TA with Auckland Local Board#385, cast(Year at 30 June#386 as string) AS Year at 30 June#3491, Maori-all-ages#391, Maori-5-9#392, Maori-10-14#393, Maori-15-19#394, Total-all-ages#403, Total-5-9#404, Total-10-14#405, Total-15-19#406, Total-school-age#3411, Maori-school-age#3424, non-Maori-all-ages#3449, non-Maori-school-age#3464]\\n      +- Project [TA with Auckland Local Board#385, Year at 30 June#386, Maori-all-ages#391, Maori-5-9#392, Maori-10-14#393, Maori-15-19#394, Total-all-ages#403, Total-5-9#404, Total-10-14#405, Total-15-19#406, Total-school-age#3411, Maori-school-age#3424, non-Maori-all-ages#3449, (Total-school-age#3411 - Maori-school-age#3424) AS non-Maori-school-age#3464]\\n         +- Project [TA with Auckland Local Board#385, Year at 30 June#386, Maori-all-ages#391, Maori-5-9#392, Maori-10-14#393, Maori-15-19#394, Total-all-ages#403, Total-5-9#404, Total-10-14#405, Total-15-19#406, Total-school-age#3411, Maori-school-age#3424, (Total-all-ages#403 - Maori-all-ages#391) AS non-Maori-all-ages#3449]\\n            +- Project [TA with Auckland Local Board#385, Year at 30 June#386, Maori-all-ages#391, Maori-5-9#392, Maori-10-14#393, Maori-15-19#394, Total-all-ages#403, Total-5-9#404, Total-10-14#405, Total-15-19#406, Total-school-age#3411, ((Maori-5-9#392 + Maori-10-14#393) + Maori-15-19#394) AS Maori-school-age#3424]\\n               +- Project [TA with Auckland Local Board#385, Year at 30 June#386, Maori-all-ages#391, Maori-5-9#392, Maori-10-14#393, Maori-15-19#394, Total-all-ages#403, Total-5-9#404, Total-10-14#405, Total-15-19#406, ((Total-5-9#404 + Total-10-14#405) + Total-15-19#406) AS Total-school-age#3411]\\n                  +- Project [TA with Auckland Local Board#385, Year at 30 June#386, Maori-all-ages#391, Maori-5-9#392, Maori-10-14#393, Maori-15-19#394, Total-all-ages#403, Total-5-9#404, Total-10-14#405, Total-15-19#406]\\n                     +- Relation[TA with Auckland Local Board#385,Year at 30 June#386,Euro-all-ages#387,Euro-5-9#388,Euro-10-14#389,Euro-15-19#390,Maori-all-ages#391,Maori-5-9#392,Maori-10-14#393,Maori-15-19#394,Asian-all-ages#395,Asian-5-9#396,Asian-10-14#397,Asian-15-19#398,Pacific-all-ages#399,Pacific-5-9#400,Pacific-10-14#401,Pacific-15-19#402,Total-all-ages#403,Total-5-9#404,Total-10-14#405,Total-15-19#406] csv\\n\"",
     "output_type": "error",
     "traceback": [
      "\u001b[0;31m---------------------------------------------------------------------------\u001b[0m",
      "\u001b[0;31mPy4JJavaError\u001b[0m                             Traceback (most recent call last)",
      "\u001b[0;32m~/spark-2.1.1-bin-hadoop2.7/python/pyspark/sql/utils.py\u001b[0m in \u001b[0;36mdeco\u001b[0;34m(*a, **kw)\u001b[0m\n\u001b[1;32m     62\u001b[0m         \u001b[0;32mtry\u001b[0m\u001b[0;34m:\u001b[0m\u001b[0;34m\u001b[0m\u001b[0m\n\u001b[0;32m---> 63\u001b[0;31m             \u001b[0;32mreturn\u001b[0m \u001b[0mf\u001b[0m\u001b[0;34m(\u001b[0m\u001b[0;34m*\u001b[0m\u001b[0ma\u001b[0m\u001b[0;34m,\u001b[0m \u001b[0;34m**\u001b[0m\u001b[0mkw\u001b[0m\u001b[0;34m)\u001b[0m\u001b[0;34m\u001b[0m\u001b[0m\n\u001b[0m\u001b[1;32m     64\u001b[0m         \u001b[0;32mexcept\u001b[0m \u001b[0mpy4j\u001b[0m\u001b[0;34m.\u001b[0m\u001b[0mprotocol\u001b[0m\u001b[0;34m.\u001b[0m\u001b[0mPy4JJavaError\u001b[0m \u001b[0;32mas\u001b[0m \u001b[0me\u001b[0m\u001b[0;34m:\u001b[0m\u001b[0;34m\u001b[0m\u001b[0m\n",
      "\u001b[0;32m~/spark-2.1.1-bin-hadoop2.7/python/lib/py4j-0.10.4-src.zip/py4j/protocol.py\u001b[0m in \u001b[0;36mget_return_value\u001b[0;34m(answer, gateway_client, target_id, name)\u001b[0m\n\u001b[1;32m    318\u001b[0m                     \u001b[0;34m\"An error occurred while calling {0}{1}{2}.\\n\"\u001b[0m\u001b[0;34m.\u001b[0m\u001b[0;34m\u001b[0m\u001b[0m\n\u001b[0;32m--> 319\u001b[0;31m                     format(target_id, \".\", name), value)\n\u001b[0m\u001b[1;32m    320\u001b[0m             \u001b[0;32melse\u001b[0m\u001b[0;34m:\u001b[0m\u001b[0;34m\u001b[0m\u001b[0m\n",
      "\u001b[0;31mPy4JJavaError\u001b[0m: An error occurred while calling o881.withColumn.\n: org.apache.spark.sql.AnalysisException: cannot resolve '`Auckland-`' given input columns: [Total-school-age, Maori-school-age, Year at 30 June, TA with Auckland Local Board, non-Maori-school-age];;\n'Project [TA with Auckland Local Board#385, Year at 30 June#3491, Total-school-age#3411, Maori-school-age#3424, non-Maori-school-age#3464, concat('Auckland-, split(TA with Auckland Local Board#385, local)[0]) AS Local Board#3977]\n+- Project [TA with Auckland Local Board#385, Year at 30 June#3491, Total-school-age#3411, Maori-school-age#3424, non-Maori-school-age#3464]\n   +- Project [TA with Auckland Local Board#385, cast(Year at 30 June#386 as string) AS Year at 30 June#3491, Maori-all-ages#391, Maori-5-9#392, Maori-10-14#393, Maori-15-19#394, Total-all-ages#403, Total-5-9#404, Total-10-14#405, Total-15-19#406, Total-school-age#3411, Maori-school-age#3424, non-Maori-all-ages#3449, non-Maori-school-age#3464]\n      +- Project [TA with Auckland Local Board#385, Year at 30 June#386, Maori-all-ages#391, Maori-5-9#392, Maori-10-14#393, Maori-15-19#394, Total-all-ages#403, Total-5-9#404, Total-10-14#405, Total-15-19#406, Total-school-age#3411, Maori-school-age#3424, non-Maori-all-ages#3449, (Total-school-age#3411 - Maori-school-age#3424) AS non-Maori-school-age#3464]\n         +- Project [TA with Auckland Local Board#385, Year at 30 June#386, Maori-all-ages#391, Maori-5-9#392, Maori-10-14#393, Maori-15-19#394, Total-all-ages#403, Total-5-9#404, Total-10-14#405, Total-15-19#406, Total-school-age#3411, Maori-school-age#3424, (Total-all-ages#403 - Maori-all-ages#391) AS non-Maori-all-ages#3449]\n            +- Project [TA with Auckland Local Board#385, Year at 30 June#386, Maori-all-ages#391, Maori-5-9#392, Maori-10-14#393, Maori-15-19#394, Total-all-ages#403, Total-5-9#404, Total-10-14#405, Total-15-19#406, Total-school-age#3411, ((Maori-5-9#392 + Maori-10-14#393) + Maori-15-19#394) AS Maori-school-age#3424]\n               +- Project [TA with Auckland Local Board#385, Year at 30 June#386, Maori-all-ages#391, Maori-5-9#392, Maori-10-14#393, Maori-15-19#394, Total-all-ages#403, Total-5-9#404, Total-10-14#405, Total-15-19#406, ((Total-5-9#404 + Total-10-14#405) + Total-15-19#406) AS Total-school-age#3411]\n                  +- Project [TA with Auckland Local Board#385, Year at 30 June#386, Maori-all-ages#391, Maori-5-9#392, Maori-10-14#393, Maori-15-19#394, Total-all-ages#403, Total-5-9#404, Total-10-14#405, Total-15-19#406]\n                     +- Relation[TA with Auckland Local Board#385,Year at 30 June#386,Euro-all-ages#387,Euro-5-9#388,Euro-10-14#389,Euro-15-19#390,Maori-all-ages#391,Maori-5-9#392,Maori-10-14#393,Maori-15-19#394,Asian-all-ages#395,Asian-5-9#396,Asian-10-14#397,Asian-15-19#398,Pacific-all-ages#399,Pacific-5-9#400,Pacific-10-14#401,Pacific-15-19#402,Total-all-ages#403,Total-5-9#404,Total-10-14#405,Total-15-19#406] csv\n\n\tat org.apache.spark.sql.catalyst.analysis.package$AnalysisErrorAt.failAnalysis(package.scala:42)\n\tat org.apache.spark.sql.catalyst.analysis.CheckAnalysis$$anonfun$checkAnalysis$1$$anonfun$apply$2.applyOrElse(CheckAnalysis.scala:86)\n\tat org.apache.spark.sql.catalyst.analysis.CheckAnalysis$$anonfun$checkAnalysis$1$$anonfun$apply$2.applyOrElse(CheckAnalysis.scala:83)\n\tat org.apache.spark.sql.catalyst.trees.TreeNode$$anonfun$transformUp$1.apply(TreeNode.scala:290)\n\tat org.apache.spark.sql.catalyst.trees.TreeNode$$anonfun$transformUp$1.apply(TreeNode.scala:290)\n\tat org.apache.spark.sql.catalyst.trees.CurrentOrigin$.withOrigin(TreeNode.scala:70)\n\tat org.apache.spark.sql.catalyst.trees.TreeNode.transformUp(TreeNode.scala:289)\n\tat org.apache.spark.sql.catalyst.trees.TreeNode$$anonfun$3.apply(TreeNode.scala:287)\n\tat org.apache.spark.sql.catalyst.trees.TreeNode$$anonfun$3.apply(TreeNode.scala:287)\n\tat org.apache.spark.sql.catalyst.trees.TreeNode$$anonfun$4$$anonfun$apply$11.apply(TreeNode.scala:336)\n\tat scala.collection.TraversableLike$$anonfun$map$1.apply(TraversableLike.scala:234)\n\tat scala.collection.TraversableLike$$anonfun$map$1.apply(TraversableLike.scala:234)\n\tat scala.collection.mutable.ResizableArray$class.foreach(ResizableArray.scala:59)\n\tat scala.collection.mutable.ArrayBuffer.foreach(ArrayBuffer.scala:48)\n\tat scala.collection.TraversableLike$class.map(TraversableLike.scala:234)\n\tat scala.collection.AbstractTraversable.map(Traversable.scala:104)\n\tat org.apache.spark.sql.catalyst.trees.TreeNode$$anonfun$4.apply(TreeNode.scala:334)\n\tat org.apache.spark.sql.catalyst.trees.TreeNode.mapProductIterator(TreeNode.scala:188)\n\tat org.apache.spark.sql.catalyst.trees.TreeNode.mapChildren(TreeNode.scala:305)\n\tat org.apache.spark.sql.catalyst.trees.TreeNode.transformUp(TreeNode.scala:287)\n\tat org.apache.spark.sql.catalyst.trees.TreeNode$$anonfun$3.apply(TreeNode.scala:287)\n\tat org.apache.spark.sql.catalyst.trees.TreeNode$$anonfun$3.apply(TreeNode.scala:287)\n\tat org.apache.spark.sql.catalyst.trees.TreeNode$$anonfun$4.apply(TreeNode.scala:307)\n\tat org.apache.spark.sql.catalyst.trees.TreeNode.mapProductIterator(TreeNode.scala:188)\n\tat org.apache.spark.sql.catalyst.trees.TreeNode.mapChildren(TreeNode.scala:305)\n\tat org.apache.spark.sql.catalyst.trees.TreeNode.transformUp(TreeNode.scala:287)\n\tat org.apache.spark.sql.catalyst.plans.QueryPlan$$anonfun$transformExpressionsUp$1.apply(QueryPlan.scala:255)\n\tat org.apache.spark.sql.catalyst.plans.QueryPlan$$anonfun$transformExpressionsUp$1.apply(QueryPlan.scala:255)\n\tat org.apache.spark.sql.catalyst.plans.QueryPlan.transformExpression$1(QueryPlan.scala:266)\n\tat org.apache.spark.sql.catalyst.plans.QueryPlan.org$apache$spark$sql$catalyst$plans$QueryPlan$$recursiveTransform$1(QueryPlan.scala:276)\n\tat org.apache.spark.sql.catalyst.plans.QueryPlan$$anonfun$org$apache$spark$sql$catalyst$plans$QueryPlan$$recursiveTransform$1$1.apply(QueryPlan.scala:280)\n\tat scala.collection.TraversableLike$$anonfun$map$1.apply(TraversableLike.scala:234)\n\tat scala.collection.TraversableLike$$anonfun$map$1.apply(TraversableLike.scala:234)\n\tat scala.collection.mutable.ResizableArray$class.foreach(ResizableArray.scala:59)\n\tat scala.collection.mutable.ArrayBuffer.foreach(ArrayBuffer.scala:48)\n\tat scala.collection.TraversableLike$class.map(TraversableLike.scala:234)\n\tat scala.collection.AbstractTraversable.map(Traversable.scala:104)\n\tat org.apache.spark.sql.catalyst.plans.QueryPlan.org$apache$spark$sql$catalyst$plans$QueryPlan$$recursiveTransform$1(QueryPlan.scala:280)\n\tat org.apache.spark.sql.catalyst.plans.QueryPlan$$anonfun$6.apply(QueryPlan.scala:285)\n\tat org.apache.spark.sql.catalyst.trees.TreeNode.mapProductIterator(TreeNode.scala:188)\n\tat org.apache.spark.sql.catalyst.plans.QueryPlan.mapExpressions(QueryPlan.scala:285)\n\tat org.apache.spark.sql.catalyst.plans.QueryPlan.transformExpressionsUp(QueryPlan.scala:255)\n\tat org.apache.spark.sql.catalyst.analysis.CheckAnalysis$$anonfun$checkAnalysis$1.apply(CheckAnalysis.scala:83)\n\tat org.apache.spark.sql.catalyst.analysis.CheckAnalysis$$anonfun$checkAnalysis$1.apply(CheckAnalysis.scala:76)\n\tat org.apache.spark.sql.catalyst.trees.TreeNode.foreachUp(TreeNode.scala:128)\n\tat org.apache.spark.sql.catalyst.analysis.CheckAnalysis$class.checkAnalysis(CheckAnalysis.scala:76)\n\tat org.apache.spark.sql.catalyst.analysis.Analyzer.checkAnalysis(Analyzer.scala:57)\n\tat org.apache.spark.sql.execution.QueryExecution.assertAnalyzed(QueryExecution.scala:52)\n\tat org.apache.spark.sql.Dataset$.ofRows(Dataset.scala:63)\n\tat org.apache.spark.sql.Dataset.org$apache$spark$sql$Dataset$$withPlan(Dataset.scala:2845)\n\tat org.apache.spark.sql.Dataset.select(Dataset.scala:1131)\n\tat org.apache.spark.sql.Dataset.withColumn(Dataset.scala:1884)\n\tat sun.reflect.GeneratedMethodAccessor68.invoke(Unknown Source)\n\tat sun.reflect.DelegatingMethodAccessorImpl.invoke(DelegatingMethodAccessorImpl.java:43)\n\tat java.lang.reflect.Method.invoke(Method.java:498)\n\tat py4j.reflection.MethodInvoker.invoke(MethodInvoker.java:244)\n\tat py4j.reflection.ReflectionEngine.invoke(ReflectionEngine.java:357)\n\tat py4j.Gateway.invoke(Gateway.java:280)\n\tat py4j.commands.AbstractCommand.invokeMethod(AbstractCommand.java:132)\n\tat py4j.commands.CallCommand.execute(CallCommand.java:79)\n\tat py4j.GatewayConnection.run(GatewayConnection.java:214)\n\tat java.lang.Thread.run(Thread.java:748)\n",
      "\nDuring handling of the above exception, another exception occurred:\n",
      "\u001b[0;31mAnalysisException\u001b[0m                         Traceback (most recent call last)",
      "\u001b[0;32m<ipython-input-117-3a9284d60f72>\u001b[0m in \u001b[0;36m<module>\u001b[0;34m()\u001b[0m\n\u001b[1;32m      1\u001b[0m \u001b[0msplit_col\u001b[0m\u001b[0;34m=\u001b[0m\u001b[0msplit\u001b[0m\u001b[0;34m(\u001b[0m\u001b[0mPOP3\u001b[0m\u001b[0;34m[\u001b[0m\u001b[0;34m'TA with Auckland Local Board'\u001b[0m\u001b[0;34m]\u001b[0m\u001b[0;34m,\u001b[0m\u001b[0;34m'local'\u001b[0m\u001b[0;34m)\u001b[0m\u001b[0;34m\u001b[0m\u001b[0m\n\u001b[0;32m----> 2\u001b[0;31m \u001b[0mPOP4\u001b[0m \u001b[0;34m=\u001b[0m \u001b[0mPOP3\u001b[0m\u001b[0;34m.\u001b[0m\u001b[0mwithColumn\u001b[0m\u001b[0;34m(\u001b[0m\u001b[0;34m'Local Board'\u001b[0m\u001b[0;34m,\u001b[0m \u001b[0mconcat\u001b[0m\u001b[0;34m(\u001b[0m\u001b[0;34m'Auckland-'\u001b[0m\u001b[0;34m,\u001b[0m\u001b[0msplit_col\u001b[0m\u001b[0;34m.\u001b[0m\u001b[0mgetItem\u001b[0m\u001b[0;34m(\u001b[0m\u001b[0;36m0\u001b[0m\u001b[0;34m)\u001b[0m\u001b[0;34m)\u001b[0m\u001b[0;34m)\u001b[0m\u001b[0;34m\u001b[0m\u001b[0m\n\u001b[0m\u001b[1;32m      3\u001b[0m \u001b[0;34m\u001b[0m\u001b[0m\n\u001b[1;32m      4\u001b[0m \u001b[0;31m##concat_ws('Auckland- ', POP3['TA with Auckland Local Board'])))\u001b[0m\u001b[0;34m\u001b[0m\u001b[0;34m\u001b[0m\u001b[0m\n",
      "\u001b[0;32m~/spark-2.1.1-bin-hadoop2.7/python/pyspark/sql/dataframe.py\u001b[0m in \u001b[0;36mwithColumn\u001b[0;34m(self, colName, col)\u001b[0m\n\u001b[1;32m   1500\u001b[0m         \"\"\"\n\u001b[1;32m   1501\u001b[0m         \u001b[0;32massert\u001b[0m \u001b[0misinstance\u001b[0m\u001b[0;34m(\u001b[0m\u001b[0mcol\u001b[0m\u001b[0;34m,\u001b[0m \u001b[0mColumn\u001b[0m\u001b[0;34m)\u001b[0m\u001b[0;34m,\u001b[0m \u001b[0;34m\"col should be Column\"\u001b[0m\u001b[0;34m\u001b[0m\u001b[0m\n\u001b[0;32m-> 1502\u001b[0;31m         \u001b[0;32mreturn\u001b[0m \u001b[0mDataFrame\u001b[0m\u001b[0;34m(\u001b[0m\u001b[0mself\u001b[0m\u001b[0;34m.\u001b[0m\u001b[0m_jdf\u001b[0m\u001b[0;34m.\u001b[0m\u001b[0mwithColumn\u001b[0m\u001b[0;34m(\u001b[0m\u001b[0mcolName\u001b[0m\u001b[0;34m,\u001b[0m \u001b[0mcol\u001b[0m\u001b[0;34m.\u001b[0m\u001b[0m_jc\u001b[0m\u001b[0;34m)\u001b[0m\u001b[0;34m,\u001b[0m \u001b[0mself\u001b[0m\u001b[0;34m.\u001b[0m\u001b[0msql_ctx\u001b[0m\u001b[0;34m)\u001b[0m\u001b[0;34m\u001b[0m\u001b[0m\n\u001b[0m\u001b[1;32m   1503\u001b[0m \u001b[0;34m\u001b[0m\u001b[0m\n\u001b[1;32m   1504\u001b[0m     \u001b[0;34m@\u001b[0m\u001b[0mignore_unicode_prefix\u001b[0m\u001b[0;34m\u001b[0m\u001b[0m\n",
      "\u001b[0;32m~/spark-2.1.1-bin-hadoop2.7/python/lib/py4j-0.10.4-src.zip/py4j/java_gateway.py\u001b[0m in \u001b[0;36m__call__\u001b[0;34m(self, *args)\u001b[0m\n\u001b[1;32m   1131\u001b[0m         \u001b[0manswer\u001b[0m \u001b[0;34m=\u001b[0m \u001b[0mself\u001b[0m\u001b[0;34m.\u001b[0m\u001b[0mgateway_client\u001b[0m\u001b[0;34m.\u001b[0m\u001b[0msend_command\u001b[0m\u001b[0;34m(\u001b[0m\u001b[0mcommand\u001b[0m\u001b[0;34m)\u001b[0m\u001b[0;34m\u001b[0m\u001b[0m\n\u001b[1;32m   1132\u001b[0m         return_value = get_return_value(\n\u001b[0;32m-> 1133\u001b[0;31m             answer, self.gateway_client, self.target_id, self.name)\n\u001b[0m\u001b[1;32m   1134\u001b[0m \u001b[0;34m\u001b[0m\u001b[0m\n\u001b[1;32m   1135\u001b[0m         \u001b[0;32mfor\u001b[0m \u001b[0mtemp_arg\u001b[0m \u001b[0;32min\u001b[0m \u001b[0mtemp_args\u001b[0m\u001b[0;34m:\u001b[0m\u001b[0;34m\u001b[0m\u001b[0m\n",
      "\u001b[0;32m~/spark-2.1.1-bin-hadoop2.7/python/pyspark/sql/utils.py\u001b[0m in \u001b[0;36mdeco\u001b[0;34m(*a, **kw)\u001b[0m\n\u001b[1;32m     67\u001b[0m                                              e.java_exception.getStackTrace()))\n\u001b[1;32m     68\u001b[0m             \u001b[0;32mif\u001b[0m \u001b[0ms\u001b[0m\u001b[0;34m.\u001b[0m\u001b[0mstartswith\u001b[0m\u001b[0;34m(\u001b[0m\u001b[0;34m'org.apache.spark.sql.AnalysisException: '\u001b[0m\u001b[0;34m)\u001b[0m\u001b[0;34m:\u001b[0m\u001b[0;34m\u001b[0m\u001b[0m\n\u001b[0;32m---> 69\u001b[0;31m                 \u001b[0;32mraise\u001b[0m \u001b[0mAnalysisException\u001b[0m\u001b[0;34m(\u001b[0m\u001b[0ms\u001b[0m\u001b[0;34m.\u001b[0m\u001b[0msplit\u001b[0m\u001b[0;34m(\u001b[0m\u001b[0;34m': '\u001b[0m\u001b[0;34m,\u001b[0m \u001b[0;36m1\u001b[0m\u001b[0;34m)\u001b[0m\u001b[0;34m[\u001b[0m\u001b[0;36m1\u001b[0m\u001b[0;34m]\u001b[0m\u001b[0;34m,\u001b[0m \u001b[0mstackTrace\u001b[0m\u001b[0;34m)\u001b[0m\u001b[0;34m\u001b[0m\u001b[0m\n\u001b[0m\u001b[1;32m     70\u001b[0m             \u001b[0;32mif\u001b[0m \u001b[0ms\u001b[0m\u001b[0;34m.\u001b[0m\u001b[0mstartswith\u001b[0m\u001b[0;34m(\u001b[0m\u001b[0;34m'org.apache.spark.sql.catalyst.analysis'\u001b[0m\u001b[0;34m)\u001b[0m\u001b[0;34m:\u001b[0m\u001b[0;34m\u001b[0m\u001b[0m\n\u001b[1;32m     71\u001b[0m                 \u001b[0;32mraise\u001b[0m \u001b[0mAnalysisException\u001b[0m\u001b[0;34m(\u001b[0m\u001b[0ms\u001b[0m\u001b[0;34m.\u001b[0m\u001b[0msplit\u001b[0m\u001b[0;34m(\u001b[0m\u001b[0;34m': '\u001b[0m\u001b[0;34m,\u001b[0m \u001b[0;36m1\u001b[0m\u001b[0;34m)\u001b[0m\u001b[0;34m[\u001b[0m\u001b[0;36m1\u001b[0m\u001b[0;34m]\u001b[0m\u001b[0;34m,\u001b[0m \u001b[0mstackTrace\u001b[0m\u001b[0;34m)\u001b[0m\u001b[0;34m\u001b[0m\u001b[0m\n",
      "\u001b[0;31mAnalysisException\u001b[0m: \"cannot resolve '`Auckland-`' given input columns: [Total-school-age, Maori-school-age, Year at 30 June, TA with Auckland Local Board, non-Maori-school-age];;\\n'Project [TA with Auckland Local Board#385, Year at 30 June#3491, Total-school-age#3411, Maori-school-age#3424, non-Maori-school-age#3464, concat('Auckland-, split(TA with Auckland Local Board#385, local)[0]) AS Local Board#3977]\\n+- Project [TA with Auckland Local Board#385, Year at 30 June#3491, Total-school-age#3411, Maori-school-age#3424, non-Maori-school-age#3464]\\n   +- Project [TA with Auckland Local Board#385, cast(Year at 30 June#386 as string) AS Year at 30 June#3491, Maori-all-ages#391, Maori-5-9#392, Maori-10-14#393, Maori-15-19#394, Total-all-ages#403, Total-5-9#404, Total-10-14#405, Total-15-19#406, Total-school-age#3411, Maori-school-age#3424, non-Maori-all-ages#3449, non-Maori-school-age#3464]\\n      +- Project [TA with Auckland Local Board#385, Year at 30 June#386, Maori-all-ages#391, Maori-5-9#392, Maori-10-14#393, Maori-15-19#394, Total-all-ages#403, Total-5-9#404, Total-10-14#405, Total-15-19#406, Total-school-age#3411, Maori-school-age#3424, non-Maori-all-ages#3449, (Total-school-age#3411 - Maori-school-age#3424) AS non-Maori-school-age#3464]\\n         +- Project [TA with Auckland Local Board#385, Year at 30 June#386, Maori-all-ages#391, Maori-5-9#392, Maori-10-14#393, Maori-15-19#394, Total-all-ages#403, Total-5-9#404, Total-10-14#405, Total-15-19#406, Total-school-age#3411, Maori-school-age#3424, (Total-all-ages#403 - Maori-all-ages#391) AS non-Maori-all-ages#3449]\\n            +- Project [TA with Auckland Local Board#385, Year at 30 June#386, Maori-all-ages#391, Maori-5-9#392, Maori-10-14#393, Maori-15-19#394, Total-all-ages#403, Total-5-9#404, Total-10-14#405, Total-15-19#406, Total-school-age#3411, ((Maori-5-9#392 + Maori-10-14#393) + Maori-15-19#394) AS Maori-school-age#3424]\\n               +- Project [TA with Auckland Local Board#385, Year at 30 June#386, Maori-all-ages#391, Maori-5-9#392, Maori-10-14#393, Maori-15-19#394, Total-all-ages#403, Total-5-9#404, Total-10-14#405, Total-15-19#406, ((Total-5-9#404 + Total-10-14#405) + Total-15-19#406) AS Total-school-age#3411]\\n                  +- Project [TA with Auckland Local Board#385, Year at 30 June#386, Maori-all-ages#391, Maori-5-9#392, Maori-10-14#393, Maori-15-19#394, Total-all-ages#403, Total-5-9#404, Total-10-14#405, Total-15-19#406]\\n                     +- Relation[TA with Auckland Local Board#385,Year at 30 June#386,Euro-all-ages#387,Euro-5-9#388,Euro-10-14#389,Euro-15-19#390,Maori-all-ages#391,Maori-5-9#392,Maori-10-14#393,Maori-15-19#394,Asian-all-ages#395,Asian-5-9#396,Asian-10-14#397,Asian-15-19#398,Pacific-all-ages#399,Pacific-5-9#400,Pacific-10-14#401,Pacific-15-19#402,Total-all-ages#403,Total-5-9#404,Total-10-14#405,Total-15-19#406] csv\\n\""
     ]
    }
   ],
   "source": [
    "split_col=split(POP3['TA with Auckland Local Board'],'local')\n",
    "POP4 = POP3.withColumn('Local Board', concat('Auckland-',split_col.getItem(0)))\n",
    "\n",
    "##concat_ws('Auckland- ', POP3['TA with Auckland Local Board'])))"
   ]
  },
  {
   "cell_type": "code",
   "execution_count": 113,
   "metadata": {},
   "outputs": [
    {
     "data": {
      "text/plain": [
       "[Row(TA with Auckland Local Board='Far North district', Year at 30 June='2013', Total-school-age=13410, Maori-school-age=8440, non-Maori-school-age=4970, Local Board='Far North district'),\n",
       " Row(TA with Auckland Local Board='Far North district', Year at 30 June='2018', Total-school-age=13510, Maori-school-age=8990, non-Maori-school-age=4520, Local Board='Far North district'),\n",
       " Row(TA with Auckland Local Board='Far North district', Year at 30 June='2023', Total-school-age=13380, Maori-school-age=9230, non-Maori-school-age=4150, Local Board='Far North district'),\n",
       " Row(TA with Auckland Local Board='Far North district', Year at 30 June='2028', Total-school-age=13290, Maori-school-age=9370, non-Maori-school-age=3920, Local Board='Far North district'),\n",
       " Row(TA with Auckland Local Board='Far North district', Year at 30 June='2033', Total-school-age=12810, Maori-school-age=9280, non-Maori-school-age=3530, Local Board='Far North district'),\n",
       " Row(TA with Auckland Local Board='Far North district', Year at 30 June='2038', Total-school-age=12460, Maori-school-age=9440, non-Maori-school-age=3020, Local Board='Far North district'),\n",
       " Row(TA with Auckland Local Board='Whangarei district', Year at 30 June='2013', Total-school-age=17730, Maori-school-age=7360, non-Maori-school-age=10370, Local Board='Whangarei district'),\n",
       " Row(TA with Auckland Local Board='Whangarei district', Year at 30 June='2018', Total-school-age=19040, Maori-school-age=8420, non-Maori-school-age=10620, Local Board='Whangarei district'),\n",
       " Row(TA with Auckland Local Board='Whangarei district', Year at 30 June='2023', Total-school-age=19780, Maori-school-age=9240, non-Maori-school-age=10540, Local Board='Whangarei district'),\n",
       " Row(TA with Auckland Local Board='Whangarei district', Year at 30 June='2028', Total-school-age=20170, Maori-school-age=9890, non-Maori-school-age=10280, Local Board='Whangarei district'),\n",
       " Row(TA with Auckland Local Board='Whangarei district', Year at 30 June='2033', Total-school-age=19930, Maori-school-age=10160, non-Maori-school-age=9770, Local Board='Whangarei district'),\n",
       " Row(TA with Auckland Local Board='Whangarei district', Year at 30 June='2038', Total-school-age=20030, Maori-school-age=10840, non-Maori-school-age=9190, Local Board='Whangarei district'),\n",
       " Row(TA with Auckland Local Board='Kaipara district', Year at 30 June='2013', Total-school-age=4160, Maori-school-age=1590, non-Maori-school-age=2570, Local Board='Kaipara district'),\n",
       " Row(TA with Auckland Local Board='Kaipara district', Year at 30 June='2018', Total-school-age=4240, Maori-school-age=1740, non-Maori-school-age=2500, Local Board='Kaipara district'),\n",
       " Row(TA with Auckland Local Board='Kaipara district', Year at 30 June='2023', Total-school-age=4240, Maori-school-age=1810, non-Maori-school-age=2430, Local Board='Kaipara district'),\n",
       " Row(TA with Auckland Local Board='Kaipara district', Year at 30 June='2028', Total-school-age=4320, Maori-school-age=1960, non-Maori-school-age=2360, Local Board='Kaipara district'),\n",
       " Row(TA with Auckland Local Board='Kaipara district', Year at 30 June='2033', Total-school-age=4290, Maori-school-age=2030, non-Maori-school-age=2260, Local Board='Kaipara district'),\n",
       " Row(TA with Auckland Local Board='Kaipara district', Year at 30 June='2038', Total-school-age=4220, Maori-school-age=2150, non-Maori-school-age=2070, Local Board='Kaipara district'),\n",
       " Row(TA with Auckland Local Board='Auckland', Year at 30 June='2013', Total-school-age=310390, Maori-school-age=52470, non-Maori-school-age=257920, Local Board='Auckland'),\n",
       " Row(TA with Auckland Local Board='Auckland', Year at 30 June='2018', Total-school-age=323590, Maori-school-age=56600, non-Maori-school-age=266990, Local Board='Auckland'),\n",
       " Row(TA with Auckland Local Board='Auckland', Year at 30 June='2023', Total-school-age=331190, Maori-school-age=58230, non-Maori-school-age=272960, Local Board='Auckland'),\n",
       " Row(TA with Auckland Local Board='Auckland', Year at 30 June='2028', Total-school-age=348970, Maori-school-age=59680, non-Maori-school-age=289290, Local Board='Auckland'),\n",
       " Row(TA with Auckland Local Board='Auckland', Year at 30 June='2033', Total-school-age=365330, Maori-school-age=60920, non-Maori-school-age=304410, Local Board='Auckland'),\n",
       " Row(TA with Auckland Local Board='Auckland', Year at 30 June='2038', Total-school-age=382710, Maori-school-age=65000, non-Maori-school-age=317710, Local Board='Auckland'),\n",
       " Row(TA with Auckland Local Board='Rodney local board area', Year at 30 June='2013', Total-school-age=12250, Maori-school-age=1950, non-Maori-school-age=10300, Local Board='Rodney '),\n",
       " Row(TA with Auckland Local Board='Rodney local board area', Year at 30 June='2018', Total-school-age=12660, Maori-school-age=2290, non-Maori-school-age=10370, Local Board='Rodney '),\n",
       " Row(TA with Auckland Local Board='Rodney local board area', Year at 30 June='2023', Total-school-age=12840, Maori-school-age=2520, non-Maori-school-age=10320, Local Board='Rodney '),\n",
       " Row(TA with Auckland Local Board='Rodney local board area', Year at 30 June='2028', Total-school-age=13650, Maori-school-age=2740, non-Maori-school-age=10910, Local Board='Rodney '),\n",
       " Row(TA with Auckland Local Board='Rodney local board area', Year at 30 June='2033', Total-school-age=15150, Maori-school-age=2940, non-Maori-school-age=12210, Local Board='Rodney '),\n",
       " Row(TA with Auckland Local Board='Rodney local board area', Year at 30 June='2038', Total-school-age=16820, Maori-school-age=3270, non-Maori-school-age=13550, Local Board='Rodney '),\n",
       " Row(TA with Auckland Local Board='Hibiscus and Bays local board area', Year at 30 June='2013', Total-school-age=19130, Maori-school-age=1900, non-Maori-school-age=17230, Local Board='Hibiscus and Bays '),\n",
       " Row(TA with Auckland Local Board='Hibiscus and Bays local board area', Year at 30 June='2018', Total-school-age=20040, Maori-school-age=2260, non-Maori-school-age=17780, Local Board='Hibiscus and Bays '),\n",
       " Row(TA with Auckland Local Board='Hibiscus and Bays local board area', Year at 30 June='2023', Total-school-age=20870, Maori-school-age=2440, non-Maori-school-age=18430, Local Board='Hibiscus and Bays '),\n",
       " Row(TA with Auckland Local Board='Hibiscus and Bays local board area', Year at 30 June='2028', Total-school-age=22240, Maori-school-age=2580, non-Maori-school-age=19660, Local Board='Hibiscus and Bays '),\n",
       " Row(TA with Auckland Local Board='Hibiscus and Bays local board area', Year at 30 June='2033', Total-school-age=23650, Maori-school-age=2680, non-Maori-school-age=20970, Local Board='Hibiscus and Bays '),\n",
       " Row(TA with Auckland Local Board='Hibiscus and Bays local board area', Year at 30 June='2038', Total-school-age=25030, Maori-school-age=2940, non-Maori-school-age=22090, Local Board='Hibiscus and Bays '),\n",
       " Row(TA with Auckland Local Board='Upper Harbour local board area', Year at 30 June='2013', Total-school-age=11800, Maori-school-age=980, non-Maori-school-age=10820, Local Board='Upper Harbour '),\n",
       " Row(TA with Auckland Local Board='Upper Harbour local board area', Year at 30 June='2018', Total-school-age=12710, Maori-school-age=1070, non-Maori-school-age=11640, Local Board='Upper Harbour '),\n",
       " Row(TA with Auckland Local Board='Upper Harbour local board area', Year at 30 June='2023', Total-school-age=13750, Maori-school-age=1080, non-Maori-school-age=12670, Local Board='Upper Harbour '),\n",
       " Row(TA with Auckland Local Board='Upper Harbour local board area', Year at 30 June='2028', Total-school-age=15510, Maori-school-age=1100, non-Maori-school-age=14410, Local Board='Upper Harbour '),\n",
       " Row(TA with Auckland Local Board='Upper Harbour local board area', Year at 30 June='2033', Total-school-age=17340, Maori-school-age=1110, non-Maori-school-age=16230, Local Board='Upper Harbour '),\n",
       " Row(TA with Auckland Local Board='Upper Harbour local board area', Year at 30 June='2038', Total-school-age=18960, Maori-school-age=1220, non-Maori-school-age=17740, Local Board='Upper Harbour '),\n",
       " Row(TA with Auckland Local Board='Kaipatiki local board area', Year at 30 June='2013', Total-school-age=15710, Maori-school-age=2360, non-Maori-school-age=13350, Local Board='Kaipatiki '),\n",
       " Row(TA with Auckland Local Board='Kaipatiki local board area', Year at 30 June='2018', Total-school-age=16690, Maori-school-age=2530, non-Maori-school-age=14160, Local Board='Kaipatiki '),\n",
       " Row(TA with Auckland Local Board='Kaipatiki local board area', Year at 30 June='2023', Total-school-age=17780, Maori-school-age=2660, non-Maori-school-age=15120, Local Board='Kaipatiki '),\n",
       " Row(TA with Auckland Local Board='Kaipatiki local board area', Year at 30 June='2028', Total-school-age=18950, Maori-school-age=2590, non-Maori-school-age=16360, Local Board='Kaipatiki '),\n",
       " Row(TA with Auckland Local Board='Kaipatiki local board area', Year at 30 June='2033', Total-school-age=19040, Maori-school-age=2480, non-Maori-school-age=16560, Local Board='Kaipatiki '),\n",
       " Row(TA with Auckland Local Board='Kaipatiki local board area', Year at 30 June='2038', Total-school-age=18850, Maori-school-age=2470, non-Maori-school-age=16380, Local Board='Kaipatiki '),\n",
       " Row(TA with Auckland Local Board='Devonport-Takapuna local board area', Year at 30 June='2013', Total-school-age=11460, Maori-school-age=940, non-Maori-school-age=10520, Local Board='Devonport-Takapuna '),\n",
       " Row(TA with Auckland Local Board='Devonport-Takapuna local board area', Year at 30 June='2018', Total-school-age=11820, Maori-school-age=950, non-Maori-school-age=10870, Local Board='Devonport-Takapuna ')]"
      ]
     },
     "execution_count": 113,
     "metadata": {},
     "output_type": "execute_result"
    }
   ],
   "source": [
    "POP4.head(50)\n"
   ]
  },
  {
   "cell_type": "code",
   "execution_count": 115,
   "metadata": {},
   "outputs": [],
   "source": [
    "x=concat('a','b')"
   ]
  },
  {
   "cell_type": "code",
   "execution_count": 116,
   "metadata": {},
   "outputs": [
    {
     "data": {
      "text/plain": [
       "Column<b'concat(a, b)'>"
      ]
     },
     "execution_count": 116,
     "metadata": {},
     "output_type": "execute_result"
    }
   ],
   "source": [
    "x\n"
   ]
  },
  {
   "cell_type": "code",
   "execution_count": null,
   "metadata": {},
   "outputs": [],
   "source": []
  }
 ],
 "metadata": {
  "kernelspec": {
   "display_name": "Python 3",
   "language": "python",
   "name": "python3"
  },
  "language_info": {
   "codemirror_mode": {
    "name": "ipython",
    "version": 3
   },
   "file_extension": ".py",
   "mimetype": "text/x-python",
   "name": "python",
   "nbconvert_exporter": "python",
   "pygments_lexer": "ipython3",
   "version": "3.5.2"
  }
 },
 "nbformat": 4,
 "nbformat_minor": 2
}
