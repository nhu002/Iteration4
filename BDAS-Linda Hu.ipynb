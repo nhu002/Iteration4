{
 "cells": [
  {
   "cell_type": "code",
   "execution_count": null,
   "metadata": {},
   "outputs": [],
   "source": [
    "import findspark\n",
    "findspark.init(\"/home/ubuntu/spark-2.1.1-bin-hadoop2.7\")\n",
    "import pyspark\n",
    "from pyspark.sql import SparkSession\n",
    "spark = SparkSession.builder.appName('BDAS-Linda').getOrCreate()\n",
    "\n",
    "from functools import reduce\n",
    "from pyspark.sql import DataFrame\n",
    "from pyspark.sql.types import IntegerType\n"
   ]
  },
  {
   "cell_type": "code",
   "execution_count": null,
   "metadata": {},
   "outputs": [],
   "source": [
    "# import Maori language in education datasets\n",
    "filename1 = \"./Maori-Language-Learning-Student-Numbers-by-Ethnicity-2004-2008.csv\"\n",
    "filename2 = \"./Maori-Language-Learning-Student-Numbers-by-Ethnicity-2009-2013.csv\"\n",
    "filename3 = \"./Maori-Language-Learning-Student-Numbers-by-Ethnicity-2014-2018.csv\"\n",
    "filename4 = \"./Maori-Language-Learning-Student-Numbers-by-Ethnicity-2019.csv\"\n",
    "MLLSN1=spark.read.csv(filename1, inferSchema=True, header=\"true\")\n",
    "MLLSN2=spark.read.csv(filename2, inferSchema=True, header=\"true\")\n",
    "MLLSN3=spark.read.csv(filename3, inferSchema=True, header=\"true\")\n",
    "MLLSN4=spark.read.csv(filename4, inferSchema=True, header=\"true\")\n",
    "\n",
    "def unionAll(*dfs):\n",
    "    return reduce(DataFrame.unionAll, dfs)\n",
    "\n",
    "MLLSN=unionAll(MLLSN1,MLLSN2,MLLSN3,MLLSN4)\n",
    "MLLSN.columns"
   ]
  },
  {
   "cell_type": "code",
   "execution_count": null,
   "metadata": {},
   "outputs": [],
   "source": [
    "# import population data\n",
    "filename = \"./Subnational-ethnic-population-projections-2013base.csv\"\n",
    "POP=spark.read.csv(filename, inferSchema=True, header=\"true\")\n",
    "POP.columns"
   ]
  },
  {
   "cell_type": "code",
   "execution_count": null,
   "metadata": {},
   "outputs": [],
   "source": [
    "MLLSN.count()"
   ]
  },
  {
   "cell_type": "code",
   "execution_count": null,
   "metadata": {},
   "outputs": [],
   "source": [
    "MLLSN.printSchema()"
   ]
  },
  {
   "cell_type": "code",
   "execution_count": null,
   "metadata": {},
   "outputs": [],
   "source": [
    "POP.count()"
   ]
  },
  {
   "cell_type": "code",
   "execution_count": null,
   "metadata": {},
   "outputs": [],
   "source": [
    "POP.printSchema()"
   ]
  },
  {
   "cell_type": "code",
   "execution_count": null,
   "metadata": {},
   "outputs": [],
   "source": [
    "MLLSN.show()"
   ]
  },
  {
   "cell_type": "code",
   "execution_count": null,
   "metadata": {},
   "outputs": [],
   "source": [
    "#check unique values in the key attributes\n",
    "MLLSN.select(\"Student: Ethnicity\").distinct().show()\n",
    "MLLSN.select(\"Student: Year level (Grouped)\").distinct().show()"
   ]
  },
  {
   "cell_type": "code",
   "execution_count": null,
   "metadata": {},
   "outputs": [],
   "source": [
    "MLLSN.select(\"Student: Maori Language Immersion Level\").distinct().show()\n",
    "MLLSN.select(\"Student: Maori Language in Education level\").distinct().show()"
   ]
  },
  {
   "cell_type": "code",
   "execution_count": null,
   "metadata": {},
   "outputs": [],
   "source": [
    "MLLSN.select('School: Type').distinct().show()\n",
    "MLLSN.select('School: Sector').distinct().show()"
   ]
  },
  {
   "cell_type": "code",
   "execution_count": null,
   "metadata": {},
   "outputs": [],
   "source": [
    "POP.show()"
   ]
  },
  {
   "cell_type": "code",
   "execution_count": null,
   "metadata": {},
   "outputs": [],
   "source": [
    "POP.select('Year at 30 June').distinct().show()"
   ]
  },
  {
   "cell_type": "code",
   "execution_count": null,
   "metadata": {},
   "outputs": [],
   "source": [
    "from pyspark.sql.functions import *\n",
    "\n",
    "MLLSN.select([count(when(isnull(c),c)).alias(c) for c in MLLSN.columns]).show()"
   ]
  },
  {
   "cell_type": "code",
   "execution_count": null,
   "metadata": {},
   "outputs": [],
   "source": [
    "MLLSN.filter(MLLSN['Students Number']<=0).show()"
   ]
  },
  {
   "cell_type": "code",
   "execution_count": null,
   "metadata": {},
   "outputs": [],
   "source": [
    "POP.select([count(when(isnull(c),c)).alias(c) for c in POP.columns]).show()"
   ]
  },
  {
   "cell_type": "code",
   "execution_count": null,
   "metadata": {},
   "outputs": [],
   "source": [
    "# exclude irrelevant attributes in Māori language data \n",
    "cols=MLLSN.columns\n",
    "cols.remove('School: Name')\n",
    "cols.remove('School: Gender')\n",
    "cols.remove('School: Affiliation Type')\n",
    "cols.remove('School: Affiliation')\n",
    "cols.remove('School: Definition')\n",
    "cols.remove('Region: Census area unit')"
   ]
  },
  {
   "cell_type": "code",
   "execution_count": null,
   "metadata": {},
   "outputs": [],
   "source": [
    "# exclude related attributes in Māori language data\n",
    "cols.remove('Student: Year level')\n",
    "cols.remove('School: Type')\n",
    "cols.remove('Region: Regional Council')\n",
    "cols.remove('Region: Education Region')\n",
    "cols.remove('Region: Territorial Authority')\n",
    "cols.remove('Region: Ward')\n",
    "cols.remove('Region: TA with Auckland wards')\n",
    "cols.remove('Region: MOE Local office')\n",
    "MLLSN2=MLLSN[cols]"
   ]
  },
  {
   "cell_type": "code",
   "execution_count": null,
   "metadata": {},
   "outputs": [],
   "source": [
    "MLLSN2.dtypes"
   ]
  },
  {
   "cell_type": "code",
   "execution_count": null,
   "metadata": {},
   "outputs": [],
   "source": [
    "# exclude irrelevant attributes in population data\n",
    "cols2=POP.columns\n",
    "cols2.remove('Euro-all-ages')\n",
    "cols2.remove('Euro-5-9')\n",
    "cols2.remove('Euro-10-14')\n",
    "cols2.remove('Euro-15-19')\n",
    "cols2.remove('Asian-all-ages')\n",
    "cols2.remove('Asian-5-9')\n",
    "cols2.remove('Asian-10-14')\n",
    "cols2.remove('Asian-15-19')\n",
    "cols2.remove('Pacific-all-ages')\n",
    "cols2.remove('Pacific-5-9')\n",
    "cols2.remove('Pacific-10-14')\n",
    "cols2.remove('Pacific-15-19')\n",
    "POP2=POP[cols2]"
   ]
  },
  {
   "cell_type": "code",
   "execution_count": null,
   "metadata": {},
   "outputs": [],
   "source": [
    "POP2.dtypes"
   ]
  },
  {
   "cell_type": "code",
   "execution_count": null,
   "metadata": {},
   "outputs": [],
   "source": [
    "MLLSN2=MLLSN2.filter(MLLSN2[\"Students Number\"]>0)"
   ]
  },
  {
   "cell_type": "code",
   "execution_count": null,
   "metadata": {},
   "outputs": [],
   "source": [
    "MLLSN2.count()"
   ]
  },
  {
   "cell_type": "code",
   "execution_count": null,
   "metadata": {},
   "outputs": [],
   "source": [
    "MLLSN2.filter(MLLSN2[\"Students Number\"]<=0).show()"
   ]
  },
  {
   "cell_type": "code",
   "execution_count": null,
   "metadata": {},
   "outputs": [],
   "source": [
    "# aggregation by Student: Year level (Grouped) in the School level\n",
    "GMLLSN2 = MLLSN2.groupby('School: ID','Year: As at 1 July','Student: Year level (Grouped)','Student: Ethnicity', \n",
    "                         'Student: Maori Language Immersion Level','Student: Maori Language in Education level',\n",
    "                         'School: Highest Maori Language Immersion Level','School: Kura Type','School: Authority',\n",
    "                         'School: Maori Language Descriptor','School: Medium','School: Decile','School: Sector',\n",
    "                         'Region: TA with Auckland local boards').sum('Students Number')"
   ]
  },
  {
   "cell_type": "code",
   "execution_count": null,
   "metadata": {},
   "outputs": [],
   "source": [
    "GMLLSN2.count()"
   ]
  },
  {
   "cell_type": "code",
   "execution_count": null,
   "metadata": {},
   "outputs": [],
   "source": [
    "GMLLSN2.head(1)"
   ]
  },
  {
   "cell_type": "code",
   "execution_count": null,
   "metadata": {},
   "outputs": [],
   "source": [
    "# combine age groups\n",
    "POP2 = POP2.withColumn('Total-school-age',POP2['Total-5-9']+POP2['Total-10-14']+POP2['Total-15-19'])\n",
    "POP2 = POP2.withColumn('Maori-school-age',POP2['Maori-5-9']+POP2['Maori-10-14']+POP2['Maori-15-19'])\n",
    "            "
   ]
  },
  {
   "cell_type": "code",
   "execution_count": null,
   "metadata": {},
   "outputs": [],
   "source": [
    "# create non Māori population attributes\n",
    "POP2 = POP2.withColumn('non-Maori-all-ages',POP2['Total-all-ages'] - POP2['Maori-all-ages'])\n",
    "POP2 = POP2.withColumn('non-Maori-school-age',POP2['Total-school-age'] - POP2['Maori-school-age'])"
   ]
  },
  {
   "cell_type": "code",
   "execution_count": null,
   "metadata": {},
   "outputs": [],
   "source": [
    "POP2.head(1)"
   ]
  },
  {
   "cell_type": "code",
   "execution_count": null,
   "metadata": {},
   "outputs": [],
   "source": [
    "POP2.dtypes"
   ]
  },
  {
   "cell_type": "code",
   "execution_count": null,
   "metadata": {},
   "outputs": [],
   "source": [
    "# remove irrelevant attributes in population\n",
    "cols3=POP2.columns\n",
    "cols3.remove('Total-5-9')\n",
    "cols3.remove('Total-10-14')\n",
    "cols3.remove('Total-15-19')\n",
    "cols3.remove('Maori-5-9')\n",
    "cols3.remove('Maori-10-14')\n",
    "cols3.remove('Maori-15-19')\n",
    "cols3.remove('Total-all-ages')\n",
    "cols3.remove('Maori-all-ages')\n",
    "cols3.remove('non-Maori-all-ages')\n",
    "POP3=POP2[cols3]\n",
    "POP3.dtypes"
   ]
  },
  {
   "cell_type": "code",
   "execution_count": null,
   "metadata": {},
   "outputs": [],
   "source": [
    "# Ensure values of key attributes to be joined are consistent\n",
    "POP3.select('TA with Auckland Local Board').distinct().show(20,False)"
   ]
  },
  {
   "cell_type": "code",
   "execution_count": null,
   "metadata": {},
   "outputs": [],
   "source": [
    "GMLLSN2.select('Region: TA with Auckland local boards').distinct().show(20,False)"
   ]
  },
  {
   "cell_type": "code",
   "execution_count": null,
   "metadata": {},
   "outputs": [],
   "source": [
    "POP4 = POP3.withColumn('TA with Auckland Local Board', regexp_replace('TA with Auckland Local Board',' local board area',''))"
   ]
  },
  {
   "cell_type": "code",
   "execution_count": null,
   "metadata": {},
   "outputs": [],
   "source": [
    "POP4.select('TA with Auckland Local Board').distinct().show(20,False)"
   ]
  },
  {
   "cell_type": "code",
   "execution_count": null,
   "metadata": {},
   "outputs": [],
   "source": [
    "GMLLSN3 = GMLLSN2.withColumn('Region: TA with Auckland local boards', regexp_replace('Region: TA with Auckland local boards',\n",
    "                                                                                     'Auckland- ',''))"
   ]
  },
  {
   "cell_type": "code",
   "execution_count": null,
   "metadata": {},
   "outputs": [],
   "source": [
    "GMLLSN3.select('Region: TA with Auckland local boards').distinct().show(20,False)"
   ]
  },
  {
   "cell_type": "code",
   "execution_count": null,
   "metadata": {},
   "outputs": [],
   "source": [
    "POP5=POP4.filter(POP4['Year at 30 June']=='2018').drop('Year at 30 June')"
   ]
  },
  {
   "cell_type": "code",
   "execution_count": null,
   "metadata": {},
   "outputs": [],
   "source": [
    "POP5.show()"
   ]
  },
  {
   "cell_type": "code",
   "execution_count": null,
   "metadata": {},
   "outputs": [],
   "source": [
    "POP5.count()"
   ]
  },
  {
   "cell_type": "code",
   "execution_count": null,
   "metadata": {},
   "outputs": [],
   "source": [
    "# merge two data sets\n",
    "df = GMLLSN3.join(POP5,lower(GMLLSN3['Region: TA with Auckland local boards'])==\n",
    "                 lower(POP5['TA with Auckland Local Board']),how=\"left\")"
   ]
  },
  {
   "cell_type": "code",
   "execution_count": null,
   "metadata": {},
   "outputs": [],
   "source": [
    "df.head(1)"
   ]
  },
  {
   "cell_type": "code",
   "execution_count": null,
   "metadata": {},
   "outputs": [],
   "source": [
    "df=df.drop('TA with Auckland Local Board')"
   ]
  },
  {
   "cell_type": "code",
   "execution_count": null,
   "metadata": {},
   "outputs": [],
   "source": [
    "df.count()"
   ]
  },
  {
   "cell_type": "code",
   "execution_count": null,
   "metadata": {},
   "outputs": [],
   "source": [
    "df.dtypes"
   ]
  },
  {
   "cell_type": "code",
   "execution_count": null,
   "metadata": {},
   "outputs": [],
   "source": [
    "df.na.drop().count()"
   ]
  },
  {
   "cell_type": "code",
   "execution_count": null,
   "metadata": {},
   "outputs": [],
   "source": [
    "df2=df.filter(isnull(df['Total-school-age']))"
   ]
  },
  {
   "cell_type": "code",
   "execution_count": null,
   "metadata": {},
   "outputs": [],
   "source": [
    "df2.select('Region: TA with Auckland local boards').distinct().show(20,False)"
   ]
  },
  {
   "cell_type": "code",
   "execution_count": null,
   "metadata": {},
   "outputs": [],
   "source": [
    "df=df.na.drop()"
   ]
  },
  {
   "cell_type": "code",
   "execution_count": null,
   "metadata": {},
   "outputs": [],
   "source": [
    "df.count()"
   ]
  },
  {
   "cell_type": "code",
   "execution_count": null,
   "metadata": {},
   "outputs": [],
   "source": [
    "df2=df.filter(df['Year: As at 1 July']=='2019')"
   ]
  },
  {
   "cell_type": "code",
   "execution_count": null,
   "metadata": {},
   "outputs": [],
   "source": [
    "df2.head(1)"
   ]
  },
  {
   "cell_type": "code",
   "execution_count": null,
   "metadata": {},
   "outputs": [],
   "source": [
    "# aggregate data by regions\n",
    "gdf = df2.groupby('Region: TA with Auckland local boards', 'Student: Year level (Grouped)', \n",
    "                  'Student: Ethnicity', 'Student: Maori Language Immersion Level', \n",
    "                  'Student: Maori Language in Education level',\n",
    "                  'School: Highest Maori Language Immersion Level','School: Kura Type',\n",
    "                  'School: Authority','School: Maori Language Descriptor',\n",
    "                  'School: Medium','School: Decile','School: Sector','Total-school-age','Maori-school-age',\n",
    "                 'non-Maori-school-age').sum('sum(Students Number)')"
   ]
  },
  {
   "cell_type": "code",
   "execution_count": null,
   "metadata": {},
   "outputs": [],
   "source": [
    "gdf.count()"
   ]
  },
  {
   "cell_type": "code",
   "execution_count": null,
   "metadata": {},
   "outputs": [],
   "source": [
    "gdf.dtypes"
   ]
  },
  {
   "cell_type": "code",
   "execution_count": null,
   "metadata": {},
   "outputs": [],
   "source": [
    "# rename column names\n",
    "gdf = gdf.withColumnRenamed(\"Student: Year level (Grouped)\", \"Student: Year level grouped\")\n",
    "gdf = gdf.withColumnRenamed(\"sum(sum(Students Number))\", \"Students Number sumed\")"
   ]
  },
  {
   "cell_type": "code",
   "execution_count": null,
   "metadata": {},
   "outputs": [],
   "source": [
    "# replace attribute values from string to number\n",
    "gdf.select('Student: Year level grouped').distinct().show(20,False)"
   ]
  },
  {
   "cell_type": "code",
   "execution_count": null,
   "metadata": {},
   "outputs": [],
   "source": [
    "gdf2=gdf.withColumn(\"Student: Year level grouped\", regexp_replace(\n",
    "   \"Student: Year level grouped\",\"Primary \\(Year 1-8\\)\",\"1\")).withColumn(\n",
    "    \"Student: Year level grouped\", regexp_replace(\n",
    "    \"Student: Year level grouped\",\"Secondary \\(Year 9\\+\\)\",\"2\"))\n",
    "gdf2=gdf2.withColumn('Student: Year level grouped', gdf2['Student: Year level grouped']\n",
    "                     .cast(IntegerType()))\n",
    "gdf2.select('Student: Year level grouped').distinct().show(20,False)"
   ]
  },
  {
   "cell_type": "code",
   "execution_count": null,
   "metadata": {},
   "outputs": [],
   "source": [
    "gdf2.select('Student: Ethnicity').distinct().show(20,False)"
   ]
  },
  {
   "cell_type": "code",
   "execution_count": null,
   "metadata": {},
   "outputs": [],
   "source": [
    "gdf2=gdf2.withColumn(\"Student: Ethnicity\", regexp_replace(\n",
    "    \"Student: Ethnicity\",\"Non Maori\",\"2\")).withColumn(\"Student: Ethnicity\", regexp_replace(\n",
    "    \"Student: Ethnicity\",\"Maori\",\"1\"))\n",
    "gdf2=gdf2.withColumn('Student: Ethnicity', gdf2['Student: Ethnicity']\n",
    "                     .cast(IntegerType()))\n",
    "gdf2.select('Student: Ethnicity').distinct().show(20,False)"
   ]
  },
  {
   "cell_type": "code",
   "execution_count": null,
   "metadata": {},
   "outputs": [],
   "source": [
    "gdf2.select('Student: Maori Language Immersion Level').distinct().show(20,False)"
   ]
  },
  {
   "cell_type": "code",
   "execution_count": null,
   "metadata": {},
   "outputs": [],
   "source": [
    "gdf2=gdf2.withColumn('Student: Maori Language Immersion Level', regexp_replace(\n",
    "    'Student: Maori Language Immersion Level','Level 1\\: 81\\-100\\%','1')).withColumn(\n",
    "    'Student: Maori Language Immersion Level', regexp_replace(\n",
    "    'Student: Maori Language Immersion Level','Level 2\\: 51\\-80\\%','2')).withColumn(\n",
    "    'Student: Maori Language Immersion Level', regexp_replace(\n",
    "    'Student: Maori Language Immersion Level','Level 3\\: 31\\-50\\%','3')).withColumn(\n",
    "    'Student: Maori Language Immersion Level', regexp_replace(\n",
    "    'Student: Maori Language Immersion Level','Level 4\\(a\\)\\: up to 30\\%','4')).withColumn(\n",
    "    'Student: Maori Language Immersion Level', regexp_replace(\n",
    "    'Student: Maori Language Immersion Level','Level 4\\(b\\)\\: At least 3 Hours','5')).withColumn(\n",
    "    'Student: Maori Language Immersion Level', regexp_replace(\n",
    "    'Student: Maori Language Immersion Level','Level 5\\: Less than 3 Hours','6')).withColumn(\n",
    "    'Student: Maori Language Immersion Level', regexp_replace(\n",
    "    'Student: Maori Language Immersion Level','Level 6\\: Taha Maori','7')).withColumn(\n",
    "    'Student: Maori Language Immersion Level', regexp_replace(\n",
    "    'Student: Maori Language Immersion Level','No Maori language learning / Not Applicable','8'))\n",
    "gdf2=gdf2.withColumn('Student: Maori Language Immersion Level', gdf2['Student: Maori Language Immersion Level']\n",
    "                     .cast(IntegerType()))\n",
    "gdf2.select('Student: Maori Language Immersion Level').distinct().show(20,False)"
   ]
  },
  {
   "cell_type": "code",
   "execution_count": null,
   "metadata": {},
   "outputs": [],
   "source": [
    "gdf2.select('Student: Maori Language in Education level').distinct().show(20,False)"
   ]
  },
  {
   "cell_type": "code",
   "execution_count": null,
   "metadata": {},
   "outputs": [],
   "source": [
    "gdf2=gdf2.withColumn('Student: Maori Language in Education level', regexp_replace(\n",
    "    'Student: Maori Language in Education level','Maori medium','1')).withColumn(\n",
    "    'Student: Maori Language in Education level', regexp_replace(\n",
    "    'Student: Maori Language in Education level', 'Maori Language in English medium','2')).withColumn(\n",
    "    'Student: Maori Language in Education level', regexp_replace(\n",
    "    'Student: Maori Language in Education level', 'No Maori language learning / Not Applicable','3'))\n",
    "gdf2=gdf2.withColumn('Student: Maori Language in Education level', gdf2['Student: Maori Language in Education level']\n",
    "                     .cast(IntegerType()))\n",
    "gdf2.select('Student: Maori Language in Education level').distinct().show(20,False)"
   ]
  },
  {
   "cell_type": "code",
   "execution_count": null,
   "metadata": {},
   "outputs": [],
   "source": [
    "gdf2.select('School: Highest Maori Language Immersion Level').distinct().show(20,False)"
   ]
  },
  {
   "cell_type": "code",
   "execution_count": null,
   "metadata": {},
   "outputs": [],
   "source": [
    "gdf2=gdf2.withColumn('School: Highest Maori Language Immersion Level', regexp_replace(\n",
    "    'School: Highest Maori Language Immersion Level','Level 1\\: 81\\-100\\%','1')).withColumn(\n",
    "    'School: Highest Maori Language Immersion Level', regexp_replace(\n",
    "    'School: Highest Maori Language Immersion Level','Level 2\\: 51\\-80\\%','2')).withColumn(\n",
    "    'School: Highest Maori Language Immersion Level', regexp_replace(\n",
    "    'School: Highest Maori Language Immersion Level','Level 3\\: 31\\-50\\%','3')).withColumn(\n",
    "    'School: Highest Maori Language Immersion Level', regexp_replace(\n",
    "    'School: Highest Maori Language Immersion Level','Level 4\\(a\\)\\: up to 30\\%','4')).withColumn(\n",
    "    'School: Highest Maori Language Immersion Level', regexp_replace(\n",
    "    'School: Highest Maori Language Immersion Level','Level 4\\(b\\)\\: At least 3 Hours','5')).withColumn(\n",
    "    'School: Highest Maori Language Immersion Level', regexp_replace(\n",
    "    'School: Highest Maori Language Immersion Level','Level 5\\: Less than 3 Hours','6')).withColumn(\n",
    "    'School: Highest Maori Language Immersion Level', regexp_replace(\n",
    "    'School: Highest Maori Language Immersion Level','Level 6\\: Taha Maori','7')).withColumn(\n",
    "    'School: Highest Maori Language Immersion Level', regexp_replace(\n",
    "    'School: Highest Maori Language Immersion Level','No Maori language learning','8'))\n",
    "gdf2=gdf2.withColumn('School: Highest Maori Language Immersion Level', gdf2['School: Highest Maori Language Immersion Level']\n",
    "                     .cast(IntegerType()))\n",
    "gdf2.select('School: Highest Maori Language Immersion Level').distinct().show(20,False)"
   ]
  },
  {
   "cell_type": "code",
   "execution_count": null,
   "metadata": {},
   "outputs": [],
   "source": [
    "gdf2.select('School: Kura Type').distinct().show(20,False)"
   ]
  },
  {
   "cell_type": "code",
   "execution_count": null,
   "metadata": {},
   "outputs": [],
   "source": [
    "gdf2=gdf2.withColumn('School: Kura Type', regexp_replace(\n",
    "    'School: Kura Type','Kura Kaupapa Maori \\(Section 155\\)','1')).withColumn(\n",
    "    'School: Kura Type', regexp_replace(\n",
    "    'School: Kura Type', 'Designated Character \\(Section 156\\)','2')).withColumn(\n",
    "    'School: Kura Type', regexp_replace(\n",
    "    'School: Kura Type', 'Not a Kura School','3'))\n",
    "gdf2=gdf2.withColumn('School: Kura Type', gdf2['School: Kura Type']\n",
    "                     .cast(IntegerType()))\n",
    "gdf2.select('School: Kura Type').distinct().show(20,False)"
   ]
  },
  {
   "cell_type": "code",
   "execution_count": null,
   "metadata": {},
   "outputs": [],
   "source": [
    "gdf2.select('School: Authority').distinct().show(20,False)"
   ]
  },
  {
   "cell_type": "code",
   "execution_count": null,
   "metadata": {},
   "outputs": [],
   "source": [
    "gdf2=gdf2.withColumn('School: Authority', regexp_replace(\n",
    "    'School: Authority','State\\: Not integrated','1')).withColumn(\n",
    "    'School: Authority', regexp_replace(\n",
    "    'School: Authority', 'State\\: Integrated','2')).withColumn(\n",
    "    'School: Authority', regexp_replace(\n",
    "    'School: Authority', 'Private\\: Prov\\.Reg\\.','3')).withColumn(\n",
    "    'School: Authority', regexp_replace(\n",
    "    'School: Authority', 'Private\\: Fully Reg\\.','4')).withColumn(\n",
    "    'School: Authority', regexp_replace(\n",
    "    'School: Authority', 'Other \\: Vote Ed\\.','5'))\n",
    "gdf2=gdf2.withColumn('School: Authority', gdf2['School: Authority']\n",
    "                     .cast(IntegerType()))\n",
    "gdf2.select('School: Authority').distinct().show(20,False)"
   ]
  },
  {
   "cell_type": "code",
   "execution_count": null,
   "metadata": {},
   "outputs": [],
   "source": [
    "gdf2.select('School: Maori Language Descriptor').distinct().show(20,False)"
   ]
  },
  {
   "cell_type": "code",
   "execution_count": null,
   "metadata": {},
   "outputs": [],
   "source": [
    "gdf2=gdf2.withColumn('School: Maori Language Descriptor', regexp_replace(\n",
    "    'School: Maori Language Descriptor','Maori medium school','1')).withColumn(\n",
    "    'School: Maori Language Descriptor', regexp_replace(\n",
    "    'School: Maori Language Descriptor', 'School with some students in Maori medium education','2')).withColumn(\n",
    "    'School: Maori Language Descriptor', regexp_replace(\n",
    "    'School: Maori Language Descriptor', 'Mixed Maori language in education school','3')).withColumn(\n",
    "    'School: Maori Language Descriptor', regexp_replace(\n",
    "    'School: Maori Language Descriptor', 'School with some students in mixed Maori language in education','4')).withColumn(\n",
    "    'School: Maori Language Descriptor', regexp_replace(\n",
    "    'School: Maori Language Descriptor', 'Maori language in English medium school','5')).withColumn(\n",
    "    'School: Maori Language Descriptor', regexp_replace(\n",
    "    'School: Maori Language Descriptor', 'School with some students in Maori language in English medium','6')).withColumn(\n",
    "    'School: Maori Language Descriptor', regexp_replace(\n",
    "    'School: Maori Language Descriptor', 'No Maori language in education School','7'))\n",
    "gdf2=gdf2.withColumn('School: Maori Language Descriptor', gdf2['School: Maori Language Descriptor']\n",
    "                     .cast(IntegerType()))\n",
    "gdf2.select('School: Maori Language Descriptor').distinct().show(20,False)"
   ]
  },
  {
   "cell_type": "code",
   "execution_count": null,
   "metadata": {},
   "outputs": [],
   "source": [
    "gdf2.select('School: Medium').distinct().show(20,False)"
   ]
  },
  {
   "cell_type": "code",
   "execution_count": null,
   "metadata": {},
   "outputs": [],
   "source": [
    "gdf2=gdf2.withColumn('School: Medium', regexp_replace(\n",
    "    'School: Medium','English and Maori medium','2')).withColumn('School: Medium', regexp_replace(\n",
    "    'School: Medium','Maori medium','1')).withColumn('School: Medium', regexp_replace('School: Medium', 'English medium','3'))\n",
    "gdf2=gdf2.withColumn('School: Medium', gdf2['School: Medium'].cast(IntegerType()))\n",
    "gdf2.select('School: Medium').distinct().show(20,False)"
   ]
  },
  {
   "cell_type": "code",
   "execution_count": null,
   "metadata": {},
   "outputs": [],
   "source": [
    "gdf2.select('School: Decile').distinct().show(20,False)"
   ]
  },
  {
   "cell_type": "code",
   "execution_count": null,
   "metadata": {},
   "outputs": [],
   "source": [
    "gdf2=gdf2.withColumn('School: Decile', regexp_replace(\n",
    "    'School: Decile','Decile ','')).withColumn('School: Decile', regexp_replace(\n",
    "    'School: Decile','Not Applicable','0'))\n",
    "gdf2=gdf2.withColumn('School: Decile', gdf2['School: Decile'].cast(IntegerType()))\n",
    "gdf2.select('School: Decile').distinct().show(20,False)"
   ]
  },
  {
   "cell_type": "code",
   "execution_count": null,
   "metadata": {},
   "outputs": [],
   "source": [
    "gdf2.select('School: Sector').distinct().show(20,False)"
   ]
  },
  {
   "cell_type": "code",
   "execution_count": null,
   "metadata": {},
   "outputs": [],
   "source": [
    "gdf2=gdf2.withColumn('School: Sector', regexp_replace(\n",
    "    'School: Sector','Primary','1')).withColumn('School: Sector', regexp_replace(\n",
    "    'School: Sector','Secondary','2')).withColumn('School: Sector', regexp_replace(\n",
    "    'School: Sector','Composite','3')).withColumn('School: Sector', regexp_replace(\n",
    "    'School: Sector','Special','4'))\n",
    "gdf2=gdf2.withColumn('School: Sector', gdf2['School: Sector'].cast(IntegerType()))\n",
    "gdf2.select('School: Sector').distinct().show(20,False)"
   ]
  },
  {
   "cell_type": "code",
   "execution_count": null,
   "metadata": {},
   "outputs": [],
   "source": [
    "gdf2.dtypes"
   ]
  },
  {
   "cell_type": "code",
   "execution_count": null,
   "metadata": {},
   "outputs": [],
   "source": [
    "my_col = gdf2.columns"
   ]
  },
  {
   "cell_type": "code",
   "execution_count": null,
   "metadata": {},
   "outputs": [],
   "source": [
    "from pyspark.mllib.stat import Statistics"
   ]
  },
  {
   "cell_type": "code",
   "execution_count": null,
   "metadata": {},
   "outputs": [],
   "source": [
    "gdf2.corr('Student: Year level grouped','School: Sector')"
   ]
  },
  {
   "cell_type": "code",
   "execution_count": null,
   "metadata": {},
   "outputs": [],
   "source": [
    "my_col.remove('School: Sector')"
   ]
  },
  {
   "cell_type": "code",
   "execution_count": null,
   "metadata": {},
   "outputs": [],
   "source": [
    "gdf2.corr('Student: Maori Language in Education level','Student: Maori Language Immersion Level')"
   ]
  },
  {
   "cell_type": "code",
   "execution_count": null,
   "metadata": {},
   "outputs": [],
   "source": [
    "gdf2.corr('Student: Maori Language in Education level','School: Highest Maori Language Immersion Level')"
   ]
  },
  {
   "cell_type": "code",
   "execution_count": null,
   "metadata": {},
   "outputs": [],
   "source": [
    "gdf2.corr('Student: Maori Language in Education level','School: Maori Language Descriptor')"
   ]
  },
  {
   "cell_type": "code",
   "execution_count": null,
   "metadata": {},
   "outputs": [],
   "source": [
    "gdf2.corr('Student: Maori Language in Education level','School: Medium')"
   ]
  },
  {
   "cell_type": "code",
   "execution_count": null,
   "metadata": {},
   "outputs": [],
   "source": [
    "my_col.remove('Student: Maori Language Immersion Level')\n",
    "my_col.remove('School: Highest Maori Language Immersion Level')\n",
    "my_col.remove('School: Maori Language Descriptor')\n",
    "my_col.remove('School: Medium')\n",
    "gdf3 = gdf2[my_col]\n",
    "gdf3.dtypes"
   ]
  },
  {
   "cell_type": "code",
   "execution_count": null,
   "metadata": {},
   "outputs": [],
   "source": [
    "gdf2.corr('Students Number sumed', 'Student: Year level grouped')"
   ]
  },
  {
   "cell_type": "code",
   "execution_count": null,
   "metadata": {},
   "outputs": [],
   "source": [
    "gdf2.corr('Students Number sumed', 'School: Kura Type')"
   ]
  },
  {
   "cell_type": "code",
   "execution_count": null,
   "metadata": {},
   "outputs": [],
   "source": [
    "gdf2.corr('Students Number sumed', 'School: Authority')"
   ]
  },
  {
   "cell_type": "code",
   "execution_count": null,
   "metadata": {},
   "outputs": [],
   "source": [
    "my_col.remove('Student: Year level grouped')\n",
    "my_col.remove('School: Kura Type')\n",
    "my_col.remove('School: Authority')\n",
    "gdf3 = gdf2[my_col]\n",
    "gdf3.dtypes"
   ]
  },
  {
   "cell_type": "code",
   "execution_count": null,
   "metadata": {},
   "outputs": [],
   "source": [
    "# Import VectorAssembler and Vectors\n",
    "from pyspark.ml.linalg import Vectors\n",
    "from pyspark.ml.feature import (VectorAssembler, StringIndexer)"
   ]
  },
  {
   "cell_type": "code",
   "execution_count": null,
   "metadata": {},
   "outputs": [],
   "source": [
    "# create a string indexer for TA column\n",
    "TA_indexer = StringIndexer(inputCol='Region: TA with Auckland local boards',outputCol='TAIndex')\n",
    "gdf3_indexed = TA_indexer.fit(gdf3).transform(gdf3)\n",
    "gdf3_indexed.dtypes"
   ]
  },
  {
   "cell_type": "code",
   "execution_count": null,
   "metadata": {},
   "outputs": [],
   "source": [
    "import numpy as np\n",
    "import matplotlib\n",
    "import matplotlib.pyplot as plt\n",
    "%matplotlib inline"
   ]
  },
  {
   "cell_type": "code",
   "execution_count": null,
   "metadata": {},
   "outputs": [],
   "source": [
    "gdf3_indexed.select('Students Number sumed').describe().show()"
   ]
  },
  {
   "cell_type": "code",
   "execution_count": null,
   "metadata": {},
   "outputs": [],
   "source": [
    "studentArr=np.array(gdf3_indexed.select('Students Number sumed').collect())\n",
    "plt.hist(studentArr, bins=50)\n",
    "plt.show()"
   ]
  },
  {
   "cell_type": "code",
   "execution_count": null,
   "metadata": {},
   "outputs": [],
   "source": [
    "from pyspark.sql import functions as F\n",
    "gdf4=gdf3_indexed.withColumn(\"logvalue\", F.log('Students Number sumed'))"
   ]
  },
  {
   "cell_type": "code",
   "execution_count": null,
   "metadata": {},
   "outputs": [],
   "source": [
    "studentArr=np.array(gdf4.select('logvalue').collect())\n",
    "plt.hist(studentArr, bins=50)\n",
    "plt.show()"
   ]
  },
  {
   "cell_type": "code",
   "execution_count": null,
   "metadata": {},
   "outputs": [],
   "source": [
    "gdf4 = gdf4.filter(gdf4['logvalue']>1).filter(gdf4['Students Number sumed']<2000)\n",
    "gdf4.select('Students Number sumed').describe().show()"
   ]
  },
  {
   "cell_type": "code",
   "execution_count": null,
   "metadata": {},
   "outputs": [],
   "source": [
    "studentArr=np.array(gdf4.select('logvalue').collect())\n",
    "plt.hist(studentArr, bins=50)\n",
    "plt.show()"
   ]
  },
  {
   "cell_type": "code",
   "execution_count": null,
   "metadata": {},
   "outputs": [],
   "source": [
    "gdf4.dtypes"
   ]
  },
  {
   "cell_type": "code",
   "execution_count": null,
   "metadata": {},
   "outputs": [],
   "source": [
    "# assemble all columns as one vector in the features column. \n",
    "assembler = VectorAssembler(inputCols=[\n",
    " 'Student: Ethnicity',\n",
    " 'Student: Maori Language in Education level',\n",
    " 'School: Decile',\n",
    " 'Total-school-age',\n",
    " 'Maori-school-age', \n",
    " 'non-Maori-school-age',\n",
    " 'TAIndex'],outputCol='features')"
   ]
  },
  {
   "cell_type": "code",
   "execution_count": null,
   "metadata": {},
   "outputs": [],
   "source": [
    "output = assembler.transform(gdf4)\n",
    "final_data = output.select(\"features\",\"Students Number sumed\")\n",
    "final_data.show()"
   ]
  },
  {
   "cell_type": "code",
   "execution_count": null,
   "metadata": {},
   "outputs": [],
   "source": [
    "# randomised 80/20 split\n",
    "train_data, test_data = final_data.randomSplit([0.8,0.2])\n",
    "train_data.describe().show()\n",
    "test_data.describe().show()\n"
   ]
  },
  {
   "cell_type": "code",
   "execution_count": null,
   "metadata": {},
   "outputs": [],
   "source": [
    "# decision tree regression model\n",
    "from pyspark.ml.regression import DecisionTreeRegressor\n",
    "from pyspark.ml.feature import VectorIndexer\n",
    "from pyspark.ml.evaluation import RegressionEvaluator"
   ]
  },
  {
   "cell_type": "code",
   "execution_count": null,
   "metadata": {},
   "outputs": [],
   "source": [
    "# exclude TAIndex in the features column. \n",
    "assembler = VectorAssembler(inputCols=[\n",
    " 'Student: Maori Language in Education level',\n",
    " 'School: Decile',\n",
    " 'Student: Ethnicity', \n",
    " 'Total-school-age',\n",
    " 'Maori-school-age',\n",
    " 'non-Maori-school-age'],outputCol='features')\n",
    "output = assembler.transform(gdf4)\n",
    "final_data = output.select(\"features\",\"Students Number sumed\")\n",
    "train_data, test_data = final_data.randomSplit([0.8,0.2])"
   ]
  },
  {
   "cell_type": "code",
   "execution_count": null,
   "metadata": {},
   "outputs": [],
   "source": [
    "# train a DecisionTree model.\n",
    "dt = DecisionTreeRegressor(labelCol=\"Students Number sumed\",featuresCol=\"features\")\n",
    "dt_model = dt.fit(train_data)"
   ]
  },
  {
   "cell_type": "code",
   "execution_count": null,
   "metadata": {},
   "outputs": [],
   "source": [
    "print(dt_model.toDebugString)"
   ]
  },
  {
   "cell_type": "code",
   "execution_count": null,
   "metadata": {},
   "outputs": [],
   "source": [
    "dt_prediction = dt_model.transform(test_data)\n",
    "dt_prediction.show(10)"
   ]
  },
  {
   "cell_type": "code",
   "execution_count": null,
   "metadata": {},
   "outputs": [],
   "source": [
    "# compute test error\n",
    "evaluator = RegressionEvaluator(\n",
    "    labelCol=\"Students Number sumed\", predictionCol=\"prediction\", metricName=\"rmse\")\n",
    "rmse = evaluator.evaluate(dt_prediction)\n",
    "rmse"
   ]
  },
  {
   "cell_type": "code",
   "execution_count": null,
   "metadata": {},
   "outputs": [],
   "source": [
    "# linear regression model\n",
    "from pyspark.ml.regression import LinearRegression"
   ]
  },
  {
   "cell_type": "code",
   "execution_count": null,
   "metadata": {},
   "outputs": [],
   "source": [
    "lr = LinearRegression(labelCol='Students Number sumed')\n",
    "\n",
    "# Fit the model to the data.\n",
    "lrModel = lr.fit(train_data)\n",
    "\n",
    "# Print the coefficients and intercept for linear regression.\n",
    "print(\"Coefficients: {} Intercept: {}\".format(lrModel.coefficients,lrModel.intercept))"
   ]
  },
  {
   "cell_type": "code",
   "execution_count": null,
   "metadata": {},
   "outputs": [],
   "source": [
    "# evaluate the model against the test data.\n",
    "test_results = lrModel.evaluate(test_data)"
   ]
  },
  {
   "cell_type": "code",
   "execution_count": null,
   "metadata": {},
   "outputs": [],
   "source": [
    "# residuals show the difference between the predicted value and the test data.\n",
    "test_results.residuals.show(5)\n",
    "\n",
    "print(\"RSME: {}\".format(test_results.rootMeanSquaredError))"
   ]
  }
 ],
 "metadata": {
  "kernelspec": {
   "display_name": "Python 3",
   "language": "python",
   "name": "python3"
  },
  "language_info": {
   "codemirror_mode": {
    "name": "ipython",
    "version": 3
   },
   "file_extension": ".py",
   "mimetype": "text/x-python",
   "name": "python",
   "nbconvert_exporter": "python",
   "pygments_lexer": "ipython3",
   "version": "3.5.2"
  }
 },
 "nbformat": 4,
 "nbformat_minor": 2
}
