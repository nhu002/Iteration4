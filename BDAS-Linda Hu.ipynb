{
 "cells": [
  {
   "cell_type": "code",
   "execution_count": 1,
   "metadata": {},
   "outputs": [],
   "source": [
    "import findspark\n",
    "findspark.init(\"/home/ubuntu/spark-2.1.1-bin-hadoop2.7\")\n",
    "import pyspark\n",
    "from pyspark.sql import SparkSession\n",
    "spark = SparkSession.builder.appName('BDAS-Linda').getOrCreate()\n",
    "\n",
    "from functools import reduce\n",
    "from pyspark.sql import DataFrame\n"
   ]
  },
  {
   "cell_type": "code",
   "execution_count": 2,
   "metadata": {},
   "outputs": [
    {
     "data": {
      "text/plain": [
       "['Students Number',\n",
       " 'Year: As at 1 July',\n",
       " 'Student: Ethnicity',\n",
       " 'Student: Year level',\n",
       " 'Student: Year level (Grouped)',\n",
       " 'Student: Maori Language Immersion Level',\n",
       " 'Student: Maori Language in Education level',\n",
       " 'School: ID',\n",
       " 'School: Maori Language Descriptor',\n",
       " 'School: Medium',\n",
       " 'School: Highest Maori Language Immersion Level',\n",
       " 'School: Name',\n",
       " 'School: Sector',\n",
       " 'School: Type',\n",
       " 'School: Authority',\n",
       " 'School: Decile',\n",
       " 'School: Gender',\n",
       " 'School: Affiliation Type',\n",
       " 'School: Affiliation',\n",
       " 'School: Definition',\n",
       " 'School: Kura Type',\n",
       " 'Region: Education Region',\n",
       " 'Region: Regional Council',\n",
       " 'Region: Territorial Authority',\n",
       " 'Region: TA with Auckland wards',\n",
       " 'Region: TA with Auckland local boards',\n",
       " 'Region: MOE Local office',\n",
       " 'Region: Census area unit',\n",
       " 'Region: Ward']"
      ]
     },
     "execution_count": 2,
     "metadata": {},
     "output_type": "execute_result"
    }
   ],
   "source": [
    "# import Maori language in education datasets\n",
    "filename1 = \"./Maori-Language-Learning-Student-Numbers-by-Ethnicity-2004-2008.csv\"\n",
    "filename2 = \"./Maori-Language-Learning-Student-Numbers-by-Ethnicity-2009-2013.csv\"\n",
    "filename3 = \"./Maori-Language-Learning-Student-Numbers-by-Ethnicity-2014-2018.csv\"\n",
    "filename4 = \"./Maori-Language-Learning-Student-Numbers-by-Ethnicity-2019.csv\"\n",
    "MLLSN1=spark.read.load(filename1, format=\"csv\", header=\"true\")\n",
    "MLLSN2=spark.read.load(filename2, format=\"csv\", header=\"true\")\n",
    "MLLSN3=spark.read.load(filename3, format=\"csv\", header=\"true\")\n",
    "MLLSN4=spark.read.load(filename4, format=\"csv\", header=\"true\")\n",
    "\n",
    "def unionAll(*dfs):\n",
    "    return reduce(DataFrame.unionAll, dfs)\n",
    "\n",
    "MLLSN=unionAll(MLLSN1,MLLSN2,MLLSN3,MLLSN4)\n",
    "MLLSN.columns"
   ]
  },
  {
   "cell_type": "code",
   "execution_count": 3,
   "metadata": {},
   "outputs": [
    {
     "data": {
      "text/plain": [
       "['TA with Auckland Local Board',\n",
       " 'Year at 30 June',\n",
       " 'Euro-all-ages',\n",
       " 'Euro-5-9',\n",
       " 'Euro-10-14',\n",
       " 'Euro-15-19',\n",
       " 'Maori-all-ages',\n",
       " 'Maori-5-9',\n",
       " 'Maori-10-14',\n",
       " 'Maori-15-19',\n",
       " 'Asian-all-ages',\n",
       " 'Asian-5-9',\n",
       " 'Asian-10-14',\n",
       " 'Asian-15-19',\n",
       " 'Pacific-all-ages',\n",
       " 'Pacific-5-9',\n",
       " 'Pacific-10-14',\n",
       " 'Pacific-15-19',\n",
       " 'Total-all-ages',\n",
       " 'Total-5-9',\n",
       " 'Total-10-14',\n",
       " 'Total-15-19']"
      ]
     },
     "execution_count": 3,
     "metadata": {},
     "output_type": "execute_result"
    }
   ],
   "source": [
    "# import population data\n",
    "filename = \"./Subnational-ethnic-population-projections-2013base.csv\"\n",
    "POP=spark.read.load(filename, format=\"csv\", header=\"true\")\n",
    "POP.columns"
   ]
  },
  {
   "cell_type": "code",
   "execution_count": 4,
   "metadata": {},
   "outputs": [
    {
     "data": {
      "text/plain": [
       "624768"
      ]
     },
     "execution_count": 4,
     "metadata": {},
     "output_type": "execute_result"
    }
   ],
   "source": [
    "MLLSN.count()"
   ]
  },
  {
   "cell_type": "code",
   "execution_count": 5,
   "metadata": {},
   "outputs": [
    {
     "name": "stdout",
     "output_type": "stream",
     "text": [
      "root\n",
      " |-- Students Number: string (nullable = true)\n",
      " |-- Year: As at 1 July: string (nullable = true)\n",
      " |-- Student: Ethnicity: string (nullable = true)\n",
      " |-- Student: Year level: string (nullable = true)\n",
      " |-- Student: Year level (Grouped): string (nullable = true)\n",
      " |-- Student: Maori Language Immersion Level: string (nullable = true)\n",
      " |-- Student: Maori Language in Education level: string (nullable = true)\n",
      " |-- School: ID: string (nullable = true)\n",
      " |-- School: Maori Language Descriptor: string (nullable = true)\n",
      " |-- School: Medium: string (nullable = true)\n",
      " |-- School: Highest Maori Language Immersion Level: string (nullable = true)\n",
      " |-- School: Name: string (nullable = true)\n",
      " |-- School: Sector: string (nullable = true)\n",
      " |-- School: Type: string (nullable = true)\n",
      " |-- School: Authority: string (nullable = true)\n",
      " |-- School: Decile: string (nullable = true)\n",
      " |-- School: Gender: string (nullable = true)\n",
      " |-- School: Affiliation Type: string (nullable = true)\n",
      " |-- School: Affiliation: string (nullable = true)\n",
      " |-- School: Definition: string (nullable = true)\n",
      " |-- School: Kura Type: string (nullable = true)\n",
      " |-- Region: Education Region: string (nullable = true)\n",
      " |-- Region: Regional Council: string (nullable = true)\n",
      " |-- Region: Territorial Authority: string (nullable = true)\n",
      " |-- Region: TA with Auckland wards: string (nullable = true)\n",
      " |-- Region: TA with Auckland local boards: string (nullable = true)\n",
      " |-- Region: MOE Local office: string (nullable = true)\n",
      " |-- Region: Census area unit: string (nullable = true)\n",
      " |-- Region: Ward: string (nullable = true)\n",
      "\n"
     ]
    }
   ],
   "source": [
    "MLLSN.printSchema()"
   ]
  },
  {
   "cell_type": "code",
   "execution_count": 6,
   "metadata": {},
   "outputs": [
    {
     "data": {
      "text/plain": [
       "528"
      ]
     },
     "execution_count": 6,
     "metadata": {},
     "output_type": "execute_result"
    }
   ],
   "source": [
    "POP.count()"
   ]
  },
  {
   "cell_type": "code",
   "execution_count": 7,
   "metadata": {},
   "outputs": [
    {
     "name": "stdout",
     "output_type": "stream",
     "text": [
      "root\n",
      " |-- TA with Auckland Local Board: string (nullable = true)\n",
      " |-- Year at 30 June: string (nullable = true)\n",
      " |-- Euro-all-ages: string (nullable = true)\n",
      " |-- Euro-5-9: string (nullable = true)\n",
      " |-- Euro-10-14: string (nullable = true)\n",
      " |-- Euro-15-19: string (nullable = true)\n",
      " |-- Maori-all-ages: string (nullable = true)\n",
      " |-- Maori-5-9: string (nullable = true)\n",
      " |-- Maori-10-14: string (nullable = true)\n",
      " |-- Maori-15-19: string (nullable = true)\n",
      " |-- Asian-all-ages: string (nullable = true)\n",
      " |-- Asian-5-9: string (nullable = true)\n",
      " |-- Asian-10-14: string (nullable = true)\n",
      " |-- Asian-15-19: string (nullable = true)\n",
      " |-- Pacific-all-ages: string (nullable = true)\n",
      " |-- Pacific-5-9: string (nullable = true)\n",
      " |-- Pacific-10-14: string (nullable = true)\n",
      " |-- Pacific-15-19: string (nullable = true)\n",
      " |-- Total-all-ages: string (nullable = true)\n",
      " |-- Total-5-9: string (nullable = true)\n",
      " |-- Total-10-14: string (nullable = true)\n",
      " |-- Total-15-19: string (nullable = true)\n",
      "\n"
     ]
    }
   ],
   "source": [
    "POP.printSchema()"
   ]
  },
  {
   "cell_type": "code",
   "execution_count": 11,
   "metadata": {},
   "outputs": [
    {
     "data": {
      "text/plain": [
       "[Row(TA with Auckland Local Board='Far North district', Year at 30 June='2013', Euro-all-ages='40800', Euro-5-9='2750', Euro-10-14='2770', Euro-15-19='2420', Maori-all-ages='27100', Maori-5-9='2980', Maori-10-14='2950', Maori-15-19='2510', Asian-all-ages='1630', Asian-5-9='130', Asian-10-14='115', Asian-15-19='100', Pacific-all-ages='2540', Pacific-5-9='360', Pacific-10-14='390', Pacific-15-19='280', Total-all-ages='60600', Total-5-9='4560', Total-10-14='4710', Total-15-19='4140'),\n",
       " Row(TA with Auckland Local Board='Far North district', Year at 30 June='2018', Euro-all-ages='42600', Euro-5-9='3080', Euro-10-14='2850', Euro-15-19='2020', Maori-all-ages='28700', Maori-5-9='3200', Maori-10-14='3070', Maori-15-19='2720', Asian-all-ages='2310', Asian-5-9='200', Asian-10-14='160', Asian-15-19='120', Pacific-all-ages='3110', Pacific-5-9='480', Pacific-10-14='390', Pacific-15-19='400', Total-all-ages='62900', Total-5-9='4820', Total-10-14='4730', Total-15-19='3960'),\n",
       " Row(TA with Auckland Local Board='Far North district', Year at 30 June='2023', Euro-all-ages='43800', Euro-5-9='3150', Euro-10-14='3150', Euro-15-19='2060', Maori-all-ages='30300', Maori-5-9='3050', Maori-10-14='3320', Maori-15-19='2860', Asian-all-ages='2920', Asian-5-9='270', Asian-10-14='220', Asian-15-19='150', Pacific-all-ages='3760', Pacific-5-9='510', Pacific-10-14='500', Pacific-15-19='400', Total-all-ages='64100', Total-5-9='4470', Total-10-14='4970', Total-15-19='3940'),\n",
       " Row(TA with Auckland Local Board='Far North district', Year at 30 June='2028', Euro-all-ages='44900', Euro-5-9='3310', Euro-10-14='3230', Euro-15-19='2350', Maori-all-ages='31800', Maori-5-9='3090', Maori-10-14='3160', Maori-15-19='3120', Asian-all-ages='3440', Asian-5-9='310', Asian-10-14='280', Asian-15-19='210', Pacific-all-ages='4470', Pacific-5-9='600', Pacific-10-14='530', Pacific-15-19='510', Total-all-ages='64900', Total-5-9='4490', Total-10-14='4620', Total-15-19='4180'),\n",
       " Row(TA with Auckland Local Board='Far North district', Year at 30 June='2033', Euro-all-ages='45700', Euro-5-9='3390', Euro-10-14='3380', Euro-15-19='2430', Maori-all-ages='33300', Maori-5-9='3120', Maori-10-14='3210', Maori-15-19='2950', Asian-all-ages='3940', Asian-5-9='320', Asian-10-14='320', Asian-15-19='270', Pacific-all-ages='5280', Pacific-5-9='710', Pacific-10-14='620', Pacific-15-19='530', Total-all-ages='65200', Total-5-9='4350', Total-10-14='4630', Total-15-19='3830')]"
      ]
     },
     "execution_count": 11,
     "metadata": {},
     "output_type": "execute_result"
    }
   ],
   "source": [
    "POP.head(5)"
   ]
  },
  {
   "cell_type": "code",
   "execution_count": 12,
   "metadata": {},
   "outputs": [
    {
     "data": {
      "text/plain": [
       "[Row(Students Number='1', Year: As at 1 July='2004', Student: Ethnicity='Maori', Student: Year level='Year 1', Student: Year level (Grouped)='Primary (Year 1-8)', Student: Maori Language Immersion Level='Level 1: 81-100%', Student: Maori Language in Education level='Maori medium', School: ID='6', School: Maori Language Descriptor='Mixed Maori language in education school', School: Medium='English and Maori medium', School: Highest Maori Language Immersion Level='Level 1: 81-100%', School: Name='Broadwood Area School', School: Sector='Composite', School: Type='Composite (Year 1-15)', School: Authority='State: Not integrated', School: Decile='Decile 2', School: Gender='Co-Ed', School: Affiliation Type='No Affiliation', School: Affiliation='Not Applicable', School: Definition='Not Applicable', School: Kura Type='Not a Kura School', Region: Education Region='Tai Tokerau', Region: Regional Council='Northland Region', Region: Territorial Authority='Far North District', Region: TA with Auckland wards='Far North District', Region: TA with Auckland local boards='Far North District', Region: MOE Local office='Whangarei', Region: Census area unit='Hokianga North', Region: Ward='Kaikohe-Hokianga Ward'),\n",
       " Row(Students Number='3', Year: As at 1 July='2004', Student: Ethnicity='Maori', Student: Year level='Year 2', Student: Year level (Grouped)='Primary (Year 1-8)', Student: Maori Language Immersion Level='Level 1: 81-100%', Student: Maori Language in Education level='Maori medium', School: ID='6', School: Maori Language Descriptor='Mixed Maori language in education school', School: Medium='English and Maori medium', School: Highest Maori Language Immersion Level='Level 1: 81-100%', School: Name='Broadwood Area School', School: Sector='Composite', School: Type='Composite (Year 1-15)', School: Authority='State: Not integrated', School: Decile='Decile 2', School: Gender='Co-Ed', School: Affiliation Type='No Affiliation', School: Affiliation='Not Applicable', School: Definition='Not Applicable', School: Kura Type='Not a Kura School', Region: Education Region='Tai Tokerau', Region: Regional Council='Northland Region', Region: Territorial Authority='Far North District', Region: TA with Auckland wards='Far North District', Region: TA with Auckland local boards='Far North District', Region: MOE Local office='Whangarei', Region: Census area unit='Hokianga North', Region: Ward='Kaikohe-Hokianga Ward'),\n",
       " Row(Students Number='3', Year: As at 1 July='2004', Student: Ethnicity='Maori', Student: Year level='Year 3', Student: Year level (Grouped)='Primary (Year 1-8)', Student: Maori Language Immersion Level='Level 1: 81-100%', Student: Maori Language in Education level='Maori medium', School: ID='6', School: Maori Language Descriptor='Mixed Maori language in education school', School: Medium='English and Maori medium', School: Highest Maori Language Immersion Level='Level 1: 81-100%', School: Name='Broadwood Area School', School: Sector='Composite', School: Type='Composite (Year 1-15)', School: Authority='State: Not integrated', School: Decile='Decile 2', School: Gender='Co-Ed', School: Affiliation Type='No Affiliation', School: Affiliation='Not Applicable', School: Definition='Not Applicable', School: Kura Type='Not a Kura School', Region: Education Region='Tai Tokerau', Region: Regional Council='Northland Region', Region: Territorial Authority='Far North District', Region: TA with Auckland wards='Far North District', Region: TA with Auckland local boards='Far North District', Region: MOE Local office='Whangarei', Region: Census area unit='Hokianga North', Region: Ward='Kaikohe-Hokianga Ward'),\n",
       " Row(Students Number='2', Year: As at 1 July='2004', Student: Ethnicity='Maori', Student: Year level='Year 4', Student: Year level (Grouped)='Primary (Year 1-8)', Student: Maori Language Immersion Level='Level 1: 81-100%', Student: Maori Language in Education level='Maori medium', School: ID='6', School: Maori Language Descriptor='Mixed Maori language in education school', School: Medium='English and Maori medium', School: Highest Maori Language Immersion Level='Level 1: 81-100%', School: Name='Broadwood Area School', School: Sector='Composite', School: Type='Composite (Year 1-15)', School: Authority='State: Not integrated', School: Decile='Decile 2', School: Gender='Co-Ed', School: Affiliation Type='No Affiliation', School: Affiliation='Not Applicable', School: Definition='Not Applicable', School: Kura Type='Not a Kura School', Region: Education Region='Tai Tokerau', Region: Regional Council='Northland Region', Region: Territorial Authority='Far North District', Region: TA with Auckland wards='Far North District', Region: TA with Auckland local boards='Far North District', Region: MOE Local office='Whangarei', Region: Census area unit='Hokianga North', Region: Ward='Kaikohe-Hokianga Ward'),\n",
       " Row(Students Number='3', Year: As at 1 July='2004', Student: Ethnicity='Maori', Student: Year level='Year 6', Student: Year level (Grouped)='Primary (Year 1-8)', Student: Maori Language Immersion Level='Level 1: 81-100%', Student: Maori Language in Education level='Maori medium', School: ID='6', School: Maori Language Descriptor='Mixed Maori language in education school', School: Medium='English and Maori medium', School: Highest Maori Language Immersion Level='Level 1: 81-100%', School: Name='Broadwood Area School', School: Sector='Composite', School: Type='Composite (Year 1-15)', School: Authority='State: Not integrated', School: Decile='Decile 2', School: Gender='Co-Ed', School: Affiliation Type='No Affiliation', School: Affiliation='Not Applicable', School: Definition='Not Applicable', School: Kura Type='Not a Kura School', Region: Education Region='Tai Tokerau', Region: Regional Council='Northland Region', Region: Territorial Authority='Far North District', Region: TA with Auckland wards='Far North District', Region: TA with Auckland local boards='Far North District', Region: MOE Local office='Whangarei', Region: Census area unit='Hokianga North', Region: Ward='Kaikohe-Hokianga Ward')]"
      ]
     },
     "execution_count": 12,
     "metadata": {},
     "output_type": "execute_result"
    }
   ],
   "source": [
    "MLLSN.head(5)"
   ]
  },
  {
   "cell_type": "code",
   "execution_count": null,
   "metadata": {},
   "outputs": [],
   "source": []
  }
 ],
 "metadata": {
  "kernelspec": {
   "display_name": "Python 3",
   "language": "python",
   "name": "python3"
  },
  "language_info": {
   "codemirror_mode": {
    "name": "ipython",
    "version": 3
   },
   "file_extension": ".py",
   "mimetype": "text/x-python",
   "name": "python",
   "nbconvert_exporter": "python",
   "pygments_lexer": "ipython3",
   "version": "3.5.2"
  }
 },
 "nbformat": 4,
 "nbformat_minor": 2
}
